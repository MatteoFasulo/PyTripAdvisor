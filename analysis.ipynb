{
 "cells": [
  {
   "cell_type": "code",
   "execution_count": 1,
   "metadata": {},
   "outputs": [
    {
     "name": "stdout",
     "output_type": "stream",
     "text": [
      "The Zen of Python, by Tim Peters\n",
      "\n",
      "Beautiful is better than ugly.\n",
      "Explicit is better than implicit.\n",
      "Simple is better than complex.\n",
      "Complex is better than complicated.\n",
      "Flat is better than nested.\n",
      "Sparse is better than dense.\n",
      "Readability counts.\n",
      "Special cases aren't special enough to break the rules.\n",
      "Although practicality beats purity.\n",
      "Errors should never pass silently.\n",
      "Unless explicitly silenced.\n",
      "In the face of ambiguity, refuse the temptation to guess.\n",
      "There should be one-- and preferably only one --obvious way to do it.\n",
      "Although that way may not be obvious at first unless you're Dutch.\n",
      "Now is better than never.\n",
      "Although never is often better than *right* now.\n",
      "If the implementation is hard to explain, it's a bad idea.\n",
      "If the implementation is easy to explain, it may be a good idea.\n",
      "Namespaces are one honking great idea -- let's do more of those!\n"
     ]
    }
   ],
   "source": [
    "import pandas as pd\n",
    "import plotly.graph_objects as go\n",
    "import plotly.express as px\n",
    "import numpy as np\n",
    "from collections import Counter\n",
    "\n",
    "from PyTripAdvisor import PyTripAdvisor"
   ]
  },
  {
   "cell_type": "code",
   "execution_count": null,
   "metadata": {},
   "outputs": [],
   "source": [
    "df = pd.read_csv('ristoranti_zone.csv', encoding='utf-8')\n",
    "df"
   ]
  },
  {
   "cell_type": "code",
   "execution_count": null,
   "metadata": {},
   "outputs": [],
   "source": [
    "unique_ratings = df.rating.unique().tolist()\n",
    "unique_ratings.insert(0,\"Rating\")"
   ]
  },
  {
   "cell_type": "code",
   "execution_count": null,
   "metadata": {},
   "outputs": [],
   "source": [
    "df.loc[(df.rating == 4.0) & (df.price == 2.5), 'total_reviews'].sum()"
   ]
  },
  {
   "cell_type": "code",
   "execution_count": null,
   "metadata": {},
   "outputs": [],
   "source": [
    "fig =go.Figure(go.Sunburst(\n",
    "    labels=[\n",
    "        \"Rating\", \n",
    "        \"1.0 &#9733;\", \n",
    "        \"1.5 &#9733;\", \n",
    "        \"2.0 &#9733;\", \n",
    "        \"2.5 &#9733;\", \n",
    "        \"3.0 &#9733;\", \n",
    "        \"3.5 &#9733;\", \n",
    "        \"4.0 &#9733;\", \n",
    "        \"4.5 &#9733;\", \n",
    "        \"5.0 &#9733;\", \n",
    "        \"&#8364;\", \n",
    "        \"&#8364;&#8364; - &#8364;&#8364;&#8364;\", \n",
    "        \"&#8364;&#8364;&#8364;&#8364;\", \n",
    "        \"&#8364;\", \n",
    "        \"&#8364;&#8364; - &#8364;&#8364;&#8364;\", \n",
    "        \"&#8364;&#8364;&#8364;&#8364;\", \n",
    "        \"&#8364;\", \n",
    "        \"&#8364;&#8364; - &#8364;&#8364;&#8364;\", \n",
    "        \"&#8364;&#8364;&#8364;&#8364;\", \n",
    "        \"&#8364;\", \n",
    "        \"&#8364;&#8364; - &#8364;&#8364;&#8364;\", \n",
    "        \"&#8364;&#8364;&#8364;&#8364;\", \n",
    "        \"&#8364;\", \n",
    "        \"&#8364;&#8364; - &#8364;&#8364;&#8364;\", \n",
    "        \"&#8364;&#8364;&#8364;&#8364;\", \n",
    "        \"&#8364;\", \n",
    "        \"&#8364;&#8364; - &#8364;&#8364;&#8364;\", \n",
    "        \"&#8364;&#8364;&#8364;&#8364;\", \n",
    "        \"&#8364;\", \n",
    "        \"&#8364;&#8364; - &#8364;&#8364;&#8364;\", \n",
    "        \"&#8364;&#8364;&#8364;&#8364;\", \n",
    "        \"&#8364;\", \n",
    "        \"&#8364;&#8364; - &#8364;&#8364;&#8364;\", \n",
    "        \"&#8364;&#8364;&#8364;&#8364;\",\n",
    "        \"&#8364;\", \n",
    "        \"&#8364;&#8364; - &#8364;&#8364;&#8364;\", \n",
    "        \"&#8364;&#8364;&#8364;&#8364;\"\n",
    "        ],\n",
    "    parents=[\n",
    "        \"\", \n",
    "        \"Rating\", \n",
    "        \"Rating\", \n",
    "        \"Rating\", \n",
    "        \"Rating\",\n",
    "        \"Rating\", \n",
    "        \"Rating\", \n",
    "        \"Rating\", \n",
    "        \"Rating\",\n",
    "        \"Rating\",\n",
    "        \"1.0 &#9733;\",\n",
    "        \"1.0 &#9733;\",\n",
    "        \"1.0 &#9733;\",\n",
    "        \"1.5 &#9733;\",\n",
    "        \"1.5 &#9733;\",\n",
    "        \"1.5 &#9733;\",\n",
    "        \"2.0 &#9733;\",\n",
    "        \"2.0 &#9733;\",\n",
    "        \"2.0 &#9733;\",\n",
    "        \"2.5 &#9733;\",\n",
    "        \"2.5 &#9733;\",\n",
    "        \"2.5 &#9733;\",\n",
    "        \"3.0 &#9733;\",\n",
    "        \"3.0 &#9733;\",\n",
    "        \"3.0 &#9733;\",\n",
    "        \"3.5 &#9733;\", \n",
    "        \"3.5 &#9733;\", \n",
    "        \"3.5 &#9733;\", \n",
    "        \"4.0 &#9733;\", \n",
    "        \"4.0 &#9733;\", \n",
    "        \"4.0 &#9733;\", \n",
    "        \"4.5 &#9733;\", \n",
    "        \"4.5 &#9733;\", \n",
    "        \"4.5 &#9733;\", \n",
    "        \"5.0 &#9733;\", \n",
    "        \"5.0 &#9733;\", \n",
    "        \"5.0 &#9733;\"],\n",
    "    values=[\n",
    "        df.loc[df.rating == 1.0, 'total_reviews'].sum()+df.loc[df.rating == 1.5, 'total_reviews'].sum()+df.loc[df.rating == 2.0, 'total_reviews'].sum()+df.loc[df.rating == 2.5, 'total_reviews'].sum()+df.loc[df.rating == 3.0, 'total_reviews'].sum()+df.loc[df.rating == 3.5, 'total_reviews'].sum()+df.loc[df.rating == 4.0, 'total_reviews'].sum()+df.loc[df.rating == 4.5, 'total_reviews'].sum()+df.loc[df.rating == 5.0, 'total_reviews'].sum(),\n",
    "        df.loc[df.rating == 1.0, 'total_reviews'].sum(),\n",
    "        df.loc[df.rating == 1.5, 'total_reviews'].sum(),\n",
    "        df.loc[df.rating == 2.0, 'total_reviews'].sum(),\n",
    "        df.loc[df.rating == 2.5, 'total_reviews'].sum(),\n",
    "        df.loc[df.rating == 3.0, 'total_reviews'].sum(),\n",
    "        df.loc[df.rating == 3.5, 'total_reviews'].sum(),\n",
    "        df.loc[df.rating == 4.0, 'total_reviews'].sum(),\n",
    "        df.loc[df.rating == 4.5, 'total_reviews'].sum(),\n",
    "        df.loc[df.rating == 5.0, 'total_reviews'].sum(),\n",
    "        df.loc[(df.rating == 1.0) & (df.price == 1), 'total_reviews'].sum(),\n",
    "        df.loc[(df.rating == 1.0) & (df.price == 2.5), 'total_reviews'].sum(),\n",
    "        df.loc[(df.rating == 1.0) & (df.price == 4), 'total_reviews'].sum(),\n",
    "        df.loc[(df.rating == 1.5) & (df.price == 1), 'total_reviews'].sum(),\n",
    "        df.loc[(df.rating == 1.5) & (df.price == 2.5), 'total_reviews'].sum(),\n",
    "        df.loc[(df.rating == 1.5) & (df.price == 4), 'total_reviews'].sum(),\n",
    "        df.loc[(df.rating == 2.0) & (df.price == 1), 'total_reviews'].sum(),\n",
    "        df.loc[(df.rating == 2.0) & (df.price == 2.5), 'total_reviews'].sum(),\n",
    "        df.loc[(df.rating == 2.0) & (df.price == 4), 'total_reviews'].sum(),\n",
    "        df.loc[(df.rating == 2.5) & (df.price == 1), 'total_reviews'].sum(),\n",
    "        df.loc[(df.rating == 2.5) & (df.price == 2.5), 'total_reviews'].sum(),\n",
    "        df.loc[(df.rating == 2.5) & (df.price == 4), 'total_reviews'].sum(),\n",
    "        df.loc[(df.rating == 3.0) & (df.price == 1), 'total_reviews'].sum(),\n",
    "        df.loc[(df.rating == 3.0) & (df.price == 2.5), 'total_reviews'].sum(),\n",
    "        df.loc[(df.rating == 3.0) & (df.price == 4), 'total_reviews'].sum(),\n",
    "        df.loc[(df.rating == 3.5) & (df.price == 1), 'total_reviews'].sum(),\n",
    "        df.loc[(df.rating == 3.5) & (df.price == 2.5), 'total_reviews'].sum(),\n",
    "        df.loc[(df.rating == 3.5) & (df.price == 4), 'total_reviews'].sum(),\n",
    "        df.loc[(df.rating == 4.0) & (df.price == 1), 'total_reviews'].sum(),\n",
    "        df.loc[(df.rating == 4.0) & (df.price == 2.5), 'total_reviews'].sum(),\n",
    "        df.loc[(df.rating == 4.0) & (df.price == 4), 'total_reviews'].sum(),\n",
    "        df.loc[(df.rating == 4.5) & (df.price == 1), 'total_reviews'].sum(),\n",
    "        df.loc[(df.rating == 4.5) & (df.price == 2.5), 'total_reviews'].sum(),\n",
    "        df.loc[(df.rating == 4.5) & (df.price == 4), 'total_reviews'].sum(),\n",
    "        df.loc[(df.rating == 5.0) & (df.price == 1), 'total_reviews'].sum(),\n",
    "        df.loc[(df.rating == 5.0) & (df.price == 2.5), 'total_reviews'].sum(),\n",
    "        df.loc[(df.rating == 5.0) & (df.price == 4), 'total_reviews'].sum()],\n",
    "))\n",
    "fig.update_layout(margin = dict(t=0, l=0, r=0, b=0))\n",
    "\n",
    "fig.show()\n",
    "fig.write_html(\"sunburst.html\")\n",
    "# la maggior parte dei ristoranti ha un voto tra le 4 e le 4.5 stelle con predominanza dei ristoranti in fascia di prezzo media. La categoria dei ristoranti con 5 stelle, invece, presenta ugual numero di\n",
    "# ristoranti di fascia economica e media"
   ]
  },
  {
   "cell_type": "code",
   "execution_count": null,
   "metadata": {},
   "outputs": [],
   "source": [
    "df[['price','total_reviews']].corr()\n",
    "\n",
    "# non c'è correlazione tra il costo di un ristorante e il suo numero di recensioni"
   ]
  },
  {
   "cell_type": "code",
   "execution_count": null,
   "metadata": {},
   "outputs": [],
   "source": [
    "ordered_ratings = df[['total_reviews','price','rating']].groupby(['price','rating']).mean().reset_index()"
   ]
  },
  {
   "cell_type": "code",
   "execution_count": null,
   "metadata": {},
   "outputs": [],
   "source": [
    "fig = px.histogram(\n",
    "    ordered_ratings.sort_values(\"price\", ascending=True),\n",
    "    x = ordered_ratings.price,\n",
    "    y = ordered_ratings.total_reviews,\n",
    "    color=ordered_ratings.rating, \n",
    "    width=1200, \n",
    "    height=400,\n",
    "    barmode='group',\n",
    "    color_discrete_sequence = px.colors.sequential.Plasma_r,\n",
    "    histfunc='avg',\n",
    "    labels=dict(x=\"Price (&#8364;)\", y=\"rating\", color=\"Rating &#9733;\"))\n",
    "fig.update_xaxes(type='category')\n",
    "fig.show()\n",
    "\n",
    "# nei ristoranti più economici si recensisce quando si è generalmente più scontenti\n",
    "# nei ristoranti di fascia media si recensisce maggiormente quando si è soddisfatti\n",
    "# nei ristoranti costosi si scrive molto di più quando si è fortemente insoddisfatti "
   ]
  },
  {
   "cell_type": "code",
   "execution_count": null,
   "metadata": {},
   "outputs": [],
   "source": [
    "fig = px.bar(\n",
    "    df[['total_reviews','nome']].groupby('nome').count().sort_values(by='total_reviews'),\n",
    "    orientation=\"h\",\n",
    "    template=\"ggplot2\",\n",
    "    labels={'value':'N. Restaurants', 'nome': 'Municipio'}\n",
    "    )\n",
    "fig.update_layout(showlegend=False, title=\"Count of Restaurants by Municipio\")\n",
    "fig.show()\n",
    "\n",
    "# Intuitivo -> la maggior parte dei ristoranti sta al centro (https://it.wikipedia.org/wiki/Municipio_Roma_I)\n",
    "# Tor bella -> ultimo per numero ristoranti (SIUM)"
   ]
  },
  {
   "cell_type": "code",
   "execution_count": null,
   "metadata": {},
   "outputs": [],
   "source": [
    "test = df[['name','rating','nome']].groupby('nome').agg(\n",
    "    total_restaurants=pd.NamedAgg(column='name', aggfunc=np.size),\n",
    "    mean_rating = pd.NamedAgg(column=\"rating\", aggfunc=np.mean),\n",
    ").reset_index()"
   ]
  },
  {
   "cell_type": "code",
   "execution_count": null,
   "metadata": {},
   "outputs": [],
   "source": [
    "\n",
    "fig = px.treemap(\n",
    "    test, \n",
    "    path=[px.Constant('Municipi'), 'nome'], \n",
    "    values='total_restaurants', \n",
    "    color='mean_rating',\n",
    "    width=1600, \n",
    "    height=900, \n",
    "    labels={'mean_rating': 'Mean Rating'})\n",
    "fig.update_layout(title_text='Treemap of Rome restaurants coloured by Mean Rating', title_x=0.5, title_y=0.985)\n",
    "fig.update_layout(margin=dict(l=10, r=10, t=40, b=15))\n",
    "fig.show()"
   ]
  },
  {
   "cell_type": "code",
   "execution_count": 2,
   "metadata": {},
   "outputs": [],
   "source": [
    "def mergeDictionary(dict_1, dict_2):\n",
    "   dict_3 = {**dict_1, **dict_2}\n",
    "   for key, value in dict_3.items():\n",
    "       if key in dict_1 and key in dict_2:\n",
    "               dict_3[key] = value + dict_1[key]\n",
    "   return dict_3"
   ]
  },
  {
   "cell_type": "code",
   "execution_count": 3,
   "metadata": {},
   "outputs": [
    {
     "name": "stdout",
     "output_type": "stream",
     "text": [
      "PyTripAdvisor Version: 0.1\n",
      "[SQL] Connected\n",
      "[SQL] Sending result...\n",
      "[NLTK] Finished preprocessing...\n"
     ]
    }
   ],
   "source": [
    "\n",
    "Bot = PyTripAdvisor()\n",
    "Bot.clear()\n",
    "final_count_dict = {}\n",
    "recensioni = Bot.get_all_reviews()\n",
    "recensioni_pulite = Bot.tokenize(recensioni)\n",
    "for recensione in recensioni_pulite:\n",
    "    recensione_lista_parole = recensione.split(\" \")\n",
    "    recensione_dict_count = Counter(recensione_lista_parole)\n",
    "    final_count_dict = mergeDictionary(final_count_dict, recensione_dict_count)\n",
    "\n",
    "d = {k: v for k, v in sorted(final_count_dict.items(), key=lambda item: item[1], reverse=True)}\n",
    "df = pd.DataFrame({x:[y] for x,y in d.items()}).T\n",
    "df = df.iloc[:20]"
   ]
  },
  {
   "cell_type": "code",
   "execution_count": 4,
   "metadata": {},
   "outputs": [],
   "source": [
    "df = df.rename(columns={0:\"Frequency\"})\n",
    "df['Word'] = df.index"
   ]
  },
  {
   "cell_type": "code",
   "execution_count": 5,
   "metadata": {},
   "outputs": [
    {
     "data": {
      "application/vnd.plotly.v1+json": {
       "config": {
        "plotlyServerURL": "https://plot.ly"
       },
       "data": [
        {
         "alignmentgroup": "True",
         "bingroup": "x",
         "histfunc": "sum",
         "hovertemplate": "Word=%{x}<br>sum of Frequency=%{y}<extra></extra>",
         "legendgroup": "",
         "marker": {
          "color": "#F8766D",
          "pattern": {
           "shape": ""
          }
         },
         "name": "",
         "offsetgroup": "",
         "orientation": "v",
         "showlegend": false,
         "type": "histogram",
         "x": [
          "molto",
          "locale",
          "qualità",
          "personale",
          "piatti",
          "servizio",
          "ristorante",
          "ottimo",
          "cibo",
          "pizza",
          "ottima",
          "cucina",
          "prezzo",
          "posto",
          "sempre",
          "prezzi",
          "roma",
          "buono",
          "gentile",
          "buona"
         ],
         "xaxis": "x",
         "y": [
          115418,
          79200,
          68108,
          65449,
          53746,
          53296,
          50171,
          47951,
          44183,
          40617,
          39640,
          37116,
          36167,
          32917,
          32296,
          31737,
          30782,
          28110,
          28101,
          27849
         ],
         "yaxis": "y"
        }
       ],
       "layout": {
        "barmode": "relative",
        "legend": {
         "tracegroupgap": 0
        },
        "margin": {
         "t": 60
        },
        "template": {
         "data": {
          "bar": [
           {
            "error_x": {
             "color": "rgb(51,51,51)"
            },
            "error_y": {
             "color": "rgb(51,51,51)"
            },
            "marker": {
             "line": {
              "color": "rgb(237,237,237)",
              "width": 0.5
             },
             "pattern": {
              "fillmode": "overlay",
              "size": 10,
              "solidity": 0.2
             }
            },
            "type": "bar"
           }
          ],
          "barpolar": [
           {
            "marker": {
             "line": {
              "color": "rgb(237,237,237)",
              "width": 0.5
             },
             "pattern": {
              "fillmode": "overlay",
              "size": 10,
              "solidity": 0.2
             }
            },
            "type": "barpolar"
           }
          ],
          "carpet": [
           {
            "aaxis": {
             "endlinecolor": "rgb(51,51,51)",
             "gridcolor": "white",
             "linecolor": "white",
             "minorgridcolor": "white",
             "startlinecolor": "rgb(51,51,51)"
            },
            "baxis": {
             "endlinecolor": "rgb(51,51,51)",
             "gridcolor": "white",
             "linecolor": "white",
             "minorgridcolor": "white",
             "startlinecolor": "rgb(51,51,51)"
            },
            "type": "carpet"
           }
          ],
          "choropleth": [
           {
            "colorbar": {
             "outlinewidth": 0,
             "tickcolor": "rgb(237,237,237)",
             "ticklen": 6,
             "ticks": "inside"
            },
            "type": "choropleth"
           }
          ],
          "contour": [
           {
            "colorbar": {
             "outlinewidth": 0,
             "tickcolor": "rgb(237,237,237)",
             "ticklen": 6,
             "ticks": "inside"
            },
            "colorscale": [
             [
              0,
              "rgb(20,44,66)"
             ],
             [
              1,
              "rgb(90,179,244)"
             ]
            ],
            "type": "contour"
           }
          ],
          "contourcarpet": [
           {
            "colorbar": {
             "outlinewidth": 0,
             "tickcolor": "rgb(237,237,237)",
             "ticklen": 6,
             "ticks": "inside"
            },
            "type": "contourcarpet"
           }
          ],
          "heatmap": [
           {
            "colorbar": {
             "outlinewidth": 0,
             "tickcolor": "rgb(237,237,237)",
             "ticklen": 6,
             "ticks": "inside"
            },
            "colorscale": [
             [
              0,
              "rgb(20,44,66)"
             ],
             [
              1,
              "rgb(90,179,244)"
             ]
            ],
            "type": "heatmap"
           }
          ],
          "heatmapgl": [
           {
            "colorbar": {
             "outlinewidth": 0,
             "tickcolor": "rgb(237,237,237)",
             "ticklen": 6,
             "ticks": "inside"
            },
            "colorscale": [
             [
              0,
              "rgb(20,44,66)"
             ],
             [
              1,
              "rgb(90,179,244)"
             ]
            ],
            "type": "heatmapgl"
           }
          ],
          "histogram": [
           {
            "marker": {
             "pattern": {
              "fillmode": "overlay",
              "size": 10,
              "solidity": 0.2
             }
            },
            "type": "histogram"
           }
          ],
          "histogram2d": [
           {
            "colorbar": {
             "outlinewidth": 0,
             "tickcolor": "rgb(237,237,237)",
             "ticklen": 6,
             "ticks": "inside"
            },
            "colorscale": [
             [
              0,
              "rgb(20,44,66)"
             ],
             [
              1,
              "rgb(90,179,244)"
             ]
            ],
            "type": "histogram2d"
           }
          ],
          "histogram2dcontour": [
           {
            "colorbar": {
             "outlinewidth": 0,
             "tickcolor": "rgb(237,237,237)",
             "ticklen": 6,
             "ticks": "inside"
            },
            "colorscale": [
             [
              0,
              "rgb(20,44,66)"
             ],
             [
              1,
              "rgb(90,179,244)"
             ]
            ],
            "type": "histogram2dcontour"
           }
          ],
          "mesh3d": [
           {
            "colorbar": {
             "outlinewidth": 0,
             "tickcolor": "rgb(237,237,237)",
             "ticklen": 6,
             "ticks": "inside"
            },
            "type": "mesh3d"
           }
          ],
          "parcoords": [
           {
            "line": {
             "colorbar": {
              "outlinewidth": 0,
              "tickcolor": "rgb(237,237,237)",
              "ticklen": 6,
              "ticks": "inside"
             }
            },
            "type": "parcoords"
           }
          ],
          "pie": [
           {
            "automargin": true,
            "type": "pie"
           }
          ],
          "scatter": [
           {
            "fillpattern": {
             "fillmode": "overlay",
             "size": 10,
             "solidity": 0.2
            },
            "type": "scatter"
           }
          ],
          "scatter3d": [
           {
            "line": {
             "colorbar": {
              "outlinewidth": 0,
              "tickcolor": "rgb(237,237,237)",
              "ticklen": 6,
              "ticks": "inside"
             }
            },
            "marker": {
             "colorbar": {
              "outlinewidth": 0,
              "tickcolor": "rgb(237,237,237)",
              "ticklen": 6,
              "ticks": "inside"
             }
            },
            "type": "scatter3d"
           }
          ],
          "scattercarpet": [
           {
            "marker": {
             "colorbar": {
              "outlinewidth": 0,
              "tickcolor": "rgb(237,237,237)",
              "ticklen": 6,
              "ticks": "inside"
             }
            },
            "type": "scattercarpet"
           }
          ],
          "scattergeo": [
           {
            "marker": {
             "colorbar": {
              "outlinewidth": 0,
              "tickcolor": "rgb(237,237,237)",
              "ticklen": 6,
              "ticks": "inside"
             }
            },
            "type": "scattergeo"
           }
          ],
          "scattergl": [
           {
            "marker": {
             "colorbar": {
              "outlinewidth": 0,
              "tickcolor": "rgb(237,237,237)",
              "ticklen": 6,
              "ticks": "inside"
             }
            },
            "type": "scattergl"
           }
          ],
          "scattermapbox": [
           {
            "marker": {
             "colorbar": {
              "outlinewidth": 0,
              "tickcolor": "rgb(237,237,237)",
              "ticklen": 6,
              "ticks": "inside"
             }
            },
            "type": "scattermapbox"
           }
          ],
          "scatterpolar": [
           {
            "marker": {
             "colorbar": {
              "outlinewidth": 0,
              "tickcolor": "rgb(237,237,237)",
              "ticklen": 6,
              "ticks": "inside"
             }
            },
            "type": "scatterpolar"
           }
          ],
          "scatterpolargl": [
           {
            "marker": {
             "colorbar": {
              "outlinewidth": 0,
              "tickcolor": "rgb(237,237,237)",
              "ticklen": 6,
              "ticks": "inside"
             }
            },
            "type": "scatterpolargl"
           }
          ],
          "scatterternary": [
           {
            "marker": {
             "colorbar": {
              "outlinewidth": 0,
              "tickcolor": "rgb(237,237,237)",
              "ticklen": 6,
              "ticks": "inside"
             }
            },
            "type": "scatterternary"
           }
          ],
          "surface": [
           {
            "colorbar": {
             "outlinewidth": 0,
             "tickcolor": "rgb(237,237,237)",
             "ticklen": 6,
             "ticks": "inside"
            },
            "colorscale": [
             [
              0,
              "rgb(20,44,66)"
             ],
             [
              1,
              "rgb(90,179,244)"
             ]
            ],
            "type": "surface"
           }
          ],
          "table": [
           {
            "cells": {
             "fill": {
              "color": "rgb(237,237,237)"
             },
             "line": {
              "color": "white"
             }
            },
            "header": {
             "fill": {
              "color": "rgb(217,217,217)"
             },
             "line": {
              "color": "white"
             }
            },
            "type": "table"
           }
          ]
         },
         "layout": {
          "annotationdefaults": {
           "arrowhead": 0,
           "arrowwidth": 1
          },
          "autotypenumbers": "strict",
          "coloraxis": {
           "colorbar": {
            "outlinewidth": 0,
            "tickcolor": "rgb(237,237,237)",
            "ticklen": 6,
            "ticks": "inside"
           }
          },
          "colorscale": {
           "sequential": [
            [
             0,
             "rgb(20,44,66)"
            ],
            [
             1,
             "rgb(90,179,244)"
            ]
           ],
           "sequentialminus": [
            [
             0,
             "rgb(20,44,66)"
            ],
            [
             1,
             "rgb(90,179,244)"
            ]
           ]
          },
          "colorway": [
           "#F8766D",
           "#A3A500",
           "#00BF7D",
           "#00B0F6",
           "#E76BF3"
          ],
          "font": {
           "color": "rgb(51,51,51)"
          },
          "geo": {
           "bgcolor": "white",
           "lakecolor": "white",
           "landcolor": "rgb(237,237,237)",
           "showlakes": true,
           "showland": true,
           "subunitcolor": "white"
          },
          "hoverlabel": {
           "align": "left"
          },
          "hovermode": "closest",
          "paper_bgcolor": "white",
          "plot_bgcolor": "rgb(237,237,237)",
          "polar": {
           "angularaxis": {
            "gridcolor": "white",
            "linecolor": "white",
            "showgrid": true,
            "tickcolor": "rgb(51,51,51)",
            "ticks": "outside"
           },
           "bgcolor": "rgb(237,237,237)",
           "radialaxis": {
            "gridcolor": "white",
            "linecolor": "white",
            "showgrid": true,
            "tickcolor": "rgb(51,51,51)",
            "ticks": "outside"
           }
          },
          "scene": {
           "xaxis": {
            "backgroundcolor": "rgb(237,237,237)",
            "gridcolor": "white",
            "gridwidth": 2,
            "linecolor": "white",
            "showbackground": true,
            "showgrid": true,
            "tickcolor": "rgb(51,51,51)",
            "ticks": "outside",
            "zerolinecolor": "white"
           },
           "yaxis": {
            "backgroundcolor": "rgb(237,237,237)",
            "gridcolor": "white",
            "gridwidth": 2,
            "linecolor": "white",
            "showbackground": true,
            "showgrid": true,
            "tickcolor": "rgb(51,51,51)",
            "ticks": "outside",
            "zerolinecolor": "white"
           },
           "zaxis": {
            "backgroundcolor": "rgb(237,237,237)",
            "gridcolor": "white",
            "gridwidth": 2,
            "linecolor": "white",
            "showbackground": true,
            "showgrid": true,
            "tickcolor": "rgb(51,51,51)",
            "ticks": "outside",
            "zerolinecolor": "white"
           }
          },
          "shapedefaults": {
           "fillcolor": "black",
           "line": {
            "width": 0
           },
           "opacity": 0.3
          },
          "ternary": {
           "aaxis": {
            "gridcolor": "white",
            "linecolor": "white",
            "showgrid": true,
            "tickcolor": "rgb(51,51,51)",
            "ticks": "outside"
           },
           "baxis": {
            "gridcolor": "white",
            "linecolor": "white",
            "showgrid": true,
            "tickcolor": "rgb(51,51,51)",
            "ticks": "outside"
           },
           "bgcolor": "rgb(237,237,237)",
           "caxis": {
            "gridcolor": "white",
            "linecolor": "white",
            "showgrid": true,
            "tickcolor": "rgb(51,51,51)",
            "ticks": "outside"
           }
          },
          "xaxis": {
           "automargin": true,
           "gridcolor": "white",
           "linecolor": "white",
           "showgrid": true,
           "tickcolor": "rgb(51,51,51)",
           "ticks": "outside",
           "title": {
            "standoff": 15
           },
           "zerolinecolor": "white"
          },
          "yaxis": {
           "automargin": true,
           "gridcolor": "white",
           "linecolor": "white",
           "showgrid": true,
           "tickcolor": "rgb(51,51,51)",
           "ticks": "outside",
           "title": {
            "standoff": 15
           },
           "zerolinecolor": "white"
          }
         }
        },
        "xaxis": {
         "anchor": "y",
         "domain": [
          0,
          1
         ],
         "title": {
          "text": "Word"
         }
        },
        "yaxis": {
         "anchor": "x",
         "domain": [
          0,
          1
         ],
         "title": {
          "text": "sum of Frequency"
         }
        }
       }
      }
     },
     "metadata": {},
     "output_type": "display_data"
    }
   ],
   "source": [
    "px.histogram(\n",
    "    df, \n",
    "    x = \"Word\", \n",
    "    y = \"Frequency\",\n",
    "    template=\"ggplot2\")"
   ]
  }
 ],
 "metadata": {
  "interpreter": {
   "hash": "9974ed1e0e3209fc712a83f89896e0249685223056d5b00c26a959a0c83b9849"
  },
  "kernelspec": {
   "display_name": "Python 3.8.8 64-bit",
   "language": "python",
   "name": "python3"
  },
  "language_info": {
   "codemirror_mode": {
    "name": "ipython",
    "version": 3
   },
   "file_extension": ".py",
   "mimetype": "text/x-python",
   "name": "python",
   "nbconvert_exporter": "python",
   "pygments_lexer": "ipython3",
   "version": "3.8.8"
  },
  "orig_nbformat": 4
 },
 "nbformat": 4,
 "nbformat_minor": 2
}
