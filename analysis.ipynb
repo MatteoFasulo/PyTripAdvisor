{
 "cells": [
  {
   "cell_type": "code",
   "execution_count": 179,
   "metadata": {},
   "outputs": [],
   "source": [
    "import pandas as pd\n",
    "import plotly.graph_objects as go\n",
    "import plotly.express as px\n",
    "import numpy as np"
   ]
  },
  {
   "cell_type": "code",
   "execution_count": 182,
   "metadata": {},
   "outputs": [
    {
     "data": {
      "text/html": [
       "<div>\n",
       "<style scoped>\n",
       "    .dataframe tbody tr th:only-of-type {\n",
       "        vertical-align: middle;\n",
       "    }\n",
       "\n",
       "    .dataframe tbody tr th {\n",
       "        vertical-align: top;\n",
       "    }\n",
       "\n",
       "    .dataframe thead th {\n",
       "        text-align: right;\n",
       "    }\n",
       "</style>\n",
       "<table border=\"1\" class=\"dataframe\">\n",
       "  <thead>\n",
       "    <tr style=\"text-align: right;\">\n",
       "      <th></th>\n",
       "      <th>Unnamed: 0</th>\n",
       "      <th>place_id</th>\n",
       "      <th>osm_id</th>\n",
       "      <th>name</th>\n",
       "      <th>rating</th>\n",
       "      <th>total_reviews</th>\n",
       "      <th>price</th>\n",
       "      <th>geometry</th>\n",
       "      <th>index_right</th>\n",
       "      <th>cartodb_id</th>\n",
       "      <th>info</th>\n",
       "      <th>zone_e_rioni</th>\n",
       "      <th>quartieri</th>\n",
       "      <th>nome</th>\n",
       "    </tr>\n",
       "  </thead>\n",
       "  <tbody>\n",
       "    <tr>\n",
       "      <th>0</th>\n",
       "      <td>0</td>\n",
       "      <td>146016014</td>\n",
       "      <td>190853584.0</td>\n",
       "      <td>Texas Saloon</td>\n",
       "      <td>3.5</td>\n",
       "      <td>789</td>\n",
       "      <td>2.5</td>\n",
       "      <td>POINT (12.429359229391224 41.80017805)</td>\n",
       "      <td>4</td>\n",
       "      <td>5</td>\n",
       "      <td>https://it.wikipedia.org/wiki/Municipio_Roma_IX</td>\n",
       "      <td>Zone: Cecchignola, Castel di Leva, Fonte Ostie...</td>\n",
       "      <td>Quartieri: Ostiense, Giuliano Dalmata, Europa.</td>\n",
       "      <td>Municipio IX (ex XII)</td>\n",
       "    </tr>\n",
       "    <tr>\n",
       "      <th>1</th>\n",
       "      <td>2</td>\n",
       "      <td>107132432</td>\n",
       "      <td>23322316.0</td>\n",
       "      <td>Pizza Gegè</td>\n",
       "      <td>4.0</td>\n",
       "      <td>74</td>\n",
       "      <td>1.0</td>\n",
       "      <td>POINT (12.4740094 41.8264266)</td>\n",
       "      <td>4</td>\n",
       "      <td>5</td>\n",
       "      <td>https://it.wikipedia.org/wiki/Municipio_Roma_IX</td>\n",
       "      <td>Zone: Cecchignola, Castel di Leva, Fonte Ostie...</td>\n",
       "      <td>Quartieri: Ostiense, Giuliano Dalmata, Europa.</td>\n",
       "      <td>Municipio IX (ex XII)</td>\n",
       "    </tr>\n",
       "    <tr>\n",
       "      <th>2</th>\n",
       "      <td>23</td>\n",
       "      <td>107281163</td>\n",
       "      <td>27528185.0</td>\n",
       "      <td>Pizza alla Pala L'Angoletto</td>\n",
       "      <td>3.5</td>\n",
       "      <td>4</td>\n",
       "      <td>1.0</td>\n",
       "      <td>POINT (12.4699624 41.7669096)</td>\n",
       "      <td>4</td>\n",
       "      <td>5</td>\n",
       "      <td>https://it.wikipedia.org/wiki/Municipio_Roma_IX</td>\n",
       "      <td>Zone: Cecchignola, Castel di Leva, Fonte Ostie...</td>\n",
       "      <td>Quartieri: Ostiense, Giuliano Dalmata, Europa.</td>\n",
       "      <td>Municipio IX (ex XII)</td>\n",
       "    </tr>\n",
       "    <tr>\n",
       "      <th>3</th>\n",
       "      <td>43</td>\n",
       "      <td>139760549</td>\n",
       "      <td>159009107.0</td>\n",
       "      <td>Queen's Restaurant</td>\n",
       "      <td>4.0</td>\n",
       "      <td>56</td>\n",
       "      <td>2.5</td>\n",
       "      <td>POINT (12.4263197 41.7895865)</td>\n",
       "      <td>4</td>\n",
       "      <td>5</td>\n",
       "      <td>https://it.wikipedia.org/wiki/Municipio_Roma_IX</td>\n",
       "      <td>Zone: Cecchignola, Castel di Leva, Fonte Ostie...</td>\n",
       "      <td>Quartieri: Ostiense, Giuliano Dalmata, Europa.</td>\n",
       "      <td>Municipio IX (ex XII)</td>\n",
       "    </tr>\n",
       "    <tr>\n",
       "      <th>4</th>\n",
       "      <td>53</td>\n",
       "      <td>146016014</td>\n",
       "      <td>190853584.0</td>\n",
       "      <td>Foodisfaction</td>\n",
       "      <td>3.5</td>\n",
       "      <td>222</td>\n",
       "      <td>2.5</td>\n",
       "      <td>POINT (12.429359229391224 41.80017805)</td>\n",
       "      <td>4</td>\n",
       "      <td>5</td>\n",
       "      <td>https://it.wikipedia.org/wiki/Municipio_Roma_IX</td>\n",
       "      <td>Zone: Cecchignola, Castel di Leva, Fonte Ostie...</td>\n",
       "      <td>Quartieri: Ostiense, Giuliano Dalmata, Europa.</td>\n",
       "      <td>Municipio IX (ex XII)</td>\n",
       "    </tr>\n",
       "    <tr>\n",
       "      <th>...</th>\n",
       "      <td>...</td>\n",
       "      <td>...</td>\n",
       "      <td>...</td>\n",
       "      <td>...</td>\n",
       "      <td>...</td>\n",
       "      <td>...</td>\n",
       "      <td>...</td>\n",
       "      <td>...</td>\n",
       "      <td>...</td>\n",
       "      <td>...</td>\n",
       "      <td>...</td>\n",
       "      <td>...</td>\n",
       "      <td>...</td>\n",
       "      <td>...</td>\n",
       "    </tr>\n",
       "    <tr>\n",
       "      <th>7778</th>\n",
       "      <td>7883</td>\n",
       "      <td>135338212</td>\n",
       "      <td>137939240.0</td>\n",
       "      <td>Volta Pagina Caffetteria</td>\n",
       "      <td>4.5</td>\n",
       "      <td>7</td>\n",
       "      <td>2.5</td>\n",
       "      <td>POINT (12.3518099 41.7738922)</td>\n",
       "      <td>5</td>\n",
       "      <td>6</td>\n",
       "      <td>https://it.wikipedia.org/wiki/Municipio_Roma_X</td>\n",
       "      <td>Zone: Tor de' Cenci, Castel Porziano, Castel F...</td>\n",
       "      <td>Quartieri: Lido di Ostia Ponente, Lido di Osti...</td>\n",
       "      <td>Municipio X (ex XIII)</td>\n",
       "    </tr>\n",
       "    <tr>\n",
       "      <th>7779</th>\n",
       "      <td>7899</td>\n",
       "      <td>116793066</td>\n",
       "      <td>63205310.0</td>\n",
       "      <td>Strappabocca</td>\n",
       "      <td>4.5</td>\n",
       "      <td>182</td>\n",
       "      <td>2.5</td>\n",
       "      <td>POINT (12.3583458 41.743359)</td>\n",
       "      <td>5</td>\n",
       "      <td>6</td>\n",
       "      <td>https://it.wikipedia.org/wiki/Municipio_Roma_X</td>\n",
       "      <td>Zone: Tor de' Cenci, Castel Porziano, Castel F...</td>\n",
       "      <td>Quartieri: Lido di Ostia Ponente, Lido di Osti...</td>\n",
       "      <td>Municipio X (ex XIII)</td>\n",
       "    </tr>\n",
       "    <tr>\n",
       "      <th>7780</th>\n",
       "      <td>7960</td>\n",
       "      <td>106876953</td>\n",
       "      <td>25220056.0</td>\n",
       "      <td>Jack's Pub</td>\n",
       "      <td>3.5</td>\n",
       "      <td>16</td>\n",
       "      <td>1.0</td>\n",
       "      <td>POINT (12.346581 41.7767439)</td>\n",
       "      <td>5</td>\n",
       "      <td>6</td>\n",
       "      <td>https://it.wikipedia.org/wiki/Municipio_Roma_X</td>\n",
       "      <td>Zone: Tor de' Cenci, Castel Porziano, Castel F...</td>\n",
       "      <td>Quartieri: Lido di Ostia Ponente, Lido di Osti...</td>\n",
       "      <td>Municipio X (ex XIII)</td>\n",
       "    </tr>\n",
       "    <tr>\n",
       "      <th>7781</th>\n",
       "      <td>8044</td>\n",
       "      <td>132448550</td>\n",
       "      <td>131201867.0</td>\n",
       "      <td>Ricomincio Da Tre</td>\n",
       "      <td>4.0</td>\n",
       "      <td>44</td>\n",
       "      <td>2.5</td>\n",
       "      <td>POINT (12.3468789 41.785934)</td>\n",
       "      <td>5</td>\n",
       "      <td>6</td>\n",
       "      <td>https://it.wikipedia.org/wiki/Municipio_Roma_X</td>\n",
       "      <td>Zone: Tor de' Cenci, Castel Porziano, Castel F...</td>\n",
       "      <td>Quartieri: Lido di Ostia Ponente, Lido di Osti...</td>\n",
       "      <td>Municipio X (ex XIII)</td>\n",
       "    </tr>\n",
       "    <tr>\n",
       "      <th>7782</th>\n",
       "      <td>8065</td>\n",
       "      <td>110209975</td>\n",
       "      <td>32892472.0</td>\n",
       "      <td>Gallu's Stuzzicheria</td>\n",
       "      <td>5.0</td>\n",
       "      <td>5</td>\n",
       "      <td>1.0</td>\n",
       "      <td>POINT (12.2794004 41.7357548)</td>\n",
       "      <td>5</td>\n",
       "      <td>6</td>\n",
       "      <td>https://it.wikipedia.org/wiki/Municipio_Roma_X</td>\n",
       "      <td>Zone: Tor de' Cenci, Castel Porziano, Castel F...</td>\n",
       "      <td>Quartieri: Lido di Ostia Ponente, Lido di Osti...</td>\n",
       "      <td>Municipio X (ex XIII)</td>\n",
       "    </tr>\n",
       "  </tbody>\n",
       "</table>\n",
       "<p>7783 rows × 14 columns</p>\n",
       "</div>"
      ],
      "text/plain": [
       "      Unnamed: 0   place_id       osm_id                         name  rating  \\\n",
       "0              0  146016014  190853584.0                 Texas Saloon     3.5   \n",
       "1              2  107132432   23322316.0                   Pizza Gegè     4.0   \n",
       "2             23  107281163   27528185.0  Pizza alla Pala L'Angoletto     3.5   \n",
       "3             43  139760549  159009107.0           Queen's Restaurant     4.0   \n",
       "4             53  146016014  190853584.0                Foodisfaction     3.5   \n",
       "...          ...        ...          ...                          ...     ...   \n",
       "7778        7883  135338212  137939240.0     Volta Pagina Caffetteria     4.5   \n",
       "7779        7899  116793066   63205310.0                 Strappabocca     4.5   \n",
       "7780        7960  106876953   25220056.0                   Jack's Pub     3.5   \n",
       "7781        8044  132448550  131201867.0            Ricomincio Da Tre     4.0   \n",
       "7782        8065  110209975   32892472.0         Gallu's Stuzzicheria     5.0   \n",
       "\n",
       "      total_reviews  price                                geometry  \\\n",
       "0               789    2.5  POINT (12.429359229391224 41.80017805)   \n",
       "1                74    1.0           POINT (12.4740094 41.8264266)   \n",
       "2                 4    1.0           POINT (12.4699624 41.7669096)   \n",
       "3                56    2.5           POINT (12.4263197 41.7895865)   \n",
       "4               222    2.5  POINT (12.429359229391224 41.80017805)   \n",
       "...             ...    ...                                     ...   \n",
       "7778              7    2.5           POINT (12.3518099 41.7738922)   \n",
       "7779            182    2.5            POINT (12.3583458 41.743359)   \n",
       "7780             16    1.0            POINT (12.346581 41.7767439)   \n",
       "7781             44    2.5            POINT (12.3468789 41.785934)   \n",
       "7782              5    1.0           POINT (12.2794004 41.7357548)   \n",
       "\n",
       "      index_right  cartodb_id  \\\n",
       "0               4           5   \n",
       "1               4           5   \n",
       "2               4           5   \n",
       "3               4           5   \n",
       "4               4           5   \n",
       "...           ...         ...   \n",
       "7778            5           6   \n",
       "7779            5           6   \n",
       "7780            5           6   \n",
       "7781            5           6   \n",
       "7782            5           6   \n",
       "\n",
       "                                                 info  \\\n",
       "0     https://it.wikipedia.org/wiki/Municipio_Roma_IX   \n",
       "1     https://it.wikipedia.org/wiki/Municipio_Roma_IX   \n",
       "2     https://it.wikipedia.org/wiki/Municipio_Roma_IX   \n",
       "3     https://it.wikipedia.org/wiki/Municipio_Roma_IX   \n",
       "4     https://it.wikipedia.org/wiki/Municipio_Roma_IX   \n",
       "...                                               ...   \n",
       "7778   https://it.wikipedia.org/wiki/Municipio_Roma_X   \n",
       "7779   https://it.wikipedia.org/wiki/Municipio_Roma_X   \n",
       "7780   https://it.wikipedia.org/wiki/Municipio_Roma_X   \n",
       "7781   https://it.wikipedia.org/wiki/Municipio_Roma_X   \n",
       "7782   https://it.wikipedia.org/wiki/Municipio_Roma_X   \n",
       "\n",
       "                                           zone_e_rioni  \\\n",
       "0     Zone: Cecchignola, Castel di Leva, Fonte Ostie...   \n",
       "1     Zone: Cecchignola, Castel di Leva, Fonte Ostie...   \n",
       "2     Zone: Cecchignola, Castel di Leva, Fonte Ostie...   \n",
       "3     Zone: Cecchignola, Castel di Leva, Fonte Ostie...   \n",
       "4     Zone: Cecchignola, Castel di Leva, Fonte Ostie...   \n",
       "...                                                 ...   \n",
       "7778  Zone: Tor de' Cenci, Castel Porziano, Castel F...   \n",
       "7779  Zone: Tor de' Cenci, Castel Porziano, Castel F...   \n",
       "7780  Zone: Tor de' Cenci, Castel Porziano, Castel F...   \n",
       "7781  Zone: Tor de' Cenci, Castel Porziano, Castel F...   \n",
       "7782  Zone: Tor de' Cenci, Castel Porziano, Castel F...   \n",
       "\n",
       "                                              quartieri                   nome  \n",
       "0        Quartieri: Ostiense, Giuliano Dalmata, Europa.  Municipio IX (ex XII)  \n",
       "1        Quartieri: Ostiense, Giuliano Dalmata, Europa.  Municipio IX (ex XII)  \n",
       "2        Quartieri: Ostiense, Giuliano Dalmata, Europa.  Municipio IX (ex XII)  \n",
       "3        Quartieri: Ostiense, Giuliano Dalmata, Europa.  Municipio IX (ex XII)  \n",
       "4        Quartieri: Ostiense, Giuliano Dalmata, Europa.  Municipio IX (ex XII)  \n",
       "...                                                 ...                    ...  \n",
       "7778  Quartieri: Lido di Ostia Ponente, Lido di Osti...  Municipio X (ex XIII)  \n",
       "7779  Quartieri: Lido di Ostia Ponente, Lido di Osti...  Municipio X (ex XIII)  \n",
       "7780  Quartieri: Lido di Ostia Ponente, Lido di Osti...  Municipio X (ex XIII)  \n",
       "7781  Quartieri: Lido di Ostia Ponente, Lido di Osti...  Municipio X (ex XIII)  \n",
       "7782  Quartieri: Lido di Ostia Ponente, Lido di Osti...  Municipio X (ex XIII)  \n",
       "\n",
       "[7783 rows x 14 columns]"
      ]
     },
     "execution_count": 182,
     "metadata": {},
     "output_type": "execute_result"
    }
   ],
   "source": [
    "df = pd.read_csv('ristoranti_zone.csv', encoding='utf-8')\n",
    "df"
   ]
  },
  {
   "cell_type": "code",
   "execution_count": 183,
   "metadata": {},
   "outputs": [],
   "source": [
    "unique_ratings = df.rating.unique().tolist()\n",
    "unique_ratings.insert(0,\"Rating\")"
   ]
  },
  {
   "cell_type": "code",
   "execution_count": 184,
   "metadata": {},
   "outputs": [
    {
     "data": {
      "text/plain": [
       "588171"
      ]
     },
     "execution_count": 184,
     "metadata": {},
     "output_type": "execute_result"
    }
   ],
   "source": [
    "df.loc[(df.rating == 4.0) & (df.price == 2.5), 'total_reviews'].sum()"
   ]
  },
  {
   "cell_type": "code",
   "execution_count": 250,
   "metadata": {},
   "outputs": [
    {
     "data": {
      "application/vnd.plotly.v1+json": {
       "config": {
        "plotlyServerURL": "https://plot.ly"
       },
       "data": [
        {
         "labels": [
          "Rating",
          "1.0 &#9733;",
          "1.5 &#9733;",
          "2.0 &#9733;",
          "2.5 &#9733;",
          "3.0 &#9733;",
          "3.5 &#9733;",
          "4.0 &#9733;",
          "4.5 &#9733;",
          "5.0 &#9733;",
          "&#8364;",
          "&#8364;&#8364; - &#8364;&#8364;&#8364;",
          "&#8364;&#8364;&#8364;&#8364;",
          "&#8364;",
          "&#8364;&#8364; - &#8364;&#8364;&#8364;",
          "&#8364;&#8364;&#8364;&#8364;",
          "&#8364;",
          "&#8364;&#8364; - &#8364;&#8364;&#8364;",
          "&#8364;&#8364;&#8364;&#8364;",
          "&#8364;",
          "&#8364;&#8364; - &#8364;&#8364;&#8364;",
          "&#8364;&#8364;&#8364;&#8364;",
          "&#8364;",
          "&#8364;&#8364; - &#8364;&#8364;&#8364;",
          "&#8364;&#8364;&#8364;&#8364;",
          "&#8364;",
          "&#8364;&#8364; - &#8364;&#8364;&#8364;",
          "&#8364;&#8364;&#8364;&#8364;",
          "&#8364;",
          "&#8364;&#8364; - &#8364;&#8364;&#8364;",
          "&#8364;&#8364;&#8364;&#8364;",
          "&#8364;",
          "&#8364;&#8364; - &#8364;&#8364;&#8364;",
          "&#8364;&#8364;&#8364;&#8364;",
          "&#8364;",
          "&#8364;&#8364; - &#8364;&#8364;&#8364;",
          "&#8364;&#8364;&#8364;&#8364;"
         ],
         "parents": [
          "",
          "Rating",
          "Rating",
          "Rating",
          "Rating",
          "Rating",
          "Rating",
          "Rating",
          "Rating",
          "Rating",
          "1.0 &#9733;",
          "1.0 &#9733;",
          "1.0 &#9733;",
          "1.5 &#9733;",
          "1.5 &#9733;",
          "1.5 &#9733;",
          "2.0 &#9733;",
          "2.0 &#9733;",
          "2.0 &#9733;",
          "2.5 &#9733;",
          "2.5 &#9733;",
          "2.5 &#9733;",
          "3.0 &#9733;",
          "3.0 &#9733;",
          "3.0 &#9733;",
          "3.5 &#9733;",
          "3.5 &#9733;",
          "3.5 &#9733;",
          "4.0 &#9733;",
          "4.0 &#9733;",
          "4.0 &#9733;",
          "4.5 &#9733;",
          "4.5 &#9733;",
          "4.5 &#9733;",
          "5.0 &#9733;",
          "5.0 &#9733;",
          "5.0 &#9733;"
         ],
         "type": "sunburst",
         "values": [
          1811727,
          3815,
          6714,
          10296,
          22678,
          74118,
          307885,
          744637,
          590909,
          50675,
          451,
          1038,
          2326,
          1506,
          3052,
          2156,
          854,
          7798,
          1644,
          2427,
          18128,
          2123,
          9023,
          64412,
          683,
          58866,
          243571,
          5448,
          116152,
          588171,
          40314,
          91089,
          463552,
          36268,
          26336,
          22546,
          1793
         ]
        }
       ],
       "layout": {
        "margin": {
         "b": 0,
         "l": 0,
         "r": 0,
         "t": 0
        },
        "template": {
         "data": {
          "bar": [
           {
            "error_x": {
             "color": "#2a3f5f"
            },
            "error_y": {
             "color": "#2a3f5f"
            },
            "marker": {
             "line": {
              "color": "#E5ECF6",
              "width": 0.5
             },
             "pattern": {
              "fillmode": "overlay",
              "size": 10,
              "solidity": 0.2
             }
            },
            "type": "bar"
           }
          ],
          "barpolar": [
           {
            "marker": {
             "line": {
              "color": "#E5ECF6",
              "width": 0.5
             },
             "pattern": {
              "fillmode": "overlay",
              "size": 10,
              "solidity": 0.2
             }
            },
            "type": "barpolar"
           }
          ],
          "carpet": [
           {
            "aaxis": {
             "endlinecolor": "#2a3f5f",
             "gridcolor": "white",
             "linecolor": "white",
             "minorgridcolor": "white",
             "startlinecolor": "#2a3f5f"
            },
            "baxis": {
             "endlinecolor": "#2a3f5f",
             "gridcolor": "white",
             "linecolor": "white",
             "minorgridcolor": "white",
             "startlinecolor": "#2a3f5f"
            },
            "type": "carpet"
           }
          ],
          "choropleth": [
           {
            "colorbar": {
             "outlinewidth": 0,
             "ticks": ""
            },
            "type": "choropleth"
           }
          ],
          "contour": [
           {
            "colorbar": {
             "outlinewidth": 0,
             "ticks": ""
            },
            "colorscale": [
             [
              0,
              "#0d0887"
             ],
             [
              0.1111111111111111,
              "#46039f"
             ],
             [
              0.2222222222222222,
              "#7201a8"
             ],
             [
              0.3333333333333333,
              "#9c179e"
             ],
             [
              0.4444444444444444,
              "#bd3786"
             ],
             [
              0.5555555555555556,
              "#d8576b"
             ],
             [
              0.6666666666666666,
              "#ed7953"
             ],
             [
              0.7777777777777778,
              "#fb9f3a"
             ],
             [
              0.8888888888888888,
              "#fdca26"
             ],
             [
              1,
              "#f0f921"
             ]
            ],
            "type": "contour"
           }
          ],
          "contourcarpet": [
           {
            "colorbar": {
             "outlinewidth": 0,
             "ticks": ""
            },
            "type": "contourcarpet"
           }
          ],
          "heatmap": [
           {
            "colorbar": {
             "outlinewidth": 0,
             "ticks": ""
            },
            "colorscale": [
             [
              0,
              "#0d0887"
             ],
             [
              0.1111111111111111,
              "#46039f"
             ],
             [
              0.2222222222222222,
              "#7201a8"
             ],
             [
              0.3333333333333333,
              "#9c179e"
             ],
             [
              0.4444444444444444,
              "#bd3786"
             ],
             [
              0.5555555555555556,
              "#d8576b"
             ],
             [
              0.6666666666666666,
              "#ed7953"
             ],
             [
              0.7777777777777778,
              "#fb9f3a"
             ],
             [
              0.8888888888888888,
              "#fdca26"
             ],
             [
              1,
              "#f0f921"
             ]
            ],
            "type": "heatmap"
           }
          ],
          "heatmapgl": [
           {
            "colorbar": {
             "outlinewidth": 0,
             "ticks": ""
            },
            "colorscale": [
             [
              0,
              "#0d0887"
             ],
             [
              0.1111111111111111,
              "#46039f"
             ],
             [
              0.2222222222222222,
              "#7201a8"
             ],
             [
              0.3333333333333333,
              "#9c179e"
             ],
             [
              0.4444444444444444,
              "#bd3786"
             ],
             [
              0.5555555555555556,
              "#d8576b"
             ],
             [
              0.6666666666666666,
              "#ed7953"
             ],
             [
              0.7777777777777778,
              "#fb9f3a"
             ],
             [
              0.8888888888888888,
              "#fdca26"
             ],
             [
              1,
              "#f0f921"
             ]
            ],
            "type": "heatmapgl"
           }
          ],
          "histogram": [
           {
            "marker": {
             "pattern": {
              "fillmode": "overlay",
              "size": 10,
              "solidity": 0.2
             }
            },
            "type": "histogram"
           }
          ],
          "histogram2d": [
           {
            "colorbar": {
             "outlinewidth": 0,
             "ticks": ""
            },
            "colorscale": [
             [
              0,
              "#0d0887"
             ],
             [
              0.1111111111111111,
              "#46039f"
             ],
             [
              0.2222222222222222,
              "#7201a8"
             ],
             [
              0.3333333333333333,
              "#9c179e"
             ],
             [
              0.4444444444444444,
              "#bd3786"
             ],
             [
              0.5555555555555556,
              "#d8576b"
             ],
             [
              0.6666666666666666,
              "#ed7953"
             ],
             [
              0.7777777777777778,
              "#fb9f3a"
             ],
             [
              0.8888888888888888,
              "#fdca26"
             ],
             [
              1,
              "#f0f921"
             ]
            ],
            "type": "histogram2d"
           }
          ],
          "histogram2dcontour": [
           {
            "colorbar": {
             "outlinewidth": 0,
             "ticks": ""
            },
            "colorscale": [
             [
              0,
              "#0d0887"
             ],
             [
              0.1111111111111111,
              "#46039f"
             ],
             [
              0.2222222222222222,
              "#7201a8"
             ],
             [
              0.3333333333333333,
              "#9c179e"
             ],
             [
              0.4444444444444444,
              "#bd3786"
             ],
             [
              0.5555555555555556,
              "#d8576b"
             ],
             [
              0.6666666666666666,
              "#ed7953"
             ],
             [
              0.7777777777777778,
              "#fb9f3a"
             ],
             [
              0.8888888888888888,
              "#fdca26"
             ],
             [
              1,
              "#f0f921"
             ]
            ],
            "type": "histogram2dcontour"
           }
          ],
          "mesh3d": [
           {
            "colorbar": {
             "outlinewidth": 0,
             "ticks": ""
            },
            "type": "mesh3d"
           }
          ],
          "parcoords": [
           {
            "line": {
             "colorbar": {
              "outlinewidth": 0,
              "ticks": ""
             }
            },
            "type": "parcoords"
           }
          ],
          "pie": [
           {
            "automargin": true,
            "type": "pie"
           }
          ],
          "scatter": [
           {
            "fillpattern": {
             "fillmode": "overlay",
             "size": 10,
             "solidity": 0.2
            },
            "type": "scatter"
           }
          ],
          "scatter3d": [
           {
            "line": {
             "colorbar": {
              "outlinewidth": 0,
              "ticks": ""
             }
            },
            "marker": {
             "colorbar": {
              "outlinewidth": 0,
              "ticks": ""
             }
            },
            "type": "scatter3d"
           }
          ],
          "scattercarpet": [
           {
            "marker": {
             "colorbar": {
              "outlinewidth": 0,
              "ticks": ""
             }
            },
            "type": "scattercarpet"
           }
          ],
          "scattergeo": [
           {
            "marker": {
             "colorbar": {
              "outlinewidth": 0,
              "ticks": ""
             }
            },
            "type": "scattergeo"
           }
          ],
          "scattergl": [
           {
            "marker": {
             "colorbar": {
              "outlinewidth": 0,
              "ticks": ""
             }
            },
            "type": "scattergl"
           }
          ],
          "scattermapbox": [
           {
            "marker": {
             "colorbar": {
              "outlinewidth": 0,
              "ticks": ""
             }
            },
            "type": "scattermapbox"
           }
          ],
          "scatterpolar": [
           {
            "marker": {
             "colorbar": {
              "outlinewidth": 0,
              "ticks": ""
             }
            },
            "type": "scatterpolar"
           }
          ],
          "scatterpolargl": [
           {
            "marker": {
             "colorbar": {
              "outlinewidth": 0,
              "ticks": ""
             }
            },
            "type": "scatterpolargl"
           }
          ],
          "scatterternary": [
           {
            "marker": {
             "colorbar": {
              "outlinewidth": 0,
              "ticks": ""
             }
            },
            "type": "scatterternary"
           }
          ],
          "surface": [
           {
            "colorbar": {
             "outlinewidth": 0,
             "ticks": ""
            },
            "colorscale": [
             [
              0,
              "#0d0887"
             ],
             [
              0.1111111111111111,
              "#46039f"
             ],
             [
              0.2222222222222222,
              "#7201a8"
             ],
             [
              0.3333333333333333,
              "#9c179e"
             ],
             [
              0.4444444444444444,
              "#bd3786"
             ],
             [
              0.5555555555555556,
              "#d8576b"
             ],
             [
              0.6666666666666666,
              "#ed7953"
             ],
             [
              0.7777777777777778,
              "#fb9f3a"
             ],
             [
              0.8888888888888888,
              "#fdca26"
             ],
             [
              1,
              "#f0f921"
             ]
            ],
            "type": "surface"
           }
          ],
          "table": [
           {
            "cells": {
             "fill": {
              "color": "#EBF0F8"
             },
             "line": {
              "color": "white"
             }
            },
            "header": {
             "fill": {
              "color": "#C8D4E3"
             },
             "line": {
              "color": "white"
             }
            },
            "type": "table"
           }
          ]
         },
         "layout": {
          "annotationdefaults": {
           "arrowcolor": "#2a3f5f",
           "arrowhead": 0,
           "arrowwidth": 1
          },
          "autotypenumbers": "strict",
          "coloraxis": {
           "colorbar": {
            "outlinewidth": 0,
            "ticks": ""
           }
          },
          "colorscale": {
           "diverging": [
            [
             0,
             "#8e0152"
            ],
            [
             0.1,
             "#c51b7d"
            ],
            [
             0.2,
             "#de77ae"
            ],
            [
             0.3,
             "#f1b6da"
            ],
            [
             0.4,
             "#fde0ef"
            ],
            [
             0.5,
             "#f7f7f7"
            ],
            [
             0.6,
             "#e6f5d0"
            ],
            [
             0.7,
             "#b8e186"
            ],
            [
             0.8,
             "#7fbc41"
            ],
            [
             0.9,
             "#4d9221"
            ],
            [
             1,
             "#276419"
            ]
           ],
           "sequential": [
            [
             0,
             "#0d0887"
            ],
            [
             0.1111111111111111,
             "#46039f"
            ],
            [
             0.2222222222222222,
             "#7201a8"
            ],
            [
             0.3333333333333333,
             "#9c179e"
            ],
            [
             0.4444444444444444,
             "#bd3786"
            ],
            [
             0.5555555555555556,
             "#d8576b"
            ],
            [
             0.6666666666666666,
             "#ed7953"
            ],
            [
             0.7777777777777778,
             "#fb9f3a"
            ],
            [
             0.8888888888888888,
             "#fdca26"
            ],
            [
             1,
             "#f0f921"
            ]
           ],
           "sequentialminus": [
            [
             0,
             "#0d0887"
            ],
            [
             0.1111111111111111,
             "#46039f"
            ],
            [
             0.2222222222222222,
             "#7201a8"
            ],
            [
             0.3333333333333333,
             "#9c179e"
            ],
            [
             0.4444444444444444,
             "#bd3786"
            ],
            [
             0.5555555555555556,
             "#d8576b"
            ],
            [
             0.6666666666666666,
             "#ed7953"
            ],
            [
             0.7777777777777778,
             "#fb9f3a"
            ],
            [
             0.8888888888888888,
             "#fdca26"
            ],
            [
             1,
             "#f0f921"
            ]
           ]
          },
          "colorway": [
           "#636efa",
           "#EF553B",
           "#00cc96",
           "#ab63fa",
           "#FFA15A",
           "#19d3f3",
           "#FF6692",
           "#B6E880",
           "#FF97FF",
           "#FECB52"
          ],
          "font": {
           "color": "#2a3f5f"
          },
          "geo": {
           "bgcolor": "white",
           "lakecolor": "white",
           "landcolor": "#E5ECF6",
           "showlakes": true,
           "showland": true,
           "subunitcolor": "white"
          },
          "hoverlabel": {
           "align": "left"
          },
          "hovermode": "closest",
          "mapbox": {
           "style": "light"
          },
          "paper_bgcolor": "white",
          "plot_bgcolor": "#E5ECF6",
          "polar": {
           "angularaxis": {
            "gridcolor": "white",
            "linecolor": "white",
            "ticks": ""
           },
           "bgcolor": "#E5ECF6",
           "radialaxis": {
            "gridcolor": "white",
            "linecolor": "white",
            "ticks": ""
           }
          },
          "scene": {
           "xaxis": {
            "backgroundcolor": "#E5ECF6",
            "gridcolor": "white",
            "gridwidth": 2,
            "linecolor": "white",
            "showbackground": true,
            "ticks": "",
            "zerolinecolor": "white"
           },
           "yaxis": {
            "backgroundcolor": "#E5ECF6",
            "gridcolor": "white",
            "gridwidth": 2,
            "linecolor": "white",
            "showbackground": true,
            "ticks": "",
            "zerolinecolor": "white"
           },
           "zaxis": {
            "backgroundcolor": "#E5ECF6",
            "gridcolor": "white",
            "gridwidth": 2,
            "linecolor": "white",
            "showbackground": true,
            "ticks": "",
            "zerolinecolor": "white"
           }
          },
          "shapedefaults": {
           "line": {
            "color": "#2a3f5f"
           }
          },
          "ternary": {
           "aaxis": {
            "gridcolor": "white",
            "linecolor": "white",
            "ticks": ""
           },
           "baxis": {
            "gridcolor": "white",
            "linecolor": "white",
            "ticks": ""
           },
           "bgcolor": "#E5ECF6",
           "caxis": {
            "gridcolor": "white",
            "linecolor": "white",
            "ticks": ""
           }
          },
          "title": {
           "x": 0.05
          },
          "xaxis": {
           "automargin": true,
           "gridcolor": "white",
           "linecolor": "white",
           "ticks": "",
           "title": {
            "standoff": 15
           },
           "zerolinecolor": "white",
           "zerolinewidth": 2
          },
          "yaxis": {
           "automargin": true,
           "gridcolor": "white",
           "linecolor": "white",
           "ticks": "",
           "title": {
            "standoff": 15
           },
           "zerolinecolor": "white",
           "zerolinewidth": 2
          }
         }
        }
       }
      }
     },
     "metadata": {},
     "output_type": "display_data"
    }
   ],
   "source": [
    "fig =go.Figure(go.Sunburst(\n",
    "    labels=[\n",
    "        \"Rating\", \n",
    "        \"1.0 &#9733;\", \n",
    "        \"1.5 &#9733;\", \n",
    "        \"2.0 &#9733;\", \n",
    "        \"2.5 &#9733;\", \n",
    "        \"3.0 &#9733;\", \n",
    "        \"3.5 &#9733;\", \n",
    "        \"4.0 &#9733;\", \n",
    "        \"4.5 &#9733;\", \n",
    "        \"5.0 &#9733;\", \n",
    "        \"&#8364;\", \n",
    "        \"&#8364;&#8364; - &#8364;&#8364;&#8364;\", \n",
    "        \"&#8364;&#8364;&#8364;&#8364;\", \n",
    "        \"&#8364;\", \n",
    "        \"&#8364;&#8364; - &#8364;&#8364;&#8364;\", \n",
    "        \"&#8364;&#8364;&#8364;&#8364;\", \n",
    "        \"&#8364;\", \n",
    "        \"&#8364;&#8364; - &#8364;&#8364;&#8364;\", \n",
    "        \"&#8364;&#8364;&#8364;&#8364;\", \n",
    "        \"&#8364;\", \n",
    "        \"&#8364;&#8364; - &#8364;&#8364;&#8364;\", \n",
    "        \"&#8364;&#8364;&#8364;&#8364;\", \n",
    "        \"&#8364;\", \n",
    "        \"&#8364;&#8364; - &#8364;&#8364;&#8364;\", \n",
    "        \"&#8364;&#8364;&#8364;&#8364;\", \n",
    "        \"&#8364;\", \n",
    "        \"&#8364;&#8364; - &#8364;&#8364;&#8364;\", \n",
    "        \"&#8364;&#8364;&#8364;&#8364;\", \n",
    "        \"&#8364;\", \n",
    "        \"&#8364;&#8364; - &#8364;&#8364;&#8364;\", \n",
    "        \"&#8364;&#8364;&#8364;&#8364;\", \n",
    "        \"&#8364;\", \n",
    "        \"&#8364;&#8364; - &#8364;&#8364;&#8364;\", \n",
    "        \"&#8364;&#8364;&#8364;&#8364;\",\n",
    "        \"&#8364;\", \n",
    "        \"&#8364;&#8364; - &#8364;&#8364;&#8364;\", \n",
    "        \"&#8364;&#8364;&#8364;&#8364;\"\n",
    "        ],\n",
    "    parents=[\n",
    "        \"\", \n",
    "        \"Rating\", \n",
    "        \"Rating\", \n",
    "        \"Rating\", \n",
    "        \"Rating\",\n",
    "        \"Rating\", \n",
    "        \"Rating\", \n",
    "        \"Rating\", \n",
    "        \"Rating\",\n",
    "        \"Rating\",\n",
    "        \"1.0 &#9733;\",\n",
    "        \"1.0 &#9733;\",\n",
    "        \"1.0 &#9733;\",\n",
    "        \"1.5 &#9733;\",\n",
    "        \"1.5 &#9733;\",\n",
    "        \"1.5 &#9733;\",\n",
    "        \"2.0 &#9733;\",\n",
    "        \"2.0 &#9733;\",\n",
    "        \"2.0 &#9733;\",\n",
    "        \"2.5 &#9733;\",\n",
    "        \"2.5 &#9733;\",\n",
    "        \"2.5 &#9733;\",\n",
    "        \"3.0 &#9733;\",\n",
    "        \"3.0 &#9733;\",\n",
    "        \"3.0 &#9733;\",\n",
    "        \"3.5 &#9733;\", \n",
    "        \"3.5 &#9733;\", \n",
    "        \"3.5 &#9733;\", \n",
    "        \"4.0 &#9733;\", \n",
    "        \"4.0 &#9733;\", \n",
    "        \"4.0 &#9733;\", \n",
    "        \"4.5 &#9733;\", \n",
    "        \"4.5 &#9733;\", \n",
    "        \"4.5 &#9733;\", \n",
    "        \"5.0 &#9733;\", \n",
    "        \"5.0 &#9733;\", \n",
    "        \"5.0 &#9733;\"],\n",
    "    values=[\n",
    "        df.loc[df.rating == 1.0, 'total_reviews'].sum()+df.loc[df.rating == 1.5, 'total_reviews'].sum()+df.loc[df.rating == 2.0, 'total_reviews'].sum()+df.loc[df.rating == 2.5, 'total_reviews'].sum()+df.loc[df.rating == 3.0, 'total_reviews'].sum()+df.loc[df.rating == 3.5, 'total_reviews'].sum()+df.loc[df.rating == 4.0, 'total_reviews'].sum()+df.loc[df.rating == 4.5, 'total_reviews'].sum()+df.loc[df.rating == 5.0, 'total_reviews'].sum(),\n",
    "        df.loc[df.rating == 1.0, 'total_reviews'].sum(),\n",
    "        df.loc[df.rating == 1.5, 'total_reviews'].sum(),\n",
    "        df.loc[df.rating == 2.0, 'total_reviews'].sum(),\n",
    "        df.loc[df.rating == 2.5, 'total_reviews'].sum(),\n",
    "        df.loc[df.rating == 3.0, 'total_reviews'].sum(),\n",
    "        df.loc[df.rating == 3.5, 'total_reviews'].sum(),\n",
    "        df.loc[df.rating == 4.0, 'total_reviews'].sum(),\n",
    "        df.loc[df.rating == 4.5, 'total_reviews'].sum(),\n",
    "        df.loc[df.rating == 5.0, 'total_reviews'].sum(),\n",
    "        df.loc[(df.rating == 1.0) & (df.price == 1), 'total_reviews'].sum(),\n",
    "        df.loc[(df.rating == 1.0) & (df.price == 2.5), 'total_reviews'].sum(),\n",
    "        df.loc[(df.rating == 1.0) & (df.price == 4), 'total_reviews'].sum(),\n",
    "        df.loc[(df.rating == 1.5) & (df.price == 1), 'total_reviews'].sum(),\n",
    "        df.loc[(df.rating == 1.5) & (df.price == 2.5), 'total_reviews'].sum(),\n",
    "        df.loc[(df.rating == 1.5) & (df.price == 4), 'total_reviews'].sum(),\n",
    "        df.loc[(df.rating == 2.0) & (df.price == 1), 'total_reviews'].sum(),\n",
    "        df.loc[(df.rating == 2.0) & (df.price == 2.5), 'total_reviews'].sum(),\n",
    "        df.loc[(df.rating == 2.0) & (df.price == 4), 'total_reviews'].sum(),\n",
    "        df.loc[(df.rating == 2.5) & (df.price == 1), 'total_reviews'].sum(),\n",
    "        df.loc[(df.rating == 2.5) & (df.price == 2.5), 'total_reviews'].sum(),\n",
    "        df.loc[(df.rating == 2.5) & (df.price == 4), 'total_reviews'].sum(),\n",
    "        df.loc[(df.rating == 3.0) & (df.price == 1), 'total_reviews'].sum(),\n",
    "        df.loc[(df.rating == 3.0) & (df.price == 2.5), 'total_reviews'].sum(),\n",
    "        df.loc[(df.rating == 3.0) & (df.price == 4), 'total_reviews'].sum(),\n",
    "        df.loc[(df.rating == 3.5) & (df.price == 1), 'total_reviews'].sum(),\n",
    "        df.loc[(df.rating == 3.5) & (df.price == 2.5), 'total_reviews'].sum(),\n",
    "        df.loc[(df.rating == 3.5) & (df.price == 4), 'total_reviews'].sum(),\n",
    "        df.loc[(df.rating == 4.0) & (df.price == 1), 'total_reviews'].sum(),\n",
    "        df.loc[(df.rating == 4.0) & (df.price == 2.5), 'total_reviews'].sum(),\n",
    "        df.loc[(df.rating == 4.0) & (df.price == 4), 'total_reviews'].sum(),\n",
    "        df.loc[(df.rating == 4.5) & (df.price == 1), 'total_reviews'].sum(),\n",
    "        df.loc[(df.rating == 4.5) & (df.price == 2.5), 'total_reviews'].sum(),\n",
    "        df.loc[(df.rating == 4.5) & (df.price == 4), 'total_reviews'].sum(),\n",
    "        df.loc[(df.rating == 5.0) & (df.price == 1), 'total_reviews'].sum(),\n",
    "        df.loc[(df.rating == 5.0) & (df.price == 2.5), 'total_reviews'].sum(),\n",
    "        df.loc[(df.rating == 5.0) & (df.price == 4), 'total_reviews'].sum()],\n",
    "))\n",
    "fig.update_layout(margin = dict(t=0, l=0, r=0, b=0))\n",
    "\n",
    "fig.show()\n",
    "fig.write_html(\"sunburst.html\")\n",
    "# la maggior parte dei ristoranti ha un voto tra le 4 e le 4.5 stelle con predominanza dei ristoranti in fascia di prezzo media. La categoria dei ristoranti con 5 stelle, invece, presenta ugual numero di\n",
    "# ristoranti di fascia economica e media"
   ]
  },
  {
   "cell_type": "code",
   "execution_count": 186,
   "metadata": {},
   "outputs": [
    {
     "data": {
      "text/html": [
       "<div>\n",
       "<style scoped>\n",
       "    .dataframe tbody tr th:only-of-type {\n",
       "        vertical-align: middle;\n",
       "    }\n",
       "\n",
       "    .dataframe tbody tr th {\n",
       "        vertical-align: top;\n",
       "    }\n",
       "\n",
       "    .dataframe thead th {\n",
       "        text-align: right;\n",
       "    }\n",
       "</style>\n",
       "<table border=\"1\" class=\"dataframe\">\n",
       "  <thead>\n",
       "    <tr style=\"text-align: right;\">\n",
       "      <th></th>\n",
       "      <th>price</th>\n",
       "      <th>total_reviews</th>\n",
       "    </tr>\n",
       "  </thead>\n",
       "  <tbody>\n",
       "    <tr>\n",
       "      <th>price</th>\n",
       "      <td>1.000000</td>\n",
       "      <td>0.164051</td>\n",
       "    </tr>\n",
       "    <tr>\n",
       "      <th>total_reviews</th>\n",
       "      <td>0.164051</td>\n",
       "      <td>1.000000</td>\n",
       "    </tr>\n",
       "  </tbody>\n",
       "</table>\n",
       "</div>"
      ],
      "text/plain": [
       "                  price  total_reviews\n",
       "price          1.000000       0.164051\n",
       "total_reviews  0.164051       1.000000"
      ]
     },
     "execution_count": 186,
     "metadata": {},
     "output_type": "execute_result"
    }
   ],
   "source": [
    "df[['price','total_reviews']].corr()\n",
    "\n",
    "# non c'è correlazione tra il costo di un ristorante e il suo numero di recensioni"
   ]
  },
  {
   "cell_type": "code",
   "execution_count": 246,
   "metadata": {},
   "outputs": [],
   "source": [
    "ordered_ratings = df[['total_reviews','price','rating']].groupby(['price','rating']).mean().reset_index()"
   ]
  },
  {
   "cell_type": "code",
   "execution_count": 247,
   "metadata": {},
   "outputs": [
    {
     "data": {
      "application/vnd.plotly.v1+json": {
       "config": {
        "plotlyServerURL": "https://plot.ly"
       },
       "data": [
        {
         "alignmentgroup": "True",
         "bingroup": "x",
         "histfunc": "avg",
         "hovertemplate": "Rating &#9733;=1.0<br>Price (&#8364;)=%{x}<br>avg of rating=%{y}<extra></extra>",
         "legendgroup": "1.0",
         "marker": {
          "color": "#f0f921",
          "pattern": {
           "shape": ""
          }
         },
         "name": "1.0",
         "offsetgroup": "1.0",
         "orientation": "v",
         "showlegend": true,
         "type": "histogram",
         "x": [
          1,
          2.5,
          4
         ],
         "xaxis": "x",
         "y": [
          16.703703703703702,
          19.96153846153846,
          775.3333333333334
         ],
         "yaxis": "y"
        },
        {
         "alignmentgroup": "True",
         "bingroup": "x",
         "histfunc": "avg",
         "hovertemplate": "Rating &#9733;=1.5<br>Price (&#8364;)=%{x}<br>avg of rating=%{y}<extra></extra>",
         "legendgroup": "1.5",
         "marker": {
          "color": "#fdca26",
          "pattern": {
           "shape": ""
          }
         },
         "name": "1.5",
         "offsetgroup": "1.5",
         "orientation": "v",
         "showlegend": true,
         "type": "histogram",
         "x": [
          1,
          2.5,
          4
         ],
         "xaxis": "x",
         "y": [
          136.9090909090909,
          87.2,
          2156
         ],
         "yaxis": "y"
        },
        {
         "alignmentgroup": "True",
         "bingroup": "x",
         "histfunc": "avg",
         "hovertemplate": "Rating &#9733;=2.0<br>Price (&#8364;)=%{x}<br>avg of rating=%{y}<extra></extra>",
         "legendgroup": "2.0",
         "marker": {
          "color": "#fb9f3a",
          "pattern": {
           "shape": ""
          }
         },
         "name": "2.0",
         "offsetgroup": "2.0",
         "orientation": "v",
         "showlegend": true,
         "type": "histogram",
         "x": [
          1,
          2.5,
          4
         ],
         "xaxis": "x",
         "y": [
          23.08108108108108,
          102.60526315789474,
          1644
         ],
         "yaxis": "y"
        },
        {
         "alignmentgroup": "True",
         "bingroup": "x",
         "histfunc": "avg",
         "hovertemplate": "Rating &#9733;=2.5<br>Price (&#8364;)=%{x}<br>avg of rating=%{y}<extra></extra>",
         "legendgroup": "2.5",
         "marker": {
          "color": "#ed7953",
          "pattern": {
           "shape": ""
          }
         },
         "name": "2.5",
         "offsetgroup": "2.5",
         "orientation": "v",
         "showlegend": true,
         "type": "histogram",
         "x": [
          1,
          2.5,
          4
         ],
         "xaxis": "x",
         "y": [
          26.966666666666665,
          125.88888888888889,
          530.75
         ],
         "yaxis": "y"
        },
        {
         "alignmentgroup": "True",
         "bingroup": "x",
         "histfunc": "avg",
         "hovertemplate": "Rating &#9733;=3.0<br>Price (&#8364;)=%{x}<br>avg of rating=%{y}<extra></extra>",
         "legendgroup": "3.0",
         "marker": {
          "color": "#d8576b",
          "pattern": {
           "shape": ""
          }
         },
         "name": "3.0",
         "offsetgroup": "3.0",
         "orientation": "v",
         "showlegend": true,
         "type": "histogram",
         "x": [
          1,
          2.5,
          4
         ],
         "xaxis": "x",
         "y": [
          46.994791666666664,
          184.56160458452723,
          136.6
         ],
         "yaxis": "y"
        },
        {
         "alignmentgroup": "True",
         "bingroup": "x",
         "histfunc": "avg",
         "hovertemplate": "Rating &#9733;=3.5<br>Price (&#8364;)=%{x}<br>avg of rating=%{y}<extra></extra>",
         "legendgroup": "3.5",
         "marker": {
          "color": "#bd3786",
          "pattern": {
           "shape": ""
          }
         },
         "name": "3.5",
         "offsetgroup": "3.5",
         "orientation": "v",
         "showlegend": true,
         "type": "histogram",
         "x": [
          1,
          2.5,
          4
         ],
         "xaxis": "x",
         "y": [
          140.15714285714284,
          307.15132408575033,
          236.8695652173913
         ],
         "yaxis": "y"
        },
        {
         "alignmentgroup": "True",
         "bingroup": "x",
         "histfunc": "avg",
         "hovertemplate": "Rating &#9733;=4.0<br>Price (&#8364;)=%{x}<br>avg of rating=%{y}<extra></extra>",
         "legendgroup": "4.0",
         "marker": {
          "color": "#9c179e",
          "pattern": {
           "shape": ""
          }
         },
         "name": "4.0",
         "offsetgroup": "4.0",
         "orientation": "v",
         "showlegend": true,
         "type": "histogram",
         "x": [
          1,
          2.5,
          4
         ],
         "xaxis": "x",
         "y": [
          131.09706546275396,
          385.68590163934425,
          458.1136363636364
         ],
         "yaxis": "y"
        },
        {
         "alignmentgroup": "True",
         "bingroup": "x",
         "histfunc": "avg",
         "hovertemplate": "Rating &#9733;=4.5<br>Price (&#8364;)=%{x}<br>avg of rating=%{y}<extra></extra>",
         "legendgroup": "4.5",
         "marker": {
          "color": "#7201a8",
          "pattern": {
           "shape": ""
          }
         },
         "name": "4.5",
         "offsetgroup": "4.5",
         "orientation": "v",
         "showlegend": true,
         "type": "histogram",
         "x": [
          1,
          2.5,
          4
         ],
         "xaxis": "x",
         "y": [
          112.04059040590406,
          392.8406779661017,
          377.7916666666667
         ],
         "yaxis": "y"
        },
        {
         "alignmentgroup": "True",
         "bingroup": "x",
         "histfunc": "avg",
         "hovertemplate": "Rating &#9733;=5.0<br>Price (&#8364;)=%{x}<br>avg of rating=%{y}<extra></extra>",
         "legendgroup": "5.0",
         "marker": {
          "color": "#46039f",
          "pattern": {
           "shape": ""
          }
         },
         "name": "5.0",
         "offsetgroup": "5.0",
         "orientation": "v",
         "showlegend": true,
         "type": "histogram",
         "x": [
          1,
          2.5,
          4
         ],
         "xaxis": "x",
         "y": [
          62.7047619047619,
          47.766949152542374,
          44.825
         ],
         "yaxis": "y"
        }
       ],
       "layout": {
        "barmode": "group",
        "height": 400,
        "legend": {
         "title": {
          "text": "Rating &#9733;"
         },
         "tracegroupgap": 0
        },
        "margin": {
         "t": 60
        },
        "template": {
         "data": {
          "bar": [
           {
            "error_x": {
             "color": "#2a3f5f"
            },
            "error_y": {
             "color": "#2a3f5f"
            },
            "marker": {
             "line": {
              "color": "#E5ECF6",
              "width": 0.5
             },
             "pattern": {
              "fillmode": "overlay",
              "size": 10,
              "solidity": 0.2
             }
            },
            "type": "bar"
           }
          ],
          "barpolar": [
           {
            "marker": {
             "line": {
              "color": "#E5ECF6",
              "width": 0.5
             },
             "pattern": {
              "fillmode": "overlay",
              "size": 10,
              "solidity": 0.2
             }
            },
            "type": "barpolar"
           }
          ],
          "carpet": [
           {
            "aaxis": {
             "endlinecolor": "#2a3f5f",
             "gridcolor": "white",
             "linecolor": "white",
             "minorgridcolor": "white",
             "startlinecolor": "#2a3f5f"
            },
            "baxis": {
             "endlinecolor": "#2a3f5f",
             "gridcolor": "white",
             "linecolor": "white",
             "minorgridcolor": "white",
             "startlinecolor": "#2a3f5f"
            },
            "type": "carpet"
           }
          ],
          "choropleth": [
           {
            "colorbar": {
             "outlinewidth": 0,
             "ticks": ""
            },
            "type": "choropleth"
           }
          ],
          "contour": [
           {
            "colorbar": {
             "outlinewidth": 0,
             "ticks": ""
            },
            "colorscale": [
             [
              0,
              "#0d0887"
             ],
             [
              0.1111111111111111,
              "#46039f"
             ],
             [
              0.2222222222222222,
              "#7201a8"
             ],
             [
              0.3333333333333333,
              "#9c179e"
             ],
             [
              0.4444444444444444,
              "#bd3786"
             ],
             [
              0.5555555555555556,
              "#d8576b"
             ],
             [
              0.6666666666666666,
              "#ed7953"
             ],
             [
              0.7777777777777778,
              "#fb9f3a"
             ],
             [
              0.8888888888888888,
              "#fdca26"
             ],
             [
              1,
              "#f0f921"
             ]
            ],
            "type": "contour"
           }
          ],
          "contourcarpet": [
           {
            "colorbar": {
             "outlinewidth": 0,
             "ticks": ""
            },
            "type": "contourcarpet"
           }
          ],
          "heatmap": [
           {
            "colorbar": {
             "outlinewidth": 0,
             "ticks": ""
            },
            "colorscale": [
             [
              0,
              "#0d0887"
             ],
             [
              0.1111111111111111,
              "#46039f"
             ],
             [
              0.2222222222222222,
              "#7201a8"
             ],
             [
              0.3333333333333333,
              "#9c179e"
             ],
             [
              0.4444444444444444,
              "#bd3786"
             ],
             [
              0.5555555555555556,
              "#d8576b"
             ],
             [
              0.6666666666666666,
              "#ed7953"
             ],
             [
              0.7777777777777778,
              "#fb9f3a"
             ],
             [
              0.8888888888888888,
              "#fdca26"
             ],
             [
              1,
              "#f0f921"
             ]
            ],
            "type": "heatmap"
           }
          ],
          "heatmapgl": [
           {
            "colorbar": {
             "outlinewidth": 0,
             "ticks": ""
            },
            "colorscale": [
             [
              0,
              "#0d0887"
             ],
             [
              0.1111111111111111,
              "#46039f"
             ],
             [
              0.2222222222222222,
              "#7201a8"
             ],
             [
              0.3333333333333333,
              "#9c179e"
             ],
             [
              0.4444444444444444,
              "#bd3786"
             ],
             [
              0.5555555555555556,
              "#d8576b"
             ],
             [
              0.6666666666666666,
              "#ed7953"
             ],
             [
              0.7777777777777778,
              "#fb9f3a"
             ],
             [
              0.8888888888888888,
              "#fdca26"
             ],
             [
              1,
              "#f0f921"
             ]
            ],
            "type": "heatmapgl"
           }
          ],
          "histogram": [
           {
            "marker": {
             "pattern": {
              "fillmode": "overlay",
              "size": 10,
              "solidity": 0.2
             }
            },
            "type": "histogram"
           }
          ],
          "histogram2d": [
           {
            "colorbar": {
             "outlinewidth": 0,
             "ticks": ""
            },
            "colorscale": [
             [
              0,
              "#0d0887"
             ],
             [
              0.1111111111111111,
              "#46039f"
             ],
             [
              0.2222222222222222,
              "#7201a8"
             ],
             [
              0.3333333333333333,
              "#9c179e"
             ],
             [
              0.4444444444444444,
              "#bd3786"
             ],
             [
              0.5555555555555556,
              "#d8576b"
             ],
             [
              0.6666666666666666,
              "#ed7953"
             ],
             [
              0.7777777777777778,
              "#fb9f3a"
             ],
             [
              0.8888888888888888,
              "#fdca26"
             ],
             [
              1,
              "#f0f921"
             ]
            ],
            "type": "histogram2d"
           }
          ],
          "histogram2dcontour": [
           {
            "colorbar": {
             "outlinewidth": 0,
             "ticks": ""
            },
            "colorscale": [
             [
              0,
              "#0d0887"
             ],
             [
              0.1111111111111111,
              "#46039f"
             ],
             [
              0.2222222222222222,
              "#7201a8"
             ],
             [
              0.3333333333333333,
              "#9c179e"
             ],
             [
              0.4444444444444444,
              "#bd3786"
             ],
             [
              0.5555555555555556,
              "#d8576b"
             ],
             [
              0.6666666666666666,
              "#ed7953"
             ],
             [
              0.7777777777777778,
              "#fb9f3a"
             ],
             [
              0.8888888888888888,
              "#fdca26"
             ],
             [
              1,
              "#f0f921"
             ]
            ],
            "type": "histogram2dcontour"
           }
          ],
          "mesh3d": [
           {
            "colorbar": {
             "outlinewidth": 0,
             "ticks": ""
            },
            "type": "mesh3d"
           }
          ],
          "parcoords": [
           {
            "line": {
             "colorbar": {
              "outlinewidth": 0,
              "ticks": ""
             }
            },
            "type": "parcoords"
           }
          ],
          "pie": [
           {
            "automargin": true,
            "type": "pie"
           }
          ],
          "scatter": [
           {
            "fillpattern": {
             "fillmode": "overlay",
             "size": 10,
             "solidity": 0.2
            },
            "type": "scatter"
           }
          ],
          "scatter3d": [
           {
            "line": {
             "colorbar": {
              "outlinewidth": 0,
              "ticks": ""
             }
            },
            "marker": {
             "colorbar": {
              "outlinewidth": 0,
              "ticks": ""
             }
            },
            "type": "scatter3d"
           }
          ],
          "scattercarpet": [
           {
            "marker": {
             "colorbar": {
              "outlinewidth": 0,
              "ticks": ""
             }
            },
            "type": "scattercarpet"
           }
          ],
          "scattergeo": [
           {
            "marker": {
             "colorbar": {
              "outlinewidth": 0,
              "ticks": ""
             }
            },
            "type": "scattergeo"
           }
          ],
          "scattergl": [
           {
            "marker": {
             "colorbar": {
              "outlinewidth": 0,
              "ticks": ""
             }
            },
            "type": "scattergl"
           }
          ],
          "scattermapbox": [
           {
            "marker": {
             "colorbar": {
              "outlinewidth": 0,
              "ticks": ""
             }
            },
            "type": "scattermapbox"
           }
          ],
          "scatterpolar": [
           {
            "marker": {
             "colorbar": {
              "outlinewidth": 0,
              "ticks": ""
             }
            },
            "type": "scatterpolar"
           }
          ],
          "scatterpolargl": [
           {
            "marker": {
             "colorbar": {
              "outlinewidth": 0,
              "ticks": ""
             }
            },
            "type": "scatterpolargl"
           }
          ],
          "scatterternary": [
           {
            "marker": {
             "colorbar": {
              "outlinewidth": 0,
              "ticks": ""
             }
            },
            "type": "scatterternary"
           }
          ],
          "surface": [
           {
            "colorbar": {
             "outlinewidth": 0,
             "ticks": ""
            },
            "colorscale": [
             [
              0,
              "#0d0887"
             ],
             [
              0.1111111111111111,
              "#46039f"
             ],
             [
              0.2222222222222222,
              "#7201a8"
             ],
             [
              0.3333333333333333,
              "#9c179e"
             ],
             [
              0.4444444444444444,
              "#bd3786"
             ],
             [
              0.5555555555555556,
              "#d8576b"
             ],
             [
              0.6666666666666666,
              "#ed7953"
             ],
             [
              0.7777777777777778,
              "#fb9f3a"
             ],
             [
              0.8888888888888888,
              "#fdca26"
             ],
             [
              1,
              "#f0f921"
             ]
            ],
            "type": "surface"
           }
          ],
          "table": [
           {
            "cells": {
             "fill": {
              "color": "#EBF0F8"
             },
             "line": {
              "color": "white"
             }
            },
            "header": {
             "fill": {
              "color": "#C8D4E3"
             },
             "line": {
              "color": "white"
             }
            },
            "type": "table"
           }
          ]
         },
         "layout": {
          "annotationdefaults": {
           "arrowcolor": "#2a3f5f",
           "arrowhead": 0,
           "arrowwidth": 1
          },
          "autotypenumbers": "strict",
          "coloraxis": {
           "colorbar": {
            "outlinewidth": 0,
            "ticks": ""
           }
          },
          "colorscale": {
           "diverging": [
            [
             0,
             "#8e0152"
            ],
            [
             0.1,
             "#c51b7d"
            ],
            [
             0.2,
             "#de77ae"
            ],
            [
             0.3,
             "#f1b6da"
            ],
            [
             0.4,
             "#fde0ef"
            ],
            [
             0.5,
             "#f7f7f7"
            ],
            [
             0.6,
             "#e6f5d0"
            ],
            [
             0.7,
             "#b8e186"
            ],
            [
             0.8,
             "#7fbc41"
            ],
            [
             0.9,
             "#4d9221"
            ],
            [
             1,
             "#276419"
            ]
           ],
           "sequential": [
            [
             0,
             "#0d0887"
            ],
            [
             0.1111111111111111,
             "#46039f"
            ],
            [
             0.2222222222222222,
             "#7201a8"
            ],
            [
             0.3333333333333333,
             "#9c179e"
            ],
            [
             0.4444444444444444,
             "#bd3786"
            ],
            [
             0.5555555555555556,
             "#d8576b"
            ],
            [
             0.6666666666666666,
             "#ed7953"
            ],
            [
             0.7777777777777778,
             "#fb9f3a"
            ],
            [
             0.8888888888888888,
             "#fdca26"
            ],
            [
             1,
             "#f0f921"
            ]
           ],
           "sequentialminus": [
            [
             0,
             "#0d0887"
            ],
            [
             0.1111111111111111,
             "#46039f"
            ],
            [
             0.2222222222222222,
             "#7201a8"
            ],
            [
             0.3333333333333333,
             "#9c179e"
            ],
            [
             0.4444444444444444,
             "#bd3786"
            ],
            [
             0.5555555555555556,
             "#d8576b"
            ],
            [
             0.6666666666666666,
             "#ed7953"
            ],
            [
             0.7777777777777778,
             "#fb9f3a"
            ],
            [
             0.8888888888888888,
             "#fdca26"
            ],
            [
             1,
             "#f0f921"
            ]
           ]
          },
          "colorway": [
           "#636efa",
           "#EF553B",
           "#00cc96",
           "#ab63fa",
           "#FFA15A",
           "#19d3f3",
           "#FF6692",
           "#B6E880",
           "#FF97FF",
           "#FECB52"
          ],
          "font": {
           "color": "#2a3f5f"
          },
          "geo": {
           "bgcolor": "white",
           "lakecolor": "white",
           "landcolor": "#E5ECF6",
           "showlakes": true,
           "showland": true,
           "subunitcolor": "white"
          },
          "hoverlabel": {
           "align": "left"
          },
          "hovermode": "closest",
          "mapbox": {
           "style": "light"
          },
          "paper_bgcolor": "white",
          "plot_bgcolor": "#E5ECF6",
          "polar": {
           "angularaxis": {
            "gridcolor": "white",
            "linecolor": "white",
            "ticks": ""
           },
           "bgcolor": "#E5ECF6",
           "radialaxis": {
            "gridcolor": "white",
            "linecolor": "white",
            "ticks": ""
           }
          },
          "scene": {
           "xaxis": {
            "backgroundcolor": "#E5ECF6",
            "gridcolor": "white",
            "gridwidth": 2,
            "linecolor": "white",
            "showbackground": true,
            "ticks": "",
            "zerolinecolor": "white"
           },
           "yaxis": {
            "backgroundcolor": "#E5ECF6",
            "gridcolor": "white",
            "gridwidth": 2,
            "linecolor": "white",
            "showbackground": true,
            "ticks": "",
            "zerolinecolor": "white"
           },
           "zaxis": {
            "backgroundcolor": "#E5ECF6",
            "gridcolor": "white",
            "gridwidth": 2,
            "linecolor": "white",
            "showbackground": true,
            "ticks": "",
            "zerolinecolor": "white"
           }
          },
          "shapedefaults": {
           "line": {
            "color": "#2a3f5f"
           }
          },
          "ternary": {
           "aaxis": {
            "gridcolor": "white",
            "linecolor": "white",
            "ticks": ""
           },
           "baxis": {
            "gridcolor": "white",
            "linecolor": "white",
            "ticks": ""
           },
           "bgcolor": "#E5ECF6",
           "caxis": {
            "gridcolor": "white",
            "linecolor": "white",
            "ticks": ""
           }
          },
          "title": {
           "x": 0.05
          },
          "xaxis": {
           "automargin": true,
           "gridcolor": "white",
           "linecolor": "white",
           "ticks": "",
           "title": {
            "standoff": 15
           },
           "zerolinecolor": "white",
           "zerolinewidth": 2
          },
          "yaxis": {
           "automargin": true,
           "gridcolor": "white",
           "linecolor": "white",
           "ticks": "",
           "title": {
            "standoff": 15
           },
           "zerolinecolor": "white",
           "zerolinewidth": 2
          }
         }
        },
        "width": 1200,
        "xaxis": {
         "anchor": "y",
         "domain": [
          0,
          1
         ],
         "title": {
          "text": "Price (&#8364;)"
         },
         "type": "category"
        },
        "yaxis": {
         "anchor": "x",
         "domain": [
          0,
          1
         ],
         "title": {
          "text": "avg of rating"
         }
        }
       }
      }
     },
     "metadata": {},
     "output_type": "display_data"
    }
   ],
   "source": [
    "fig = px.histogram(\n",
    "    ordered_ratings.sort_values(\"price\", ascending=True),\n",
    "    x = ordered_ratings.price,\n",
    "    y = ordered_ratings.total_reviews,\n",
    "    color=ordered_ratings.rating, \n",
    "    width=1200, \n",
    "    height=400,\n",
    "    barmode='group',\n",
    "    color_discrete_sequence = px.colors.sequential.Plasma_r,\n",
    "    histfunc='avg',\n",
    "    labels=dict(x=\"Price (&#8364;)\", y=\"rating\", color=\"Rating &#9733;\"))\n",
    "fig.update_xaxes(type='category')\n",
    "fig.show()\n",
    "\n",
    "# nei ristoranti più economici si recensisce quando si è generalmente più scontenti\n",
    "# nei ristoranti di fascia media si recensisce maggiormente quando si è soddisfatti\n",
    "# nei ristoranti costosi si scrive molto di più quando si è fortemente insoddisfatti "
   ]
  },
  {
   "cell_type": "code",
   "execution_count": 248,
   "metadata": {},
   "outputs": [
    {
     "data": {
      "application/vnd.plotly.v1+json": {
       "config": {
        "plotlyServerURL": "https://plot.ly"
       },
       "data": [
        {
         "alignmentgroup": "True",
         "hovertemplate": "variable=total_reviews<br>N. Restaurants=%{x}<br>Municipio=%{y}<extra></extra>",
         "legendgroup": "total_reviews",
         "marker": {
          "color": "#F8766D",
          "pattern": {
           "shape": ""
          }
         },
         "name": "total_reviews",
         "offsetgroup": "total_reviews",
         "orientation": "h",
         "showlegend": true,
         "textposition": "auto",
         "type": "bar",
         "x": [
          164,
          201,
          218,
          224,
          264,
          266,
          271,
          284,
          316,
          368,
          443,
          496,
          738,
          822,
          2708
         ],
         "xaxis": "x",
         "y": [
          "Municipio VI (ex VIII)",
          "Municipio XIV (ex XIX)",
          "Municipio XI (ex XV)",
          "Municipio X (ex XIII)",
          "Municipio XIII (ex XVIII)",
          "Municipio XV (ex XX)",
          "Municipio XII (ex XVI)",
          "Municipio IV (ex V)",
          "Municipio IX (ex XII)",
          "Municipio III (ex IV)",
          "Municipio VIII (ex XI)",
          "Municipio V (ex VI + ex VII)",
          "Municipio VII (ex IX + ex X)",
          "Municipio II (ex II + ex III)",
          "Municipio I (ex I + ex XVII)"
         ],
         "yaxis": "y"
        }
       ],
       "layout": {
        "barmode": "relative",
        "legend": {
         "title": {
          "text": "variable"
         },
         "tracegroupgap": 0
        },
        "margin": {
         "t": 60
        },
        "showlegend": false,
        "template": {
         "data": {
          "bar": [
           {
            "error_x": {
             "color": "rgb(51,51,51)"
            },
            "error_y": {
             "color": "rgb(51,51,51)"
            },
            "marker": {
             "line": {
              "color": "rgb(237,237,237)",
              "width": 0.5
             },
             "pattern": {
              "fillmode": "overlay",
              "size": 10,
              "solidity": 0.2
             }
            },
            "type": "bar"
           }
          ],
          "barpolar": [
           {
            "marker": {
             "line": {
              "color": "rgb(237,237,237)",
              "width": 0.5
             },
             "pattern": {
              "fillmode": "overlay",
              "size": 10,
              "solidity": 0.2
             }
            },
            "type": "barpolar"
           }
          ],
          "carpet": [
           {
            "aaxis": {
             "endlinecolor": "rgb(51,51,51)",
             "gridcolor": "white",
             "linecolor": "white",
             "minorgridcolor": "white",
             "startlinecolor": "rgb(51,51,51)"
            },
            "baxis": {
             "endlinecolor": "rgb(51,51,51)",
             "gridcolor": "white",
             "linecolor": "white",
             "minorgridcolor": "white",
             "startlinecolor": "rgb(51,51,51)"
            },
            "type": "carpet"
           }
          ],
          "choropleth": [
           {
            "colorbar": {
             "outlinewidth": 0,
             "tickcolor": "rgb(237,237,237)",
             "ticklen": 6,
             "ticks": "inside"
            },
            "type": "choropleth"
           }
          ],
          "contour": [
           {
            "colorbar": {
             "outlinewidth": 0,
             "tickcolor": "rgb(237,237,237)",
             "ticklen": 6,
             "ticks": "inside"
            },
            "colorscale": [
             [
              0,
              "rgb(20,44,66)"
             ],
             [
              1,
              "rgb(90,179,244)"
             ]
            ],
            "type": "contour"
           }
          ],
          "contourcarpet": [
           {
            "colorbar": {
             "outlinewidth": 0,
             "tickcolor": "rgb(237,237,237)",
             "ticklen": 6,
             "ticks": "inside"
            },
            "type": "contourcarpet"
           }
          ],
          "heatmap": [
           {
            "colorbar": {
             "outlinewidth": 0,
             "tickcolor": "rgb(237,237,237)",
             "ticklen": 6,
             "ticks": "inside"
            },
            "colorscale": [
             [
              0,
              "rgb(20,44,66)"
             ],
             [
              1,
              "rgb(90,179,244)"
             ]
            ],
            "type": "heatmap"
           }
          ],
          "heatmapgl": [
           {
            "colorbar": {
             "outlinewidth": 0,
             "tickcolor": "rgb(237,237,237)",
             "ticklen": 6,
             "ticks": "inside"
            },
            "colorscale": [
             [
              0,
              "rgb(20,44,66)"
             ],
             [
              1,
              "rgb(90,179,244)"
             ]
            ],
            "type": "heatmapgl"
           }
          ],
          "histogram": [
           {
            "marker": {
             "pattern": {
              "fillmode": "overlay",
              "size": 10,
              "solidity": 0.2
             }
            },
            "type": "histogram"
           }
          ],
          "histogram2d": [
           {
            "colorbar": {
             "outlinewidth": 0,
             "tickcolor": "rgb(237,237,237)",
             "ticklen": 6,
             "ticks": "inside"
            },
            "colorscale": [
             [
              0,
              "rgb(20,44,66)"
             ],
             [
              1,
              "rgb(90,179,244)"
             ]
            ],
            "type": "histogram2d"
           }
          ],
          "histogram2dcontour": [
           {
            "colorbar": {
             "outlinewidth": 0,
             "tickcolor": "rgb(237,237,237)",
             "ticklen": 6,
             "ticks": "inside"
            },
            "colorscale": [
             [
              0,
              "rgb(20,44,66)"
             ],
             [
              1,
              "rgb(90,179,244)"
             ]
            ],
            "type": "histogram2dcontour"
           }
          ],
          "mesh3d": [
           {
            "colorbar": {
             "outlinewidth": 0,
             "tickcolor": "rgb(237,237,237)",
             "ticklen": 6,
             "ticks": "inside"
            },
            "type": "mesh3d"
           }
          ],
          "parcoords": [
           {
            "line": {
             "colorbar": {
              "outlinewidth": 0,
              "tickcolor": "rgb(237,237,237)",
              "ticklen": 6,
              "ticks": "inside"
             }
            },
            "type": "parcoords"
           }
          ],
          "pie": [
           {
            "automargin": true,
            "type": "pie"
           }
          ],
          "scatter": [
           {
            "fillpattern": {
             "fillmode": "overlay",
             "size": 10,
             "solidity": 0.2
            },
            "type": "scatter"
           }
          ],
          "scatter3d": [
           {
            "line": {
             "colorbar": {
              "outlinewidth": 0,
              "tickcolor": "rgb(237,237,237)",
              "ticklen": 6,
              "ticks": "inside"
             }
            },
            "marker": {
             "colorbar": {
              "outlinewidth": 0,
              "tickcolor": "rgb(237,237,237)",
              "ticklen": 6,
              "ticks": "inside"
             }
            },
            "type": "scatter3d"
           }
          ],
          "scattercarpet": [
           {
            "marker": {
             "colorbar": {
              "outlinewidth": 0,
              "tickcolor": "rgb(237,237,237)",
              "ticklen": 6,
              "ticks": "inside"
             }
            },
            "type": "scattercarpet"
           }
          ],
          "scattergeo": [
           {
            "marker": {
             "colorbar": {
              "outlinewidth": 0,
              "tickcolor": "rgb(237,237,237)",
              "ticklen": 6,
              "ticks": "inside"
             }
            },
            "type": "scattergeo"
           }
          ],
          "scattergl": [
           {
            "marker": {
             "colorbar": {
              "outlinewidth": 0,
              "tickcolor": "rgb(237,237,237)",
              "ticklen": 6,
              "ticks": "inside"
             }
            },
            "type": "scattergl"
           }
          ],
          "scattermapbox": [
           {
            "marker": {
             "colorbar": {
              "outlinewidth": 0,
              "tickcolor": "rgb(237,237,237)",
              "ticklen": 6,
              "ticks": "inside"
             }
            },
            "type": "scattermapbox"
           }
          ],
          "scatterpolar": [
           {
            "marker": {
             "colorbar": {
              "outlinewidth": 0,
              "tickcolor": "rgb(237,237,237)",
              "ticklen": 6,
              "ticks": "inside"
             }
            },
            "type": "scatterpolar"
           }
          ],
          "scatterpolargl": [
           {
            "marker": {
             "colorbar": {
              "outlinewidth": 0,
              "tickcolor": "rgb(237,237,237)",
              "ticklen": 6,
              "ticks": "inside"
             }
            },
            "type": "scatterpolargl"
           }
          ],
          "scatterternary": [
           {
            "marker": {
             "colorbar": {
              "outlinewidth": 0,
              "tickcolor": "rgb(237,237,237)",
              "ticklen": 6,
              "ticks": "inside"
             }
            },
            "type": "scatterternary"
           }
          ],
          "surface": [
           {
            "colorbar": {
             "outlinewidth": 0,
             "tickcolor": "rgb(237,237,237)",
             "ticklen": 6,
             "ticks": "inside"
            },
            "colorscale": [
             [
              0,
              "rgb(20,44,66)"
             ],
             [
              1,
              "rgb(90,179,244)"
             ]
            ],
            "type": "surface"
           }
          ],
          "table": [
           {
            "cells": {
             "fill": {
              "color": "rgb(237,237,237)"
             },
             "line": {
              "color": "white"
             }
            },
            "header": {
             "fill": {
              "color": "rgb(217,217,217)"
             },
             "line": {
              "color": "white"
             }
            },
            "type": "table"
           }
          ]
         },
         "layout": {
          "annotationdefaults": {
           "arrowhead": 0,
           "arrowwidth": 1
          },
          "autotypenumbers": "strict",
          "coloraxis": {
           "colorbar": {
            "outlinewidth": 0,
            "tickcolor": "rgb(237,237,237)",
            "ticklen": 6,
            "ticks": "inside"
           }
          },
          "colorscale": {
           "sequential": [
            [
             0,
             "rgb(20,44,66)"
            ],
            [
             1,
             "rgb(90,179,244)"
            ]
           ],
           "sequentialminus": [
            [
             0,
             "rgb(20,44,66)"
            ],
            [
             1,
             "rgb(90,179,244)"
            ]
           ]
          },
          "colorway": [
           "#F8766D",
           "#A3A500",
           "#00BF7D",
           "#00B0F6",
           "#E76BF3"
          ],
          "font": {
           "color": "rgb(51,51,51)"
          },
          "geo": {
           "bgcolor": "white",
           "lakecolor": "white",
           "landcolor": "rgb(237,237,237)",
           "showlakes": true,
           "showland": true,
           "subunitcolor": "white"
          },
          "hoverlabel": {
           "align": "left"
          },
          "hovermode": "closest",
          "paper_bgcolor": "white",
          "plot_bgcolor": "rgb(237,237,237)",
          "polar": {
           "angularaxis": {
            "gridcolor": "white",
            "linecolor": "white",
            "showgrid": true,
            "tickcolor": "rgb(51,51,51)",
            "ticks": "outside"
           },
           "bgcolor": "rgb(237,237,237)",
           "radialaxis": {
            "gridcolor": "white",
            "linecolor": "white",
            "showgrid": true,
            "tickcolor": "rgb(51,51,51)",
            "ticks": "outside"
           }
          },
          "scene": {
           "xaxis": {
            "backgroundcolor": "rgb(237,237,237)",
            "gridcolor": "white",
            "gridwidth": 2,
            "linecolor": "white",
            "showbackground": true,
            "showgrid": true,
            "tickcolor": "rgb(51,51,51)",
            "ticks": "outside",
            "zerolinecolor": "white"
           },
           "yaxis": {
            "backgroundcolor": "rgb(237,237,237)",
            "gridcolor": "white",
            "gridwidth": 2,
            "linecolor": "white",
            "showbackground": true,
            "showgrid": true,
            "tickcolor": "rgb(51,51,51)",
            "ticks": "outside",
            "zerolinecolor": "white"
           },
           "zaxis": {
            "backgroundcolor": "rgb(237,237,237)",
            "gridcolor": "white",
            "gridwidth": 2,
            "linecolor": "white",
            "showbackground": true,
            "showgrid": true,
            "tickcolor": "rgb(51,51,51)",
            "ticks": "outside",
            "zerolinecolor": "white"
           }
          },
          "shapedefaults": {
           "fillcolor": "black",
           "line": {
            "width": 0
           },
           "opacity": 0.3
          },
          "ternary": {
           "aaxis": {
            "gridcolor": "white",
            "linecolor": "white",
            "showgrid": true,
            "tickcolor": "rgb(51,51,51)",
            "ticks": "outside"
           },
           "baxis": {
            "gridcolor": "white",
            "linecolor": "white",
            "showgrid": true,
            "tickcolor": "rgb(51,51,51)",
            "ticks": "outside"
           },
           "bgcolor": "rgb(237,237,237)",
           "caxis": {
            "gridcolor": "white",
            "linecolor": "white",
            "showgrid": true,
            "tickcolor": "rgb(51,51,51)",
            "ticks": "outside"
           }
          },
          "xaxis": {
           "automargin": true,
           "gridcolor": "white",
           "linecolor": "white",
           "showgrid": true,
           "tickcolor": "rgb(51,51,51)",
           "ticks": "outside",
           "title": {
            "standoff": 15
           },
           "zerolinecolor": "white"
          },
          "yaxis": {
           "automargin": true,
           "gridcolor": "white",
           "linecolor": "white",
           "showgrid": true,
           "tickcolor": "rgb(51,51,51)",
           "ticks": "outside",
           "title": {
            "standoff": 15
           },
           "zerolinecolor": "white"
          }
         }
        },
        "title": {
         "text": "Count of Restaurants by Municipio"
        },
        "xaxis": {
         "anchor": "y",
         "domain": [
          0,
          1
         ],
         "title": {
          "text": "N. Restaurants"
         }
        },
        "yaxis": {
         "anchor": "x",
         "domain": [
          0,
          1
         ],
         "title": {
          "text": "Municipio"
         }
        }
       }
      }
     },
     "metadata": {},
     "output_type": "display_data"
    }
   ],
   "source": [
    "fig = px.bar(\n",
    "    df[['total_reviews','nome']].groupby('nome').count().sort_values(by='total_reviews'),\n",
    "    orientation=\"h\",\n",
    "    template=\"ggplot2\",\n",
    "    labels={'value':'N. Restaurants', 'nome': 'Municipio'}\n",
    "    )\n",
    "fig.update_layout(showlegend=False, title=\"Count of Restaurants by Municipio\")\n",
    "fig.show()\n",
    "\n",
    "# Intuitivo -> la maggior parte dei ristoranti sta al centro (https://it.wikipedia.org/wiki/Municipio_Roma_I)\n",
    "# Tor bella -> ultimo per numero ristoranti (SIUM)"
   ]
  },
  {
   "cell_type": "code",
   "execution_count": 251,
   "metadata": {},
   "outputs": [],
   "source": [
    "test = df[['name','rating','nome']].groupby('nome').agg(\n",
    "    total_restaurants=pd.NamedAgg(column='name', aggfunc=np.size),\n",
    "    mean_rating = pd.NamedAgg(column=\"rating\", aggfunc=np.mean),\n",
    ").reset_index()"
   ]
  },
  {
   "cell_type": "code",
   "execution_count": 252,
   "metadata": {},
   "outputs": [
    {
     "data": {
      "application/vnd.plotly.v1+json": {
       "config": {
        "plotlyServerURL": "https://plot.ly"
       },
       "data": [
        {
         "branchvalues": "total",
         "customdata": [
          [
           3.9409158050221564
          ],
          [
           4.0395377128953776
          ],
          [
           3.8845108695652173
          ],
          [
           3.9735915492957745
          ],
          [
           3.7705696202531644
          ],
          [
           4.122983870967742
          ],
          [
           4.0182926829268295
          ],
          [
           3.9898373983739837
          ],
          [
           4.055304740406321
          ],
          [
           4.104910714285714
          ],
          [
           3.979357798165138
          ],
          [
           4.049815498154982
          ],
          [
           4.051136363636363
          ],
          [
           4.079601990049751
          ],
          [
           3.8909774436090228
          ],
          [
           3.9825260182448927
          ]
         ],
         "domain": {
          "x": [
           0,
           1
          ],
          "y": [
           0,
           1
          ]
         },
         "hovertemplate": "labels=%{label}<br>total_restaurants=%{value}<br>parent=%{parent}<br>id=%{id}<br>Mean Rating=%{color}<extra></extra>",
         "ids": [
          "Municipi/Municipio I (ex I + ex XVII)",
          "Municipi/Municipio II (ex II + ex III)",
          "Municipi/Municipio III (ex IV)",
          "Municipi/Municipio IV (ex V)",
          "Municipi/Municipio IX (ex XII)",
          "Municipi/Municipio V (ex VI + ex VII)",
          "Municipi/Municipio VI (ex VIII)",
          "Municipi/Municipio VII (ex IX + ex X)",
          "Municipi/Municipio VIII (ex XI)",
          "Municipi/Municipio X (ex XIII)",
          "Municipi/Municipio XI (ex XV)",
          "Municipi/Municipio XII (ex XVI)",
          "Municipi/Municipio XIII (ex XVIII)",
          "Municipi/Municipio XIV (ex XIX)",
          "Municipi/Municipio XV (ex XX)",
          "Municipi"
         ],
         "labels": [
          "Municipio I (ex I + ex XVII)",
          "Municipio II (ex II + ex III)",
          "Municipio III (ex IV)",
          "Municipio IV (ex V)",
          "Municipio IX (ex XII)",
          "Municipio V (ex VI + ex VII)",
          "Municipio VI (ex VIII)",
          "Municipio VII (ex IX + ex X)",
          "Municipio VIII (ex XI)",
          "Municipio X (ex XIII)",
          "Municipio XI (ex XV)",
          "Municipio XII (ex XVI)",
          "Municipio XIII (ex XVIII)",
          "Municipio XIV (ex XIX)",
          "Municipio XV (ex XX)",
          "Municipi"
         ],
         "marker": {
          "coloraxis": "coloraxis",
          "colors": [
           3.9409158050221564,
           4.0395377128953776,
           3.8845108695652173,
           3.9735915492957745,
           3.7705696202531644,
           4.122983870967742,
           4.0182926829268295,
           3.9898373983739837,
           4.055304740406321,
           4.104910714285714,
           3.979357798165138,
           4.049815498154982,
           4.051136363636363,
           4.079601990049751,
           3.8909774436090228,
           3.9825260182448927
          ]
         },
         "name": "",
         "parents": [
          "Municipi",
          "Municipi",
          "Municipi",
          "Municipi",
          "Municipi",
          "Municipi",
          "Municipi",
          "Municipi",
          "Municipi",
          "Municipi",
          "Municipi",
          "Municipi",
          "Municipi",
          "Municipi",
          "Municipi",
          ""
         ],
         "type": "treemap",
         "values": [
          2708,
          822,
          368,
          284,
          316,
          496,
          164,
          738,
          443,
          224,
          218,
          271,
          264,
          201,
          266,
          7783
         ]
        }
       ],
       "layout": {
        "coloraxis": {
         "colorbar": {
          "title": {
           "text": "Mean Rating"
          }
         },
         "colorscale": [
          [
           0,
           "#0d0887"
          ],
          [
           0.1111111111111111,
           "#46039f"
          ],
          [
           0.2222222222222222,
           "#7201a8"
          ],
          [
           0.3333333333333333,
           "#9c179e"
          ],
          [
           0.4444444444444444,
           "#bd3786"
          ],
          [
           0.5555555555555556,
           "#d8576b"
          ],
          [
           0.6666666666666666,
           "#ed7953"
          ],
          [
           0.7777777777777778,
           "#fb9f3a"
          ],
          [
           0.8888888888888888,
           "#fdca26"
          ],
          [
           1,
           "#f0f921"
          ]
         ]
        },
        "height": 900,
        "legend": {
         "tracegroupgap": 0
        },
        "margin": {
         "b": 15,
         "l": 10,
         "r": 10,
         "t": 40
        },
        "template": {
         "data": {
          "bar": [
           {
            "error_x": {
             "color": "#2a3f5f"
            },
            "error_y": {
             "color": "#2a3f5f"
            },
            "marker": {
             "line": {
              "color": "#E5ECF6",
              "width": 0.5
             },
             "pattern": {
              "fillmode": "overlay",
              "size": 10,
              "solidity": 0.2
             }
            },
            "type": "bar"
           }
          ],
          "barpolar": [
           {
            "marker": {
             "line": {
              "color": "#E5ECF6",
              "width": 0.5
             },
             "pattern": {
              "fillmode": "overlay",
              "size": 10,
              "solidity": 0.2
             }
            },
            "type": "barpolar"
           }
          ],
          "carpet": [
           {
            "aaxis": {
             "endlinecolor": "#2a3f5f",
             "gridcolor": "white",
             "linecolor": "white",
             "minorgridcolor": "white",
             "startlinecolor": "#2a3f5f"
            },
            "baxis": {
             "endlinecolor": "#2a3f5f",
             "gridcolor": "white",
             "linecolor": "white",
             "minorgridcolor": "white",
             "startlinecolor": "#2a3f5f"
            },
            "type": "carpet"
           }
          ],
          "choropleth": [
           {
            "colorbar": {
             "outlinewidth": 0,
             "ticks": ""
            },
            "type": "choropleth"
           }
          ],
          "contour": [
           {
            "colorbar": {
             "outlinewidth": 0,
             "ticks": ""
            },
            "colorscale": [
             [
              0,
              "#0d0887"
             ],
             [
              0.1111111111111111,
              "#46039f"
             ],
             [
              0.2222222222222222,
              "#7201a8"
             ],
             [
              0.3333333333333333,
              "#9c179e"
             ],
             [
              0.4444444444444444,
              "#bd3786"
             ],
             [
              0.5555555555555556,
              "#d8576b"
             ],
             [
              0.6666666666666666,
              "#ed7953"
             ],
             [
              0.7777777777777778,
              "#fb9f3a"
             ],
             [
              0.8888888888888888,
              "#fdca26"
             ],
             [
              1,
              "#f0f921"
             ]
            ],
            "type": "contour"
           }
          ],
          "contourcarpet": [
           {
            "colorbar": {
             "outlinewidth": 0,
             "ticks": ""
            },
            "type": "contourcarpet"
           }
          ],
          "heatmap": [
           {
            "colorbar": {
             "outlinewidth": 0,
             "ticks": ""
            },
            "colorscale": [
             [
              0,
              "#0d0887"
             ],
             [
              0.1111111111111111,
              "#46039f"
             ],
             [
              0.2222222222222222,
              "#7201a8"
             ],
             [
              0.3333333333333333,
              "#9c179e"
             ],
             [
              0.4444444444444444,
              "#bd3786"
             ],
             [
              0.5555555555555556,
              "#d8576b"
             ],
             [
              0.6666666666666666,
              "#ed7953"
             ],
             [
              0.7777777777777778,
              "#fb9f3a"
             ],
             [
              0.8888888888888888,
              "#fdca26"
             ],
             [
              1,
              "#f0f921"
             ]
            ],
            "type": "heatmap"
           }
          ],
          "heatmapgl": [
           {
            "colorbar": {
             "outlinewidth": 0,
             "ticks": ""
            },
            "colorscale": [
             [
              0,
              "#0d0887"
             ],
             [
              0.1111111111111111,
              "#46039f"
             ],
             [
              0.2222222222222222,
              "#7201a8"
             ],
             [
              0.3333333333333333,
              "#9c179e"
             ],
             [
              0.4444444444444444,
              "#bd3786"
             ],
             [
              0.5555555555555556,
              "#d8576b"
             ],
             [
              0.6666666666666666,
              "#ed7953"
             ],
             [
              0.7777777777777778,
              "#fb9f3a"
             ],
             [
              0.8888888888888888,
              "#fdca26"
             ],
             [
              1,
              "#f0f921"
             ]
            ],
            "type": "heatmapgl"
           }
          ],
          "histogram": [
           {
            "marker": {
             "pattern": {
              "fillmode": "overlay",
              "size": 10,
              "solidity": 0.2
             }
            },
            "type": "histogram"
           }
          ],
          "histogram2d": [
           {
            "colorbar": {
             "outlinewidth": 0,
             "ticks": ""
            },
            "colorscale": [
             [
              0,
              "#0d0887"
             ],
             [
              0.1111111111111111,
              "#46039f"
             ],
             [
              0.2222222222222222,
              "#7201a8"
             ],
             [
              0.3333333333333333,
              "#9c179e"
             ],
             [
              0.4444444444444444,
              "#bd3786"
             ],
             [
              0.5555555555555556,
              "#d8576b"
             ],
             [
              0.6666666666666666,
              "#ed7953"
             ],
             [
              0.7777777777777778,
              "#fb9f3a"
             ],
             [
              0.8888888888888888,
              "#fdca26"
             ],
             [
              1,
              "#f0f921"
             ]
            ],
            "type": "histogram2d"
           }
          ],
          "histogram2dcontour": [
           {
            "colorbar": {
             "outlinewidth": 0,
             "ticks": ""
            },
            "colorscale": [
             [
              0,
              "#0d0887"
             ],
             [
              0.1111111111111111,
              "#46039f"
             ],
             [
              0.2222222222222222,
              "#7201a8"
             ],
             [
              0.3333333333333333,
              "#9c179e"
             ],
             [
              0.4444444444444444,
              "#bd3786"
             ],
             [
              0.5555555555555556,
              "#d8576b"
             ],
             [
              0.6666666666666666,
              "#ed7953"
             ],
             [
              0.7777777777777778,
              "#fb9f3a"
             ],
             [
              0.8888888888888888,
              "#fdca26"
             ],
             [
              1,
              "#f0f921"
             ]
            ],
            "type": "histogram2dcontour"
           }
          ],
          "mesh3d": [
           {
            "colorbar": {
             "outlinewidth": 0,
             "ticks": ""
            },
            "type": "mesh3d"
           }
          ],
          "parcoords": [
           {
            "line": {
             "colorbar": {
              "outlinewidth": 0,
              "ticks": ""
             }
            },
            "type": "parcoords"
           }
          ],
          "pie": [
           {
            "automargin": true,
            "type": "pie"
           }
          ],
          "scatter": [
           {
            "fillpattern": {
             "fillmode": "overlay",
             "size": 10,
             "solidity": 0.2
            },
            "type": "scatter"
           }
          ],
          "scatter3d": [
           {
            "line": {
             "colorbar": {
              "outlinewidth": 0,
              "ticks": ""
             }
            },
            "marker": {
             "colorbar": {
              "outlinewidth": 0,
              "ticks": ""
             }
            },
            "type": "scatter3d"
           }
          ],
          "scattercarpet": [
           {
            "marker": {
             "colorbar": {
              "outlinewidth": 0,
              "ticks": ""
             }
            },
            "type": "scattercarpet"
           }
          ],
          "scattergeo": [
           {
            "marker": {
             "colorbar": {
              "outlinewidth": 0,
              "ticks": ""
             }
            },
            "type": "scattergeo"
           }
          ],
          "scattergl": [
           {
            "marker": {
             "colorbar": {
              "outlinewidth": 0,
              "ticks": ""
             }
            },
            "type": "scattergl"
           }
          ],
          "scattermapbox": [
           {
            "marker": {
             "colorbar": {
              "outlinewidth": 0,
              "ticks": ""
             }
            },
            "type": "scattermapbox"
           }
          ],
          "scatterpolar": [
           {
            "marker": {
             "colorbar": {
              "outlinewidth": 0,
              "ticks": ""
             }
            },
            "type": "scatterpolar"
           }
          ],
          "scatterpolargl": [
           {
            "marker": {
             "colorbar": {
              "outlinewidth": 0,
              "ticks": ""
             }
            },
            "type": "scatterpolargl"
           }
          ],
          "scatterternary": [
           {
            "marker": {
             "colorbar": {
              "outlinewidth": 0,
              "ticks": ""
             }
            },
            "type": "scatterternary"
           }
          ],
          "surface": [
           {
            "colorbar": {
             "outlinewidth": 0,
             "ticks": ""
            },
            "colorscale": [
             [
              0,
              "#0d0887"
             ],
             [
              0.1111111111111111,
              "#46039f"
             ],
             [
              0.2222222222222222,
              "#7201a8"
             ],
             [
              0.3333333333333333,
              "#9c179e"
             ],
             [
              0.4444444444444444,
              "#bd3786"
             ],
             [
              0.5555555555555556,
              "#d8576b"
             ],
             [
              0.6666666666666666,
              "#ed7953"
             ],
             [
              0.7777777777777778,
              "#fb9f3a"
             ],
             [
              0.8888888888888888,
              "#fdca26"
             ],
             [
              1,
              "#f0f921"
             ]
            ],
            "type": "surface"
           }
          ],
          "table": [
           {
            "cells": {
             "fill": {
              "color": "#EBF0F8"
             },
             "line": {
              "color": "white"
             }
            },
            "header": {
             "fill": {
              "color": "#C8D4E3"
             },
             "line": {
              "color": "white"
             }
            },
            "type": "table"
           }
          ]
         },
         "layout": {
          "annotationdefaults": {
           "arrowcolor": "#2a3f5f",
           "arrowhead": 0,
           "arrowwidth": 1
          },
          "autotypenumbers": "strict",
          "coloraxis": {
           "colorbar": {
            "outlinewidth": 0,
            "ticks": ""
           }
          },
          "colorscale": {
           "diverging": [
            [
             0,
             "#8e0152"
            ],
            [
             0.1,
             "#c51b7d"
            ],
            [
             0.2,
             "#de77ae"
            ],
            [
             0.3,
             "#f1b6da"
            ],
            [
             0.4,
             "#fde0ef"
            ],
            [
             0.5,
             "#f7f7f7"
            ],
            [
             0.6,
             "#e6f5d0"
            ],
            [
             0.7,
             "#b8e186"
            ],
            [
             0.8,
             "#7fbc41"
            ],
            [
             0.9,
             "#4d9221"
            ],
            [
             1,
             "#276419"
            ]
           ],
           "sequential": [
            [
             0,
             "#0d0887"
            ],
            [
             0.1111111111111111,
             "#46039f"
            ],
            [
             0.2222222222222222,
             "#7201a8"
            ],
            [
             0.3333333333333333,
             "#9c179e"
            ],
            [
             0.4444444444444444,
             "#bd3786"
            ],
            [
             0.5555555555555556,
             "#d8576b"
            ],
            [
             0.6666666666666666,
             "#ed7953"
            ],
            [
             0.7777777777777778,
             "#fb9f3a"
            ],
            [
             0.8888888888888888,
             "#fdca26"
            ],
            [
             1,
             "#f0f921"
            ]
           ],
           "sequentialminus": [
            [
             0,
             "#0d0887"
            ],
            [
             0.1111111111111111,
             "#46039f"
            ],
            [
             0.2222222222222222,
             "#7201a8"
            ],
            [
             0.3333333333333333,
             "#9c179e"
            ],
            [
             0.4444444444444444,
             "#bd3786"
            ],
            [
             0.5555555555555556,
             "#d8576b"
            ],
            [
             0.6666666666666666,
             "#ed7953"
            ],
            [
             0.7777777777777778,
             "#fb9f3a"
            ],
            [
             0.8888888888888888,
             "#fdca26"
            ],
            [
             1,
             "#f0f921"
            ]
           ]
          },
          "colorway": [
           "#636efa",
           "#EF553B",
           "#00cc96",
           "#ab63fa",
           "#FFA15A",
           "#19d3f3",
           "#FF6692",
           "#B6E880",
           "#FF97FF",
           "#FECB52"
          ],
          "font": {
           "color": "#2a3f5f"
          },
          "geo": {
           "bgcolor": "white",
           "lakecolor": "white",
           "landcolor": "#E5ECF6",
           "showlakes": true,
           "showland": true,
           "subunitcolor": "white"
          },
          "hoverlabel": {
           "align": "left"
          },
          "hovermode": "closest",
          "mapbox": {
           "style": "light"
          },
          "paper_bgcolor": "white",
          "plot_bgcolor": "#E5ECF6",
          "polar": {
           "angularaxis": {
            "gridcolor": "white",
            "linecolor": "white",
            "ticks": ""
           },
           "bgcolor": "#E5ECF6",
           "radialaxis": {
            "gridcolor": "white",
            "linecolor": "white",
            "ticks": ""
           }
          },
          "scene": {
           "xaxis": {
            "backgroundcolor": "#E5ECF6",
            "gridcolor": "white",
            "gridwidth": 2,
            "linecolor": "white",
            "showbackground": true,
            "ticks": "",
            "zerolinecolor": "white"
           },
           "yaxis": {
            "backgroundcolor": "#E5ECF6",
            "gridcolor": "white",
            "gridwidth": 2,
            "linecolor": "white",
            "showbackground": true,
            "ticks": "",
            "zerolinecolor": "white"
           },
           "zaxis": {
            "backgroundcolor": "#E5ECF6",
            "gridcolor": "white",
            "gridwidth": 2,
            "linecolor": "white",
            "showbackground": true,
            "ticks": "",
            "zerolinecolor": "white"
           }
          },
          "shapedefaults": {
           "line": {
            "color": "#2a3f5f"
           }
          },
          "ternary": {
           "aaxis": {
            "gridcolor": "white",
            "linecolor": "white",
            "ticks": ""
           },
           "baxis": {
            "gridcolor": "white",
            "linecolor": "white",
            "ticks": ""
           },
           "bgcolor": "#E5ECF6",
           "caxis": {
            "gridcolor": "white",
            "linecolor": "white",
            "ticks": ""
           }
          },
          "title": {
           "x": 0.05
          },
          "xaxis": {
           "automargin": true,
           "gridcolor": "white",
           "linecolor": "white",
           "ticks": "",
           "title": {
            "standoff": 15
           },
           "zerolinecolor": "white",
           "zerolinewidth": 2
          },
          "yaxis": {
           "automargin": true,
           "gridcolor": "white",
           "linecolor": "white",
           "ticks": "",
           "title": {
            "standoff": 15
           },
           "zerolinecolor": "white",
           "zerolinewidth": 2
          }
         }
        },
        "title": {
         "text": "Treemap of Rome restaurants coloured by Mean Rating",
         "x": 0.5,
         "y": 0.985
        },
        "width": 1600
       }
      }
     },
     "metadata": {},
     "output_type": "display_data"
    }
   ],
   "source": [
    "\n",
    "fig = px.treemap(\n",
    "    test, \n",
    "    path=[px.Constant('Municipi'), 'nome'], \n",
    "    values='total_restaurants', \n",
    "    color='mean_rating',\n",
    "    width=1600, \n",
    "    height=900, \n",
    "    labels={'mean_rating': 'Mean Rating'})\n",
    "fig.update_layout(title_text='Treemap of Rome restaurants coloured by Mean Rating', title_x=0.5, title_y=0.985)\n",
    "fig.update_layout(margin=dict(l=10, r=10, t=40, b=15))\n",
    "fig.show()"
   ]
  }
 ],
 "metadata": {
  "interpreter": {
   "hash": "9974ed1e0e3209fc712a83f89896e0249685223056d5b00c26a959a0c83b9849"
  },
  "kernelspec": {
   "display_name": "Python 3.8.8 64-bit",
   "language": "python",
   "name": "python3"
  },
  "language_info": {
   "codemirror_mode": {
    "name": "ipython",
    "version": 3
   },
   "file_extension": ".py",
   "mimetype": "text/x-python",
   "name": "python",
   "nbconvert_exporter": "python",
   "pygments_lexer": "ipython3",
   "version": "3.8.8"
  },
  "orig_nbformat": 4
 },
 "nbformat": 4,
 "nbformat_minor": 2
}
