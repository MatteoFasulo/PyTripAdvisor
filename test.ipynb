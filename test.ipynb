{
 "cells": [
  {
   "cell_type": "code",
   "execution_count": 1,
   "metadata": {},
   "outputs": [],
   "source": [
    "import pandas as pd\n",
    "from plotly.subplots import make_subplots\n",
    "import plotly\n",
    "import plotly.graph_objects as go\n",
    "import plotly.express as px\n",
    "import numpy as np\n",
    "import math"
   ]
  },
  {
   "cell_type": "code",
   "execution_count": 2,
   "metadata": {},
   "outputs": [
    {
     "data": {
      "text/html": [
       "<div>\n",
       "<style scoped>\n",
       "    .dataframe tbody tr th:only-of-type {\n",
       "        vertical-align: middle;\n",
       "    }\n",
       "\n",
       "    .dataframe tbody tr th {\n",
       "        vertical-align: top;\n",
       "    }\n",
       "\n",
       "    .dataframe thead th {\n",
       "        text-align: right;\n",
       "    }\n",
       "</style>\n",
       "<table border=\"1\" class=\"dataframe\">\n",
       "  <thead>\n",
       "    <tr style=\"text-align: right;\">\n",
       "      <th></th>\n",
       "      <th>Unnamed: 0.1</th>\n",
       "      <th>Unnamed: 0</th>\n",
       "      <th>url</th>\n",
       "      <th>place_id</th>\n",
       "      <th>osm_id</th>\n",
       "      <th>name</th>\n",
       "      <th>rating</th>\n",
       "      <th>total_reviews</th>\n",
       "      <th>price</th>\n",
       "      <th>geometry</th>\n",
       "      <th>index_right</th>\n",
       "      <th>cartodb_id</th>\n",
       "      <th>info</th>\n",
       "      <th>zone_e_rioni</th>\n",
       "      <th>quartieri</th>\n",
       "      <th>nome</th>\n",
       "      <th>cuisines</th>\n",
       "      <th>diets</th>\n",
       "    </tr>\n",
       "  </thead>\n",
       "  <tbody>\n",
       "    <tr>\n",
       "      <th>0</th>\n",
       "      <td>0</td>\n",
       "      <td>0</td>\n",
       "      <td>https://www.tripadvisor.it/Restaurant_Review-g...</td>\n",
       "      <td>146016014</td>\n",
       "      <td>190853584.0</td>\n",
       "      <td>Texas Saloon</td>\n",
       "      <td>3.5</td>\n",
       "      <td>789</td>\n",
       "      <td>2.5</td>\n",
       "      <td>POINT (12.429359229391224 41.80017805)</td>\n",
       "      <td>4</td>\n",
       "      <td>5</td>\n",
       "      <td>https://it.wikipedia.org/wiki/Municipio_Roma_IX</td>\n",
       "      <td>Zone: Cecchignola, Castel di Leva, Fonte Ostie...</td>\n",
       "      <td>Quartieri: Ostiense, Giuliano Dalmata, Europa.</td>\n",
       "      <td>Municipio IX (ex XII)</td>\n",
       "      <td>Italiana, Americana, Steakhouse, Pizza, Medite...</td>\n",
       "      <td>Per vegetariani, Opzioni vegane, Opzioni senza...</td>\n",
       "    </tr>\n",
       "    <tr>\n",
       "      <th>1</th>\n",
       "      <td>1</td>\n",
       "      <td>2</td>\n",
       "      <td>https://www.tripadvisor.it/Restaurant_Review-g...</td>\n",
       "      <td>107132432</td>\n",
       "      <td>23322316.0</td>\n",
       "      <td>Pizza Gegè</td>\n",
       "      <td>4.0</td>\n",
       "      <td>74</td>\n",
       "      <td>1.0</td>\n",
       "      <td>POINT (12.4740094 41.8264266)</td>\n",
       "      <td>4</td>\n",
       "      <td>5</td>\n",
       "      <td>https://it.wikipedia.org/wiki/Municipio_Roma_IX</td>\n",
       "      <td>Zone: Cecchignola, Castel di Leva, Fonte Ostie...</td>\n",
       "      <td>Quartieri: Ostiense, Giuliano Dalmata, Europa.</td>\n",
       "      <td>Municipio IX (ex XII)</td>\n",
       "      <td>Italiana, Pizza</td>\n",
       "      <td>Per vegetariani</td>\n",
       "    </tr>\n",
       "    <tr>\n",
       "      <th>2</th>\n",
       "      <td>2</td>\n",
       "      <td>23</td>\n",
       "      <td>https://www.tripadvisor.it/Restaurant_Review-g...</td>\n",
       "      <td>107281163</td>\n",
       "      <td>27528185.0</td>\n",
       "      <td>Pizza alla Pala L'Angoletto</td>\n",
       "      <td>3.5</td>\n",
       "      <td>4</td>\n",
       "      <td>1.0</td>\n",
       "      <td>POINT (12.4699624 41.7669096)</td>\n",
       "      <td>4</td>\n",
       "      <td>5</td>\n",
       "      <td>https://it.wikipedia.org/wiki/Municipio_Roma_IX</td>\n",
       "      <td>Zone: Cecchignola, Castel di Leva, Fonte Ostie...</td>\n",
       "      <td>Quartieri: Ostiense, Giuliano Dalmata, Europa.</td>\n",
       "      <td>Municipio IX (ex XII)</td>\n",
       "      <td>Cinese, Giapponese, Asiatica, Sushi</td>\n",
       "      <td>Per vegetariani</td>\n",
       "    </tr>\n",
       "    <tr>\n",
       "      <th>3</th>\n",
       "      <td>3</td>\n",
       "      <td>43</td>\n",
       "      <td>https://www.tripadvisor.it/Restaurant_Review-g...</td>\n",
       "      <td>139760549</td>\n",
       "      <td>159009107.0</td>\n",
       "      <td>Queen's Restaurant</td>\n",
       "      <td>4.0</td>\n",
       "      <td>56</td>\n",
       "      <td>2.5</td>\n",
       "      <td>POINT (12.4263197 41.7895865)</td>\n",
       "      <td>4</td>\n",
       "      <td>5</td>\n",
       "      <td>https://it.wikipedia.org/wiki/Municipio_Roma_IX</td>\n",
       "      <td>Zone: Cecchignola, Castel di Leva, Fonte Ostie...</td>\n",
       "      <td>Quartieri: Ostiense, Giuliano Dalmata, Europa.</td>\n",
       "      <td>Municipio IX (ex XII)</td>\n",
       "      <td>Italiana, Mediterranea, Internazionale</td>\n",
       "      <td>Per vegetariani</td>\n",
       "    </tr>\n",
       "    <tr>\n",
       "      <th>4</th>\n",
       "      <td>4</td>\n",
       "      <td>53</td>\n",
       "      <td>https://www.tripadvisor.it/Restaurant_Review-g...</td>\n",
       "      <td>146016014</td>\n",
       "      <td>190853584.0</td>\n",
       "      <td>Foodisfaction</td>\n",
       "      <td>3.5</td>\n",
       "      <td>222</td>\n",
       "      <td>2.5</td>\n",
       "      <td>POINT (12.429359229391224 41.80017805)</td>\n",
       "      <td>4</td>\n",
       "      <td>5</td>\n",
       "      <td>https://it.wikipedia.org/wiki/Municipio_Roma_IX</td>\n",
       "      <td>Zone: Cecchignola, Castel di Leva, Fonte Ostie...</td>\n",
       "      <td>Quartieri: Ostiense, Giuliano Dalmata, Europa.</td>\n",
       "      <td>Municipio IX (ex XII)</td>\n",
       "      <td>Italiana, Pizza, Pesce, Mediterranea, Romana, ...</td>\n",
       "      <td>Per vegetariani, Opzioni vegane</td>\n",
       "    </tr>\n",
       "    <tr>\n",
       "      <th>...</th>\n",
       "      <td>...</td>\n",
       "      <td>...</td>\n",
       "      <td>...</td>\n",
       "      <td>...</td>\n",
       "      <td>...</td>\n",
       "      <td>...</td>\n",
       "      <td>...</td>\n",
       "      <td>...</td>\n",
       "      <td>...</td>\n",
       "      <td>...</td>\n",
       "      <td>...</td>\n",
       "      <td>...</td>\n",
       "      <td>...</td>\n",
       "      <td>...</td>\n",
       "      <td>...</td>\n",
       "      <td>...</td>\n",
       "      <td>...</td>\n",
       "      <td>...</td>\n",
       "    </tr>\n",
       "    <tr>\n",
       "      <th>7778</th>\n",
       "      <td>7778</td>\n",
       "      <td>7883</td>\n",
       "      <td>https://www.tripadvisor.it/Restaurant_Review-g...</td>\n",
       "      <td>135338212</td>\n",
       "      <td>137939240.0</td>\n",
       "      <td>Volta Pagina Caffetteria</td>\n",
       "      <td>4.5</td>\n",
       "      <td>7</td>\n",
       "      <td>2.5</td>\n",
       "      <td>POINT (12.3518099 41.7738922)</td>\n",
       "      <td>5</td>\n",
       "      <td>6</td>\n",
       "      <td>https://it.wikipedia.org/wiki/Municipio_Roma_X</td>\n",
       "      <td>Zone: Tor de' Cenci, Castel Porziano, Castel F...</td>\n",
       "      <td>Quartieri: Lido di Ostia Ponente, Lido di Osti...</td>\n",
       "      <td>Municipio X (ex XIII)</td>\n",
       "      <td>NaN</td>\n",
       "      <td>NaN</td>\n",
       "    </tr>\n",
       "    <tr>\n",
       "      <th>7779</th>\n",
       "      <td>7779</td>\n",
       "      <td>7899</td>\n",
       "      <td>https://www.tripadvisor.it/Restaurant_Review-g...</td>\n",
       "      <td>116793066</td>\n",
       "      <td>63205310.0</td>\n",
       "      <td>Strappabocca</td>\n",
       "      <td>4.5</td>\n",
       "      <td>182</td>\n",
       "      <td>2.5</td>\n",
       "      <td>POINT (12.3583458 41.743359)</td>\n",
       "      <td>5</td>\n",
       "      <td>6</td>\n",
       "      <td>https://it.wikipedia.org/wiki/Municipio_Roma_X</td>\n",
       "      <td>Zone: Tor de' Cenci, Castel Porziano, Castel F...</td>\n",
       "      <td>Quartieri: Lido di Ostia Ponente, Lido di Osti...</td>\n",
       "      <td>Municipio X (ex XIII)</td>\n",
       "      <td>Italiana, Pesce, Mediterranea</td>\n",
       "      <td>Opzioni senza glutine</td>\n",
       "    </tr>\n",
       "    <tr>\n",
       "      <th>7780</th>\n",
       "      <td>7780</td>\n",
       "      <td>7960</td>\n",
       "      <td>https://www.tripadvisor.it/Restaurant_Review-g...</td>\n",
       "      <td>106876953</td>\n",
       "      <td>25220056.0</td>\n",
       "      <td>Jack's Pub</td>\n",
       "      <td>3.5</td>\n",
       "      <td>16</td>\n",
       "      <td>1.0</td>\n",
       "      <td>POINT (12.346581 41.7767439)</td>\n",
       "      <td>5</td>\n",
       "      <td>6</td>\n",
       "      <td>https://it.wikipedia.org/wiki/Municipio_Roma_X</td>\n",
       "      <td>Zone: Tor de' Cenci, Castel Porziano, Castel F...</td>\n",
       "      <td>Quartieri: Lido di Ostia Ponente, Lido di Osti...</td>\n",
       "      <td>Municipio X (ex XIII)</td>\n",
       "      <td>Americana, Bar, Pub, Italiana, Tedesca, Fast food</td>\n",
       "      <td>NaN</td>\n",
       "    </tr>\n",
       "    <tr>\n",
       "      <th>7781</th>\n",
       "      <td>7781</td>\n",
       "      <td>8044</td>\n",
       "      <td>https://www.tripadvisor.it/Restaurant_Review-g...</td>\n",
       "      <td>132448550</td>\n",
       "      <td>131201867.0</td>\n",
       "      <td>Ricomincio Da Tre</td>\n",
       "      <td>4.0</td>\n",
       "      <td>44</td>\n",
       "      <td>2.5</td>\n",
       "      <td>POINT (12.3468789 41.785934)</td>\n",
       "      <td>5</td>\n",
       "      <td>6</td>\n",
       "      <td>https://it.wikipedia.org/wiki/Municipio_Roma_X</td>\n",
       "      <td>Zone: Tor de' Cenci, Castel Porziano, Castel F...</td>\n",
       "      <td>Quartieri: Lido di Ostia Ponente, Lido di Osti...</td>\n",
       "      <td>Municipio X (ex XIII)</td>\n",
       "      <td>Laziale, Italiana (centro), Pizza, Mediterranea</td>\n",
       "      <td>Per vegetariani</td>\n",
       "    </tr>\n",
       "    <tr>\n",
       "      <th>7782</th>\n",
       "      <td>7782</td>\n",
       "      <td>8065</td>\n",
       "      <td>https://www.tripadvisor.it/Restaurant_Review-g...</td>\n",
       "      <td>110209975</td>\n",
       "      <td>32892472.0</td>\n",
       "      <td>Gallu's Stuzzicheria</td>\n",
       "      <td>5.0</td>\n",
       "      <td>5</td>\n",
       "      <td>1.0</td>\n",
       "      <td>POINT (12.2794004 41.7357548)</td>\n",
       "      <td>5</td>\n",
       "      <td>6</td>\n",
       "      <td>https://it.wikipedia.org/wiki/Municipio_Roma_X</td>\n",
       "      <td>Zone: Tor de' Cenci, Castel Porziano, Castel F...</td>\n",
       "      <td>Quartieri: Lido di Ostia Ponente, Lido di Osti...</td>\n",
       "      <td>Municipio X (ex XIII)</td>\n",
       "      <td>NaN</td>\n",
       "      <td>NaN</td>\n",
       "    </tr>\n",
       "  </tbody>\n",
       "</table>\n",
       "<p>7783 rows × 18 columns</p>\n",
       "</div>"
      ],
      "text/plain": [
       "      Unnamed: 0.1  Unnamed: 0  \\\n",
       "0                0           0   \n",
       "1                1           2   \n",
       "2                2          23   \n",
       "3                3          43   \n",
       "4                4          53   \n",
       "...            ...         ...   \n",
       "7778          7778        7883   \n",
       "7779          7779        7899   \n",
       "7780          7780        7960   \n",
       "7781          7781        8044   \n",
       "7782          7782        8065   \n",
       "\n",
       "                                                    url   place_id  \\\n",
       "0     https://www.tripadvisor.it/Restaurant_Review-g...  146016014   \n",
       "1     https://www.tripadvisor.it/Restaurant_Review-g...  107132432   \n",
       "2     https://www.tripadvisor.it/Restaurant_Review-g...  107281163   \n",
       "3     https://www.tripadvisor.it/Restaurant_Review-g...  139760549   \n",
       "4     https://www.tripadvisor.it/Restaurant_Review-g...  146016014   \n",
       "...                                                 ...        ...   \n",
       "7778  https://www.tripadvisor.it/Restaurant_Review-g...  135338212   \n",
       "7779  https://www.tripadvisor.it/Restaurant_Review-g...  116793066   \n",
       "7780  https://www.tripadvisor.it/Restaurant_Review-g...  106876953   \n",
       "7781  https://www.tripadvisor.it/Restaurant_Review-g...  132448550   \n",
       "7782  https://www.tripadvisor.it/Restaurant_Review-g...  110209975   \n",
       "\n",
       "           osm_id                         name  rating  total_reviews  price  \\\n",
       "0     190853584.0                 Texas Saloon     3.5            789    2.5   \n",
       "1      23322316.0                   Pizza Gegè     4.0             74    1.0   \n",
       "2      27528185.0  Pizza alla Pala L'Angoletto     3.5              4    1.0   \n",
       "3     159009107.0           Queen's Restaurant     4.0             56    2.5   \n",
       "4     190853584.0                Foodisfaction     3.5            222    2.5   \n",
       "...           ...                          ...     ...            ...    ...   \n",
       "7778  137939240.0     Volta Pagina Caffetteria     4.5              7    2.5   \n",
       "7779   63205310.0                 Strappabocca     4.5            182    2.5   \n",
       "7780   25220056.0                   Jack's Pub     3.5             16    1.0   \n",
       "7781  131201867.0            Ricomincio Da Tre     4.0             44    2.5   \n",
       "7782   32892472.0         Gallu's Stuzzicheria     5.0              5    1.0   \n",
       "\n",
       "                                    geometry  index_right  cartodb_id  \\\n",
       "0     POINT (12.429359229391224 41.80017805)            4           5   \n",
       "1              POINT (12.4740094 41.8264266)            4           5   \n",
       "2              POINT (12.4699624 41.7669096)            4           5   \n",
       "3              POINT (12.4263197 41.7895865)            4           5   \n",
       "4     POINT (12.429359229391224 41.80017805)            4           5   \n",
       "...                                      ...          ...         ...   \n",
       "7778           POINT (12.3518099 41.7738922)            5           6   \n",
       "7779            POINT (12.3583458 41.743359)            5           6   \n",
       "7780            POINT (12.346581 41.7767439)            5           6   \n",
       "7781            POINT (12.3468789 41.785934)            5           6   \n",
       "7782           POINT (12.2794004 41.7357548)            5           6   \n",
       "\n",
       "                                                 info  \\\n",
       "0     https://it.wikipedia.org/wiki/Municipio_Roma_IX   \n",
       "1     https://it.wikipedia.org/wiki/Municipio_Roma_IX   \n",
       "2     https://it.wikipedia.org/wiki/Municipio_Roma_IX   \n",
       "3     https://it.wikipedia.org/wiki/Municipio_Roma_IX   \n",
       "4     https://it.wikipedia.org/wiki/Municipio_Roma_IX   \n",
       "...                                               ...   \n",
       "7778   https://it.wikipedia.org/wiki/Municipio_Roma_X   \n",
       "7779   https://it.wikipedia.org/wiki/Municipio_Roma_X   \n",
       "7780   https://it.wikipedia.org/wiki/Municipio_Roma_X   \n",
       "7781   https://it.wikipedia.org/wiki/Municipio_Roma_X   \n",
       "7782   https://it.wikipedia.org/wiki/Municipio_Roma_X   \n",
       "\n",
       "                                           zone_e_rioni  \\\n",
       "0     Zone: Cecchignola, Castel di Leva, Fonte Ostie...   \n",
       "1     Zone: Cecchignola, Castel di Leva, Fonte Ostie...   \n",
       "2     Zone: Cecchignola, Castel di Leva, Fonte Ostie...   \n",
       "3     Zone: Cecchignola, Castel di Leva, Fonte Ostie...   \n",
       "4     Zone: Cecchignola, Castel di Leva, Fonte Ostie...   \n",
       "...                                                 ...   \n",
       "7778  Zone: Tor de' Cenci, Castel Porziano, Castel F...   \n",
       "7779  Zone: Tor de' Cenci, Castel Porziano, Castel F...   \n",
       "7780  Zone: Tor de' Cenci, Castel Porziano, Castel F...   \n",
       "7781  Zone: Tor de' Cenci, Castel Porziano, Castel F...   \n",
       "7782  Zone: Tor de' Cenci, Castel Porziano, Castel F...   \n",
       "\n",
       "                                              quartieri  \\\n",
       "0        Quartieri: Ostiense, Giuliano Dalmata, Europa.   \n",
       "1        Quartieri: Ostiense, Giuliano Dalmata, Europa.   \n",
       "2        Quartieri: Ostiense, Giuliano Dalmata, Europa.   \n",
       "3        Quartieri: Ostiense, Giuliano Dalmata, Europa.   \n",
       "4        Quartieri: Ostiense, Giuliano Dalmata, Europa.   \n",
       "...                                                 ...   \n",
       "7778  Quartieri: Lido di Ostia Ponente, Lido di Osti...   \n",
       "7779  Quartieri: Lido di Ostia Ponente, Lido di Osti...   \n",
       "7780  Quartieri: Lido di Ostia Ponente, Lido di Osti...   \n",
       "7781  Quartieri: Lido di Ostia Ponente, Lido di Osti...   \n",
       "7782  Quartieri: Lido di Ostia Ponente, Lido di Osti...   \n",
       "\n",
       "                       nome  \\\n",
       "0     Municipio IX (ex XII)   \n",
       "1     Municipio IX (ex XII)   \n",
       "2     Municipio IX (ex XII)   \n",
       "3     Municipio IX (ex XII)   \n",
       "4     Municipio IX (ex XII)   \n",
       "...                     ...   \n",
       "7778  Municipio X (ex XIII)   \n",
       "7779  Municipio X (ex XIII)   \n",
       "7780  Municipio X (ex XIII)   \n",
       "7781  Municipio X (ex XIII)   \n",
       "7782  Municipio X (ex XIII)   \n",
       "\n",
       "                                               cuisines  \\\n",
       "0     Italiana, Americana, Steakhouse, Pizza, Medite...   \n",
       "1                                       Italiana, Pizza   \n",
       "2                   Cinese, Giapponese, Asiatica, Sushi   \n",
       "3                Italiana, Mediterranea, Internazionale   \n",
       "4     Italiana, Pizza, Pesce, Mediterranea, Romana, ...   \n",
       "...                                                 ...   \n",
       "7778                                                NaN   \n",
       "7779                      Italiana, Pesce, Mediterranea   \n",
       "7780  Americana, Bar, Pub, Italiana, Tedesca, Fast food   \n",
       "7781    Laziale, Italiana (centro), Pizza, Mediterranea   \n",
       "7782                                                NaN   \n",
       "\n",
       "                                                  diets  \n",
       "0     Per vegetariani, Opzioni vegane, Opzioni senza...  \n",
       "1                                       Per vegetariani  \n",
       "2                                       Per vegetariani  \n",
       "3                                       Per vegetariani  \n",
       "4                       Per vegetariani, Opzioni vegane  \n",
       "...                                                 ...  \n",
       "7778                                                NaN  \n",
       "7779                              Opzioni senza glutine  \n",
       "7780                                                NaN  \n",
       "7781                                    Per vegetariani  \n",
       "7782                                                NaN  \n",
       "\n",
       "[7783 rows x 18 columns]"
      ]
     },
     "execution_count": 2,
     "metadata": {},
     "output_type": "execute_result"
    }
   ],
   "source": [
    "df = pd.read_csv('ristoranti_zone_cucine.csv', encoding='utf-8')\n",
    "df"
   ]
  },
  {
   "cell_type": "code",
   "execution_count": 3,
   "metadata": {},
   "outputs": [
    {
     "data": {
      "text/html": [
       "<div>\n",
       "<style scoped>\n",
       "    .dataframe tbody tr th:only-of-type {\n",
       "        vertical-align: middle;\n",
       "    }\n",
       "\n",
       "    .dataframe tbody tr th {\n",
       "        vertical-align: top;\n",
       "    }\n",
       "\n",
       "    .dataframe thead th {\n",
       "        text-align: right;\n",
       "    }\n",
       "</style>\n",
       "<table border=\"1\" class=\"dataframe\">\n",
       "  <thead>\n",
       "    <tr style=\"text-align: right;\">\n",
       "      <th></th>\n",
       "      <th>Unnamed: 0.1</th>\n",
       "      <th>Unnamed: 0</th>\n",
       "      <th>url</th>\n",
       "      <th>place_id</th>\n",
       "      <th>osm_id</th>\n",
       "      <th>name</th>\n",
       "      <th>rating</th>\n",
       "      <th>total_reviews</th>\n",
       "      <th>price</th>\n",
       "      <th>geometry</th>\n",
       "      <th>index_right</th>\n",
       "      <th>cartodb_id</th>\n",
       "      <th>info</th>\n",
       "      <th>zone_e_rioni</th>\n",
       "      <th>quartieri</th>\n",
       "      <th>nome</th>\n",
       "      <th>cuisines</th>\n",
       "      <th>diets</th>\n",
       "      <th>first_cuisine</th>\n",
       "    </tr>\n",
       "  </thead>\n",
       "  <tbody>\n",
       "    <tr>\n",
       "      <th>0</th>\n",
       "      <td>0</td>\n",
       "      <td>0</td>\n",
       "      <td>https://www.tripadvisor.it/Restaurant_Review-g...</td>\n",
       "      <td>146016014</td>\n",
       "      <td>190853584.0</td>\n",
       "      <td>Texas Saloon</td>\n",
       "      <td>3.5</td>\n",
       "      <td>789</td>\n",
       "      <td>2.5</td>\n",
       "      <td>POINT (12.429359229391224 41.80017805)</td>\n",
       "      <td>4</td>\n",
       "      <td>5</td>\n",
       "      <td>https://it.wikipedia.org/wiki/Municipio_Roma_IX</td>\n",
       "      <td>Zone: Cecchignola, Castel di Leva, Fonte Ostie...</td>\n",
       "      <td>Quartieri: Ostiense, Giuliano Dalmata, Europa.</td>\n",
       "      <td>Municipio IX (ex XII)</td>\n",
       "      <td>Italiana, Americana, Steakhouse, Pizza, Medite...</td>\n",
       "      <td>Per vegetariani, Opzioni vegane, Opzioni senza...</td>\n",
       "      <td>Americana</td>\n",
       "    </tr>\n",
       "    <tr>\n",
       "      <th>1</th>\n",
       "      <td>1</td>\n",
       "      <td>2</td>\n",
       "      <td>https://www.tripadvisor.it/Restaurant_Review-g...</td>\n",
       "      <td>107132432</td>\n",
       "      <td>23322316.0</td>\n",
       "      <td>Pizza Gegè</td>\n",
       "      <td>4.0</td>\n",
       "      <td>74</td>\n",
       "      <td>1.0</td>\n",
       "      <td>POINT (12.4740094 41.8264266)</td>\n",
       "      <td>4</td>\n",
       "      <td>5</td>\n",
       "      <td>https://it.wikipedia.org/wiki/Municipio_Roma_IX</td>\n",
       "      <td>Zone: Cecchignola, Castel di Leva, Fonte Ostie...</td>\n",
       "      <td>Quartieri: Ostiense, Giuliano Dalmata, Europa.</td>\n",
       "      <td>Municipio IX (ex XII)</td>\n",
       "      <td>Italiana, Pizza</td>\n",
       "      <td>Per vegetariani</td>\n",
       "      <td>Pizza</td>\n",
       "    </tr>\n",
       "    <tr>\n",
       "      <th>2</th>\n",
       "      <td>2</td>\n",
       "      <td>23</td>\n",
       "      <td>https://www.tripadvisor.it/Restaurant_Review-g...</td>\n",
       "      <td>107281163</td>\n",
       "      <td>27528185.0</td>\n",
       "      <td>Pizza alla Pala L'Angoletto</td>\n",
       "      <td>3.5</td>\n",
       "      <td>4</td>\n",
       "      <td>1.0</td>\n",
       "      <td>POINT (12.4699624 41.7669096)</td>\n",
       "      <td>4</td>\n",
       "      <td>5</td>\n",
       "      <td>https://it.wikipedia.org/wiki/Municipio_Roma_IX</td>\n",
       "      <td>Zone: Cecchignola, Castel di Leva, Fonte Ostie...</td>\n",
       "      <td>Quartieri: Ostiense, Giuliano Dalmata, Europa.</td>\n",
       "      <td>Municipio IX (ex XII)</td>\n",
       "      <td>Cinese, Giapponese, Asiatica, Sushi</td>\n",
       "      <td>Per vegetariani</td>\n",
       "      <td>Giapponese</td>\n",
       "    </tr>\n",
       "    <tr>\n",
       "      <th>3</th>\n",
       "      <td>3</td>\n",
       "      <td>43</td>\n",
       "      <td>https://www.tripadvisor.it/Restaurant_Review-g...</td>\n",
       "      <td>139760549</td>\n",
       "      <td>159009107.0</td>\n",
       "      <td>Queen's Restaurant</td>\n",
       "      <td>4.0</td>\n",
       "      <td>56</td>\n",
       "      <td>2.5</td>\n",
       "      <td>POINT (12.4263197 41.7895865)</td>\n",
       "      <td>4</td>\n",
       "      <td>5</td>\n",
       "      <td>https://it.wikipedia.org/wiki/Municipio_Roma_IX</td>\n",
       "      <td>Zone: Cecchignola, Castel di Leva, Fonte Ostie...</td>\n",
       "      <td>Quartieri: Ostiense, Giuliano Dalmata, Europa.</td>\n",
       "      <td>Municipio IX (ex XII)</td>\n",
       "      <td>Italiana, Mediterranea, Internazionale</td>\n",
       "      <td>Per vegetariani</td>\n",
       "      <td>Mediterranea</td>\n",
       "    </tr>\n",
       "    <tr>\n",
       "      <th>4</th>\n",
       "      <td>4</td>\n",
       "      <td>53</td>\n",
       "      <td>https://www.tripadvisor.it/Restaurant_Review-g...</td>\n",
       "      <td>146016014</td>\n",
       "      <td>190853584.0</td>\n",
       "      <td>Foodisfaction</td>\n",
       "      <td>3.5</td>\n",
       "      <td>222</td>\n",
       "      <td>2.5</td>\n",
       "      <td>POINT (12.429359229391224 41.80017805)</td>\n",
       "      <td>4</td>\n",
       "      <td>5</td>\n",
       "      <td>https://it.wikipedia.org/wiki/Municipio_Roma_IX</td>\n",
       "      <td>Zone: Cecchignola, Castel di Leva, Fonte Ostie...</td>\n",
       "      <td>Quartieri: Ostiense, Giuliano Dalmata, Europa.</td>\n",
       "      <td>Municipio IX (ex XII)</td>\n",
       "      <td>Italiana, Pizza, Pesce, Mediterranea, Romana, ...</td>\n",
       "      <td>Per vegetariani, Opzioni vegane</td>\n",
       "      <td>Pizza</td>\n",
       "    </tr>\n",
       "    <tr>\n",
       "      <th>...</th>\n",
       "      <td>...</td>\n",
       "      <td>...</td>\n",
       "      <td>...</td>\n",
       "      <td>...</td>\n",
       "      <td>...</td>\n",
       "      <td>...</td>\n",
       "      <td>...</td>\n",
       "      <td>...</td>\n",
       "      <td>...</td>\n",
       "      <td>...</td>\n",
       "      <td>...</td>\n",
       "      <td>...</td>\n",
       "      <td>...</td>\n",
       "      <td>...</td>\n",
       "      <td>...</td>\n",
       "      <td>...</td>\n",
       "      <td>...</td>\n",
       "      <td>...</td>\n",
       "      <td>...</td>\n",
       "    </tr>\n",
       "    <tr>\n",
       "      <th>7778</th>\n",
       "      <td>7778</td>\n",
       "      <td>7883</td>\n",
       "      <td>https://www.tripadvisor.it/Restaurant_Review-g...</td>\n",
       "      <td>135338212</td>\n",
       "      <td>137939240.0</td>\n",
       "      <td>Volta Pagina Caffetteria</td>\n",
       "      <td>4.5</td>\n",
       "      <td>7</td>\n",
       "      <td>2.5</td>\n",
       "      <td>POINT (12.3518099 41.7738922)</td>\n",
       "      <td>5</td>\n",
       "      <td>6</td>\n",
       "      <td>https://it.wikipedia.org/wiki/Municipio_Roma_X</td>\n",
       "      <td>Zone: Tor de' Cenci, Castel Porziano, Castel F...</td>\n",
       "      <td>Quartieri: Lido di Ostia Ponente, Lido di Osti...</td>\n",
       "      <td>Municipio X (ex XIII)</td>\n",
       "      <td>NaN</td>\n",
       "      <td>NaN</td>\n",
       "      <td>NaN</td>\n",
       "    </tr>\n",
       "    <tr>\n",
       "      <th>7779</th>\n",
       "      <td>7779</td>\n",
       "      <td>7899</td>\n",
       "      <td>https://www.tripadvisor.it/Restaurant_Review-g...</td>\n",
       "      <td>116793066</td>\n",
       "      <td>63205310.0</td>\n",
       "      <td>Strappabocca</td>\n",
       "      <td>4.5</td>\n",
       "      <td>182</td>\n",
       "      <td>2.5</td>\n",
       "      <td>POINT (12.3583458 41.743359)</td>\n",
       "      <td>5</td>\n",
       "      <td>6</td>\n",
       "      <td>https://it.wikipedia.org/wiki/Municipio_Roma_X</td>\n",
       "      <td>Zone: Tor de' Cenci, Castel Porziano, Castel F...</td>\n",
       "      <td>Quartieri: Lido di Ostia Ponente, Lido di Osti...</td>\n",
       "      <td>Municipio X (ex XIII)</td>\n",
       "      <td>Italiana, Pesce, Mediterranea</td>\n",
       "      <td>Opzioni senza glutine</td>\n",
       "      <td>Pesce</td>\n",
       "    </tr>\n",
       "    <tr>\n",
       "      <th>7780</th>\n",
       "      <td>7780</td>\n",
       "      <td>7960</td>\n",
       "      <td>https://www.tripadvisor.it/Restaurant_Review-g...</td>\n",
       "      <td>106876953</td>\n",
       "      <td>25220056.0</td>\n",
       "      <td>Jack's Pub</td>\n",
       "      <td>3.5</td>\n",
       "      <td>16</td>\n",
       "      <td>1.0</td>\n",
       "      <td>POINT (12.346581 41.7767439)</td>\n",
       "      <td>5</td>\n",
       "      <td>6</td>\n",
       "      <td>https://it.wikipedia.org/wiki/Municipio_Roma_X</td>\n",
       "      <td>Zone: Tor de' Cenci, Castel Porziano, Castel F...</td>\n",
       "      <td>Quartieri: Lido di Ostia Ponente, Lido di Osti...</td>\n",
       "      <td>Municipio X (ex XIII)</td>\n",
       "      <td>Americana, Bar, Pub, Italiana, Tedesca, Fast food</td>\n",
       "      <td>NaN</td>\n",
       "      <td>Bar</td>\n",
       "    </tr>\n",
       "    <tr>\n",
       "      <th>7781</th>\n",
       "      <td>7781</td>\n",
       "      <td>8044</td>\n",
       "      <td>https://www.tripadvisor.it/Restaurant_Review-g...</td>\n",
       "      <td>132448550</td>\n",
       "      <td>131201867.0</td>\n",
       "      <td>Ricomincio Da Tre</td>\n",
       "      <td>4.0</td>\n",
       "      <td>44</td>\n",
       "      <td>2.5</td>\n",
       "      <td>POINT (12.3468789 41.785934)</td>\n",
       "      <td>5</td>\n",
       "      <td>6</td>\n",
       "      <td>https://it.wikipedia.org/wiki/Municipio_Roma_X</td>\n",
       "      <td>Zone: Tor de' Cenci, Castel Porziano, Castel F...</td>\n",
       "      <td>Quartieri: Lido di Ostia Ponente, Lido di Osti...</td>\n",
       "      <td>Municipio X (ex XIII)</td>\n",
       "      <td>Laziale, Italiana (centro), Pizza, Mediterranea</td>\n",
       "      <td>Per vegetariani</td>\n",
       "      <td>Italiana (centro)</td>\n",
       "    </tr>\n",
       "    <tr>\n",
       "      <th>7782</th>\n",
       "      <td>7782</td>\n",
       "      <td>8065</td>\n",
       "      <td>https://www.tripadvisor.it/Restaurant_Review-g...</td>\n",
       "      <td>110209975</td>\n",
       "      <td>32892472.0</td>\n",
       "      <td>Gallu's Stuzzicheria</td>\n",
       "      <td>5.0</td>\n",
       "      <td>5</td>\n",
       "      <td>1.0</td>\n",
       "      <td>POINT (12.2794004 41.7357548)</td>\n",
       "      <td>5</td>\n",
       "      <td>6</td>\n",
       "      <td>https://it.wikipedia.org/wiki/Municipio_Roma_X</td>\n",
       "      <td>Zone: Tor de' Cenci, Castel Porziano, Castel F...</td>\n",
       "      <td>Quartieri: Lido di Ostia Ponente, Lido di Osti...</td>\n",
       "      <td>Municipio X (ex XIII)</td>\n",
       "      <td>NaN</td>\n",
       "      <td>NaN</td>\n",
       "      <td>NaN</td>\n",
       "    </tr>\n",
       "  </tbody>\n",
       "</table>\n",
       "<p>7783 rows × 19 columns</p>\n",
       "</div>"
      ],
      "text/plain": [
       "      Unnamed: 0.1  Unnamed: 0  \\\n",
       "0                0           0   \n",
       "1                1           2   \n",
       "2                2          23   \n",
       "3                3          43   \n",
       "4                4          53   \n",
       "...            ...         ...   \n",
       "7778          7778        7883   \n",
       "7779          7779        7899   \n",
       "7780          7780        7960   \n",
       "7781          7781        8044   \n",
       "7782          7782        8065   \n",
       "\n",
       "                                                    url   place_id  \\\n",
       "0     https://www.tripadvisor.it/Restaurant_Review-g...  146016014   \n",
       "1     https://www.tripadvisor.it/Restaurant_Review-g...  107132432   \n",
       "2     https://www.tripadvisor.it/Restaurant_Review-g...  107281163   \n",
       "3     https://www.tripadvisor.it/Restaurant_Review-g...  139760549   \n",
       "4     https://www.tripadvisor.it/Restaurant_Review-g...  146016014   \n",
       "...                                                 ...        ...   \n",
       "7778  https://www.tripadvisor.it/Restaurant_Review-g...  135338212   \n",
       "7779  https://www.tripadvisor.it/Restaurant_Review-g...  116793066   \n",
       "7780  https://www.tripadvisor.it/Restaurant_Review-g...  106876953   \n",
       "7781  https://www.tripadvisor.it/Restaurant_Review-g...  132448550   \n",
       "7782  https://www.tripadvisor.it/Restaurant_Review-g...  110209975   \n",
       "\n",
       "           osm_id                         name  rating  total_reviews  price  \\\n",
       "0     190853584.0                 Texas Saloon     3.5            789    2.5   \n",
       "1      23322316.0                   Pizza Gegè     4.0             74    1.0   \n",
       "2      27528185.0  Pizza alla Pala L'Angoletto     3.5              4    1.0   \n",
       "3     159009107.0           Queen's Restaurant     4.0             56    2.5   \n",
       "4     190853584.0                Foodisfaction     3.5            222    2.5   \n",
       "...           ...                          ...     ...            ...    ...   \n",
       "7778  137939240.0     Volta Pagina Caffetteria     4.5              7    2.5   \n",
       "7779   63205310.0                 Strappabocca     4.5            182    2.5   \n",
       "7780   25220056.0                   Jack's Pub     3.5             16    1.0   \n",
       "7781  131201867.0            Ricomincio Da Tre     4.0             44    2.5   \n",
       "7782   32892472.0         Gallu's Stuzzicheria     5.0              5    1.0   \n",
       "\n",
       "                                    geometry  index_right  cartodb_id  \\\n",
       "0     POINT (12.429359229391224 41.80017805)            4           5   \n",
       "1              POINT (12.4740094 41.8264266)            4           5   \n",
       "2              POINT (12.4699624 41.7669096)            4           5   \n",
       "3              POINT (12.4263197 41.7895865)            4           5   \n",
       "4     POINT (12.429359229391224 41.80017805)            4           5   \n",
       "...                                      ...          ...         ...   \n",
       "7778           POINT (12.3518099 41.7738922)            5           6   \n",
       "7779            POINT (12.3583458 41.743359)            5           6   \n",
       "7780            POINT (12.346581 41.7767439)            5           6   \n",
       "7781            POINT (12.3468789 41.785934)            5           6   \n",
       "7782           POINT (12.2794004 41.7357548)            5           6   \n",
       "\n",
       "                                                 info  \\\n",
       "0     https://it.wikipedia.org/wiki/Municipio_Roma_IX   \n",
       "1     https://it.wikipedia.org/wiki/Municipio_Roma_IX   \n",
       "2     https://it.wikipedia.org/wiki/Municipio_Roma_IX   \n",
       "3     https://it.wikipedia.org/wiki/Municipio_Roma_IX   \n",
       "4     https://it.wikipedia.org/wiki/Municipio_Roma_IX   \n",
       "...                                               ...   \n",
       "7778   https://it.wikipedia.org/wiki/Municipio_Roma_X   \n",
       "7779   https://it.wikipedia.org/wiki/Municipio_Roma_X   \n",
       "7780   https://it.wikipedia.org/wiki/Municipio_Roma_X   \n",
       "7781   https://it.wikipedia.org/wiki/Municipio_Roma_X   \n",
       "7782   https://it.wikipedia.org/wiki/Municipio_Roma_X   \n",
       "\n",
       "                                           zone_e_rioni  \\\n",
       "0     Zone: Cecchignola, Castel di Leva, Fonte Ostie...   \n",
       "1     Zone: Cecchignola, Castel di Leva, Fonte Ostie...   \n",
       "2     Zone: Cecchignola, Castel di Leva, Fonte Ostie...   \n",
       "3     Zone: Cecchignola, Castel di Leva, Fonte Ostie...   \n",
       "4     Zone: Cecchignola, Castel di Leva, Fonte Ostie...   \n",
       "...                                                 ...   \n",
       "7778  Zone: Tor de' Cenci, Castel Porziano, Castel F...   \n",
       "7779  Zone: Tor de' Cenci, Castel Porziano, Castel F...   \n",
       "7780  Zone: Tor de' Cenci, Castel Porziano, Castel F...   \n",
       "7781  Zone: Tor de' Cenci, Castel Porziano, Castel F...   \n",
       "7782  Zone: Tor de' Cenci, Castel Porziano, Castel F...   \n",
       "\n",
       "                                              quartieri  \\\n",
       "0        Quartieri: Ostiense, Giuliano Dalmata, Europa.   \n",
       "1        Quartieri: Ostiense, Giuliano Dalmata, Europa.   \n",
       "2        Quartieri: Ostiense, Giuliano Dalmata, Europa.   \n",
       "3        Quartieri: Ostiense, Giuliano Dalmata, Europa.   \n",
       "4        Quartieri: Ostiense, Giuliano Dalmata, Europa.   \n",
       "...                                                 ...   \n",
       "7778  Quartieri: Lido di Ostia Ponente, Lido di Osti...   \n",
       "7779  Quartieri: Lido di Ostia Ponente, Lido di Osti...   \n",
       "7780  Quartieri: Lido di Ostia Ponente, Lido di Osti...   \n",
       "7781  Quartieri: Lido di Ostia Ponente, Lido di Osti...   \n",
       "7782  Quartieri: Lido di Ostia Ponente, Lido di Osti...   \n",
       "\n",
       "                       nome  \\\n",
       "0     Municipio IX (ex XII)   \n",
       "1     Municipio IX (ex XII)   \n",
       "2     Municipio IX (ex XII)   \n",
       "3     Municipio IX (ex XII)   \n",
       "4     Municipio IX (ex XII)   \n",
       "...                     ...   \n",
       "7778  Municipio X (ex XIII)   \n",
       "7779  Municipio X (ex XIII)   \n",
       "7780  Municipio X (ex XIII)   \n",
       "7781  Municipio X (ex XIII)   \n",
       "7782  Municipio X (ex XIII)   \n",
       "\n",
       "                                               cuisines  \\\n",
       "0     Italiana, Americana, Steakhouse, Pizza, Medite...   \n",
       "1                                       Italiana, Pizza   \n",
       "2                   Cinese, Giapponese, Asiatica, Sushi   \n",
       "3                Italiana, Mediterranea, Internazionale   \n",
       "4     Italiana, Pizza, Pesce, Mediterranea, Romana, ...   \n",
       "...                                                 ...   \n",
       "7778                                                NaN   \n",
       "7779                      Italiana, Pesce, Mediterranea   \n",
       "7780  Americana, Bar, Pub, Italiana, Tedesca, Fast food   \n",
       "7781    Laziale, Italiana (centro), Pizza, Mediterranea   \n",
       "7782                                                NaN   \n",
       "\n",
       "                                                  diets      first_cuisine  \n",
       "0     Per vegetariani, Opzioni vegane, Opzioni senza...          Americana  \n",
       "1                                       Per vegetariani              Pizza  \n",
       "2                                       Per vegetariani         Giapponese  \n",
       "3                                       Per vegetariani       Mediterranea  \n",
       "4                       Per vegetariani, Opzioni vegane              Pizza  \n",
       "...                                                 ...                ...  \n",
       "7778                                                NaN                NaN  \n",
       "7779                              Opzioni senza glutine              Pesce  \n",
       "7780                                                NaN                Bar  \n",
       "7781                                    Per vegetariani  Italiana (centro)  \n",
       "7782                                                NaN                NaN  \n",
       "\n",
       "[7783 rows x 19 columns]"
      ]
     },
     "execution_count": 3,
     "metadata": {},
     "output_type": "execute_result"
    }
   ],
   "source": [
    "#df.cuisines.str.split(',').unique().tolist()\n",
    "#values = pd.unique(df.cuisines.str.rsplit(\", \", expand=True).stack()).tolist()\n",
    "#for value in values:\n",
    "#    df[value] = df.apply(lambda row: pd.notnull(row['cuisines']) and value in row['cuisines'].split(', '), axis=1)\n",
    "df['first_cuisine'] = [x.split(',', 2)[1].strip() if ',' in x else np.nan if x == 'nan' else x for x in df['cuisines'].astype('str')]\n",
    "df"
   ]
  },
  {
   "cell_type": "code",
   "execution_count": 4,
   "metadata": {},
   "outputs": [
    {
     "data": {
      "text/plain": [
       "first_cuisine\n",
       "Bar              295\n",
       "Caffè            206\n",
       "Fast food        197\n",
       "Giapponese       136\n",
       "Italiana        1244\n",
       "Mediterranea     827\n",
       "Pesce            611\n",
       "Pizza           1536\n",
       "Pub              139\n",
       "Romana           208\n",
       "dtype: int64"
      ]
     },
     "execution_count": 4,
     "metadata": {},
     "output_type": "execute_result"
    }
   ],
   "source": [
    "df[df['first_cuisine'].isin(df['first_cuisine'].value_counts()[:10].index.to_list())].groupby('first_cuisine').size()"
   ]
  },
  {
   "cell_type": "code",
   "execution_count": 5,
   "metadata": {},
   "outputs": [
    {
     "data": {
      "text/html": [
       "<div>\n",
       "<style scoped>\n",
       "    .dataframe tbody tr th:only-of-type {\n",
       "        vertical-align: middle;\n",
       "    }\n",
       "\n",
       "    .dataframe tbody tr th {\n",
       "        vertical-align: top;\n",
       "    }\n",
       "\n",
       "    .dataframe thead th {\n",
       "        text-align: right;\n",
       "    }\n",
       "</style>\n",
       "<table border=\"1\" class=\"dataframe\">\n",
       "  <thead>\n",
       "    <tr style=\"text-align: right;\">\n",
       "      <th></th>\n",
       "      <th>first_cuisine</th>\n",
       "      <th>total_restaurants</th>\n",
       "      <th>mean_rating</th>\n",
       "      <th>mean_reviews_n</th>\n",
       "      <th>median_reviews_n</th>\n",
       "    </tr>\n",
       "  </thead>\n",
       "  <tbody>\n",
       "    <tr>\n",
       "      <th>7</th>\n",
       "      <td>Pizza</td>\n",
       "      <td>1536</td>\n",
       "      <td>3.9453</td>\n",
       "      <td>266.0143</td>\n",
       "      <td>80.0</td>\n",
       "    </tr>\n",
       "    <tr>\n",
       "      <th>4</th>\n",
       "      <td>Italiana</td>\n",
       "      <td>1244</td>\n",
       "      <td>4.0056</td>\n",
       "      <td>102.7862</td>\n",
       "      <td>19.0</td>\n",
       "    </tr>\n",
       "    <tr>\n",
       "      <th>5</th>\n",
       "      <td>Mediterranea</td>\n",
       "      <td>827</td>\n",
       "      <td>4.1070</td>\n",
       "      <td>493.0145</td>\n",
       "      <td>234.0</td>\n",
       "    </tr>\n",
       "    <tr>\n",
       "      <th>6</th>\n",
       "      <td>Pesce</td>\n",
       "      <td>611</td>\n",
       "      <td>4.1849</td>\n",
       "      <td>362.7185</td>\n",
       "      <td>182.0</td>\n",
       "    </tr>\n",
       "    <tr>\n",
       "      <th>0</th>\n",
       "      <td>Bar</td>\n",
       "      <td>295</td>\n",
       "      <td>3.9220</td>\n",
       "      <td>254.8034</td>\n",
       "      <td>59.0</td>\n",
       "    </tr>\n",
       "    <tr>\n",
       "      <th>9</th>\n",
       "      <td>Romana</td>\n",
       "      <td>208</td>\n",
       "      <td>4.0505</td>\n",
       "      <td>636.3846</td>\n",
       "      <td>256.0</td>\n",
       "    </tr>\n",
       "    <tr>\n",
       "      <th>1</th>\n",
       "      <td>Caffè</td>\n",
       "      <td>206</td>\n",
       "      <td>3.9612</td>\n",
       "      <td>125.1408</td>\n",
       "      <td>34.0</td>\n",
       "    </tr>\n",
       "    <tr>\n",
       "      <th>2</th>\n",
       "      <td>Fast food</td>\n",
       "      <td>197</td>\n",
       "      <td>4.0178</td>\n",
       "      <td>99.3655</td>\n",
       "      <td>30.0</td>\n",
       "    </tr>\n",
       "    <tr>\n",
       "      <th>8</th>\n",
       "      <td>Pub</td>\n",
       "      <td>139</td>\n",
       "      <td>4.1043</td>\n",
       "      <td>40.0504</td>\n",
       "      <td>15.0</td>\n",
       "    </tr>\n",
       "    <tr>\n",
       "      <th>3</th>\n",
       "      <td>Giapponese</td>\n",
       "      <td>136</td>\n",
       "      <td>3.7610</td>\n",
       "      <td>190.1618</td>\n",
       "      <td>88.5</td>\n",
       "    </tr>\n",
       "  </tbody>\n",
       "</table>\n",
       "</div>"
      ],
      "text/plain": [
       "  first_cuisine  total_restaurants  mean_rating  mean_reviews_n  \\\n",
       "7         Pizza               1536       3.9453        266.0143   \n",
       "4      Italiana               1244       4.0056        102.7862   \n",
       "5  Mediterranea                827       4.1070        493.0145   \n",
       "6         Pesce                611       4.1849        362.7185   \n",
       "0           Bar                295       3.9220        254.8034   \n",
       "9        Romana                208       4.0505        636.3846   \n",
       "1         Caffè                206       3.9612        125.1408   \n",
       "2     Fast food                197       4.0178         99.3655   \n",
       "8           Pub                139       4.1043         40.0504   \n",
       "3    Giapponese                136       3.7610        190.1618   \n",
       "\n",
       "   median_reviews_n  \n",
       "7              80.0  \n",
       "4              19.0  \n",
       "5             234.0  \n",
       "6             182.0  \n",
       "0              59.0  \n",
       "9             256.0  \n",
       "1              34.0  \n",
       "2              30.0  \n",
       "8              15.0  \n",
       "3              88.5  "
      ]
     },
     "execution_count": 5,
     "metadata": {},
     "output_type": "execute_result"
    }
   ],
   "source": [
    "top10_cuisines_df = df[(df['first_cuisine'].notnull()) &\n",
    "                                   (df['first_cuisine'].isin(df['first_cuisine'].value_counts()[:10].index.to_list()))]\n",
    "\n",
    "agg_top10_cuisines_df = top10_cuisines_df.groupby('first_cuisine').agg(\n",
    "    total_restaurants=pd.NamedAgg(column='url', aggfunc=np.size),\n",
    "    mean_rating=pd.NamedAgg(column='rating', aggfunc=np.mean),\n",
    "    mean_reviews_n=pd.NamedAgg(column='total_reviews', aggfunc=np.mean),\n",
    "    median_reviews_n=pd.NamedAgg(column='total_reviews', aggfunc=np.median)\n",
    ").reset_index(level=0).sort_values(by='total_restaurants', ascending=False)\n",
    "\n",
    "agg_top10_cuisines_df['median_reviews_n'] = agg_top10_cuisines_df['median_reviews_n'].astype('Float64')\n",
    "for col in ['mean_rating', 'mean_reviews_n']:\n",
    "    agg_top10_cuisines_df[col] = round(agg_top10_cuisines_df[col], 4)\n",
    "agg_top10_cuisines_df"
   ]
  },
  {
   "cell_type": "code",
   "execution_count": 6,
   "metadata": {},
   "outputs": [
    {
     "data": {
      "application/vnd.plotly.v1+json": {
       "config": {
        "plotlyServerURL": "https://plot.ly"
       },
       "data": [
        {
         "customdata": [
          80,
          19,
          234,
          182,
          59,
          256,
          34,
          30,
          15,
          88.5
         ],
         "hoverlabel": {
          "namelength": 0
         },
         "hovertemplate": "<b>%{text}</b>:<br>%{x:,} total restaurants<br>%{y:.1f} mean rating<br>%{customdata} median revies",
         "marker": {
          "color": [
           80,
           19,
           234,
           182,
           59,
           256,
           34,
           30,
           15,
           88.5
          ],
          "size": [
           43.82026634673881,
           29.444389791664403,
           54.55321115357702,
           52.04006687076795,
           40.775374439057195,
           55.451774444795625,
           35.26360524616162,
           34.011973816621555,
           27.0805020110221,
           44.83002552013883
          ]
         },
         "mode": "markers+text",
         "text": [
          "Pizza",
          "Italiana",
          "Mediterranea",
          "Pesce",
          "Bar",
          "Romana",
          "Caffè",
          "Fast food",
          "Pub",
          "Giapponese"
         ],
         "textfont": {
          "size": 9
         },
         "textposition": "top center",
         "type": "scatter",
         "x": [
          1536,
          1244,
          827,
          611,
          295,
          208,
          206,
          197,
          139,
          136
         ],
         "y": [
          3.9453,
          4.0056,
          4.107,
          4.1849,
          3.922,
          4.0505,
          3.9612,
          4.0178,
          4.1043,
          3.761
         ]
        }
       ],
       "layout": {
        "autosize": false,
        "height": 500,
        "template": {
         "data": {
          "bar": [
           {
            "error_x": {
             "color": "#2a3f5f"
            },
            "error_y": {
             "color": "#2a3f5f"
            },
            "marker": {
             "line": {
              "color": "white",
              "width": 0.5
             },
             "pattern": {
              "fillmode": "overlay",
              "size": 10,
              "solidity": 0.2
             }
            },
            "type": "bar"
           }
          ],
          "barpolar": [
           {
            "marker": {
             "line": {
              "color": "white",
              "width": 0.5
             },
             "pattern": {
              "fillmode": "overlay",
              "size": 10,
              "solidity": 0.2
             }
            },
            "type": "barpolar"
           }
          ],
          "carpet": [
           {
            "aaxis": {
             "endlinecolor": "#2a3f5f",
             "gridcolor": "#C8D4E3",
             "linecolor": "#C8D4E3",
             "minorgridcolor": "#C8D4E3",
             "startlinecolor": "#2a3f5f"
            },
            "baxis": {
             "endlinecolor": "#2a3f5f",
             "gridcolor": "#C8D4E3",
             "linecolor": "#C8D4E3",
             "minorgridcolor": "#C8D4E3",
             "startlinecolor": "#2a3f5f"
            },
            "type": "carpet"
           }
          ],
          "choropleth": [
           {
            "colorbar": {
             "outlinewidth": 0,
             "ticks": ""
            },
            "type": "choropleth"
           }
          ],
          "contour": [
           {
            "colorbar": {
             "outlinewidth": 0,
             "ticks": ""
            },
            "colorscale": [
             [
              0,
              "#0d0887"
             ],
             [
              0.1111111111111111,
              "#46039f"
             ],
             [
              0.2222222222222222,
              "#7201a8"
             ],
             [
              0.3333333333333333,
              "#9c179e"
             ],
             [
              0.4444444444444444,
              "#bd3786"
             ],
             [
              0.5555555555555556,
              "#d8576b"
             ],
             [
              0.6666666666666666,
              "#ed7953"
             ],
             [
              0.7777777777777778,
              "#fb9f3a"
             ],
             [
              0.8888888888888888,
              "#fdca26"
             ],
             [
              1,
              "#f0f921"
             ]
            ],
            "type": "contour"
           }
          ],
          "contourcarpet": [
           {
            "colorbar": {
             "outlinewidth": 0,
             "ticks": ""
            },
            "type": "contourcarpet"
           }
          ],
          "heatmap": [
           {
            "colorbar": {
             "outlinewidth": 0,
             "ticks": ""
            },
            "colorscale": [
             [
              0,
              "#0d0887"
             ],
             [
              0.1111111111111111,
              "#46039f"
             ],
             [
              0.2222222222222222,
              "#7201a8"
             ],
             [
              0.3333333333333333,
              "#9c179e"
             ],
             [
              0.4444444444444444,
              "#bd3786"
             ],
             [
              0.5555555555555556,
              "#d8576b"
             ],
             [
              0.6666666666666666,
              "#ed7953"
             ],
             [
              0.7777777777777778,
              "#fb9f3a"
             ],
             [
              0.8888888888888888,
              "#fdca26"
             ],
             [
              1,
              "#f0f921"
             ]
            ],
            "type": "heatmap"
           }
          ],
          "heatmapgl": [
           {
            "colorbar": {
             "outlinewidth": 0,
             "ticks": ""
            },
            "colorscale": [
             [
              0,
              "#0d0887"
             ],
             [
              0.1111111111111111,
              "#46039f"
             ],
             [
              0.2222222222222222,
              "#7201a8"
             ],
             [
              0.3333333333333333,
              "#9c179e"
             ],
             [
              0.4444444444444444,
              "#bd3786"
             ],
             [
              0.5555555555555556,
              "#d8576b"
             ],
             [
              0.6666666666666666,
              "#ed7953"
             ],
             [
              0.7777777777777778,
              "#fb9f3a"
             ],
             [
              0.8888888888888888,
              "#fdca26"
             ],
             [
              1,
              "#f0f921"
             ]
            ],
            "type": "heatmapgl"
           }
          ],
          "histogram": [
           {
            "marker": {
             "pattern": {
              "fillmode": "overlay",
              "size": 10,
              "solidity": 0.2
             }
            },
            "type": "histogram"
           }
          ],
          "histogram2d": [
           {
            "colorbar": {
             "outlinewidth": 0,
             "ticks": ""
            },
            "colorscale": [
             [
              0,
              "#0d0887"
             ],
             [
              0.1111111111111111,
              "#46039f"
             ],
             [
              0.2222222222222222,
              "#7201a8"
             ],
             [
              0.3333333333333333,
              "#9c179e"
             ],
             [
              0.4444444444444444,
              "#bd3786"
             ],
             [
              0.5555555555555556,
              "#d8576b"
             ],
             [
              0.6666666666666666,
              "#ed7953"
             ],
             [
              0.7777777777777778,
              "#fb9f3a"
             ],
             [
              0.8888888888888888,
              "#fdca26"
             ],
             [
              1,
              "#f0f921"
             ]
            ],
            "type": "histogram2d"
           }
          ],
          "histogram2dcontour": [
           {
            "colorbar": {
             "outlinewidth": 0,
             "ticks": ""
            },
            "colorscale": [
             [
              0,
              "#0d0887"
             ],
             [
              0.1111111111111111,
              "#46039f"
             ],
             [
              0.2222222222222222,
              "#7201a8"
             ],
             [
              0.3333333333333333,
              "#9c179e"
             ],
             [
              0.4444444444444444,
              "#bd3786"
             ],
             [
              0.5555555555555556,
              "#d8576b"
             ],
             [
              0.6666666666666666,
              "#ed7953"
             ],
             [
              0.7777777777777778,
              "#fb9f3a"
             ],
             [
              0.8888888888888888,
              "#fdca26"
             ],
             [
              1,
              "#f0f921"
             ]
            ],
            "type": "histogram2dcontour"
           }
          ],
          "mesh3d": [
           {
            "colorbar": {
             "outlinewidth": 0,
             "ticks": ""
            },
            "type": "mesh3d"
           }
          ],
          "parcoords": [
           {
            "line": {
             "colorbar": {
              "outlinewidth": 0,
              "ticks": ""
             }
            },
            "type": "parcoords"
           }
          ],
          "pie": [
           {
            "automargin": true,
            "type": "pie"
           }
          ],
          "scatter": [
           {
            "fillpattern": {
             "fillmode": "overlay",
             "size": 10,
             "solidity": 0.2
            },
            "type": "scatter"
           }
          ],
          "scatter3d": [
           {
            "line": {
             "colorbar": {
              "outlinewidth": 0,
              "ticks": ""
             }
            },
            "marker": {
             "colorbar": {
              "outlinewidth": 0,
              "ticks": ""
             }
            },
            "type": "scatter3d"
           }
          ],
          "scattercarpet": [
           {
            "marker": {
             "colorbar": {
              "outlinewidth": 0,
              "ticks": ""
             }
            },
            "type": "scattercarpet"
           }
          ],
          "scattergeo": [
           {
            "marker": {
             "colorbar": {
              "outlinewidth": 0,
              "ticks": ""
             }
            },
            "type": "scattergeo"
           }
          ],
          "scattergl": [
           {
            "marker": {
             "colorbar": {
              "outlinewidth": 0,
              "ticks": ""
             }
            },
            "type": "scattergl"
           }
          ],
          "scattermapbox": [
           {
            "marker": {
             "colorbar": {
              "outlinewidth": 0,
              "ticks": ""
             }
            },
            "type": "scattermapbox"
           }
          ],
          "scatterpolar": [
           {
            "marker": {
             "colorbar": {
              "outlinewidth": 0,
              "ticks": ""
             }
            },
            "type": "scatterpolar"
           }
          ],
          "scatterpolargl": [
           {
            "marker": {
             "colorbar": {
              "outlinewidth": 0,
              "ticks": ""
             }
            },
            "type": "scatterpolargl"
           }
          ],
          "scatterternary": [
           {
            "marker": {
             "colorbar": {
              "outlinewidth": 0,
              "ticks": ""
             }
            },
            "type": "scatterternary"
           }
          ],
          "surface": [
           {
            "colorbar": {
             "outlinewidth": 0,
             "ticks": ""
            },
            "colorscale": [
             [
              0,
              "#0d0887"
             ],
             [
              0.1111111111111111,
              "#46039f"
             ],
             [
              0.2222222222222222,
              "#7201a8"
             ],
             [
              0.3333333333333333,
              "#9c179e"
             ],
             [
              0.4444444444444444,
              "#bd3786"
             ],
             [
              0.5555555555555556,
              "#d8576b"
             ],
             [
              0.6666666666666666,
              "#ed7953"
             ],
             [
              0.7777777777777778,
              "#fb9f3a"
             ],
             [
              0.8888888888888888,
              "#fdca26"
             ],
             [
              1,
              "#f0f921"
             ]
            ],
            "type": "surface"
           }
          ],
          "table": [
           {
            "cells": {
             "fill": {
              "color": "#EBF0F8"
             },
             "line": {
              "color": "white"
             }
            },
            "header": {
             "fill": {
              "color": "#C8D4E3"
             },
             "line": {
              "color": "white"
             }
            },
            "type": "table"
           }
          ]
         },
         "layout": {
          "annotationdefaults": {
           "arrowcolor": "#2a3f5f",
           "arrowhead": 0,
           "arrowwidth": 1
          },
          "autotypenumbers": "strict",
          "coloraxis": {
           "colorbar": {
            "outlinewidth": 0,
            "ticks": ""
           }
          },
          "colorscale": {
           "diverging": [
            [
             0,
             "#8e0152"
            ],
            [
             0.1,
             "#c51b7d"
            ],
            [
             0.2,
             "#de77ae"
            ],
            [
             0.3,
             "#f1b6da"
            ],
            [
             0.4,
             "#fde0ef"
            ],
            [
             0.5,
             "#f7f7f7"
            ],
            [
             0.6,
             "#e6f5d0"
            ],
            [
             0.7,
             "#b8e186"
            ],
            [
             0.8,
             "#7fbc41"
            ],
            [
             0.9,
             "#4d9221"
            ],
            [
             1,
             "#276419"
            ]
           ],
           "sequential": [
            [
             0,
             "#0d0887"
            ],
            [
             0.1111111111111111,
             "#46039f"
            ],
            [
             0.2222222222222222,
             "#7201a8"
            ],
            [
             0.3333333333333333,
             "#9c179e"
            ],
            [
             0.4444444444444444,
             "#bd3786"
            ],
            [
             0.5555555555555556,
             "#d8576b"
            ],
            [
             0.6666666666666666,
             "#ed7953"
            ],
            [
             0.7777777777777778,
             "#fb9f3a"
            ],
            [
             0.8888888888888888,
             "#fdca26"
            ],
            [
             1,
             "#f0f921"
            ]
           ],
           "sequentialminus": [
            [
             0,
             "#0d0887"
            ],
            [
             0.1111111111111111,
             "#46039f"
            ],
            [
             0.2222222222222222,
             "#7201a8"
            ],
            [
             0.3333333333333333,
             "#9c179e"
            ],
            [
             0.4444444444444444,
             "#bd3786"
            ],
            [
             0.5555555555555556,
             "#d8576b"
            ],
            [
             0.6666666666666666,
             "#ed7953"
            ],
            [
             0.7777777777777778,
             "#fb9f3a"
            ],
            [
             0.8888888888888888,
             "#fdca26"
            ],
            [
             1,
             "#f0f921"
            ]
           ]
          },
          "colorway": [
           "#636efa",
           "#EF553B",
           "#00cc96",
           "#ab63fa",
           "#FFA15A",
           "#19d3f3",
           "#FF6692",
           "#B6E880",
           "#FF97FF",
           "#FECB52"
          ],
          "font": {
           "color": "#2a3f5f"
          },
          "geo": {
           "bgcolor": "white",
           "lakecolor": "white",
           "landcolor": "white",
           "showlakes": true,
           "showland": true,
           "subunitcolor": "#C8D4E3"
          },
          "hoverlabel": {
           "align": "left"
          },
          "hovermode": "closest",
          "mapbox": {
           "style": "light"
          },
          "paper_bgcolor": "white",
          "plot_bgcolor": "white",
          "polar": {
           "angularaxis": {
            "gridcolor": "#EBF0F8",
            "linecolor": "#EBF0F8",
            "ticks": ""
           },
           "bgcolor": "white",
           "radialaxis": {
            "gridcolor": "#EBF0F8",
            "linecolor": "#EBF0F8",
            "ticks": ""
           }
          },
          "scene": {
           "xaxis": {
            "backgroundcolor": "white",
            "gridcolor": "#DFE8F3",
            "gridwidth": 2,
            "linecolor": "#EBF0F8",
            "showbackground": true,
            "ticks": "",
            "zerolinecolor": "#EBF0F8"
           },
           "yaxis": {
            "backgroundcolor": "white",
            "gridcolor": "#DFE8F3",
            "gridwidth": 2,
            "linecolor": "#EBF0F8",
            "showbackground": true,
            "ticks": "",
            "zerolinecolor": "#EBF0F8"
           },
           "zaxis": {
            "backgroundcolor": "white",
            "gridcolor": "#DFE8F3",
            "gridwidth": 2,
            "linecolor": "#EBF0F8",
            "showbackground": true,
            "ticks": "",
            "zerolinecolor": "#EBF0F8"
           }
          },
          "shapedefaults": {
           "line": {
            "color": "#2a3f5f"
           }
          },
          "ternary": {
           "aaxis": {
            "gridcolor": "#DFE8F3",
            "linecolor": "#A2B1C6",
            "ticks": ""
           },
           "baxis": {
            "gridcolor": "#DFE8F3",
            "linecolor": "#A2B1C6",
            "ticks": ""
           },
           "bgcolor": "white",
           "caxis": {
            "gridcolor": "#DFE8F3",
            "linecolor": "#A2B1C6",
            "ticks": ""
           }
          },
          "title": {
           "x": 0.05
          },
          "xaxis": {
           "automargin": true,
           "gridcolor": "#EBF0F8",
           "linecolor": "#EBF0F8",
           "ticks": "",
           "title": {
            "standoff": 15
           },
           "zerolinecolor": "#EBF0F8",
           "zerolinewidth": 2
          },
          "yaxis": {
           "automargin": true,
           "gridcolor": "#EBF0F8",
           "linecolor": "#EBF0F8",
           "ticks": "",
           "title": {
            "standoff": 15
           },
           "zerolinecolor": "#EBF0F8",
           "zerolinewidth": 2
          }
         }
        },
        "title": {
         "text": "Mean Rating and Total Restaurants of the 10 most popular Cuisine types",
         "x": 0.5
        },
        "width": 800,
        "xaxis": {
         "title": {
          "text": "Total Restaurants"
         }
        },
        "yaxis": {
         "title": {
          "text": "Mean Rating"
         }
        }
       }
      }
     },
     "metadata": {},
     "output_type": "display_data"
    }
   ],
   "source": [
    "fig = go.Figure(data=go.Scatter(x=agg_top10_cuisines_df['total_restaurants'], y=agg_top10_cuisines_df['mean_rating'],\n",
    "                                mode='markers+text', marker=dict(size=np.log(agg_top10_cuisines_df['median_reviews_n'].astype('float64'))*10,\n",
    "                                                                 color=agg_top10_cuisines_df['median_reviews_n']),\n",
    "                                text=agg_top10_cuisines_df['first_cuisine'], textposition='top center', textfont=dict(size=9),\n",
    "                                customdata=agg_top10_cuisines_df['median_reviews_n'],\n",
    "                                hoverlabel=dict(namelength=0), # removes the trace number off to the side of the tooltip box\n",
    "                                hovertemplate='<b>%{text}</b>:<br>%{x:,} total restaurants<br>%{y:.1f} mean rating<br>%{customdata} median revies'))\n",
    "fig.update_layout(title='Mean Rating and Total Restaurants of the 10 most popular Cuisine types', template='plotly_white',\n",
    "                  title_x=0.5, autosize=False, width=800, height=500)\n",
    "fig['layout']['xaxis']['title'] = 'Total Restaurants'\n",
    "fig['layout']['yaxis']['title'] = 'Mean Rating'\n",
    "fig.show()"
   ]
  },
  {
   "cell_type": "code",
   "execution_count": 7,
   "metadata": {},
   "outputs": [],
   "source": [
    "values = pd.unique(df.diets.str.rsplit(\", \", expand=True).stack()).tolist()\n",
    "for value in values:\n",
    "    df[value] = df.apply(lambda row: pd.notnull(row['diets']) and value in row['diets'].split(', '), axis=1)\n",
    "df.columns = [c.replace(' ', '_') for c in df.columns]\n",
    "df.rename({\n",
    "    'Per_vegetariani':'vegetarian_friendly',\n",
    "    'Opzioni_vegane':'vegan_options',\n",
    "    'Opzioni_senza_glutine':'gluten_free',\n",
    "    }, axis = \"columns\", inplace=True)"
   ]
  },
  {
   "cell_type": "code",
   "execution_count": 8,
   "metadata": {},
   "outputs": [
    {
     "data": {
      "text/html": [
       "<div>\n",
       "<style scoped>\n",
       "    .dataframe tbody tr th:only-of-type {\n",
       "        vertical-align: middle;\n",
       "    }\n",
       "\n",
       "    .dataframe tbody tr th {\n",
       "        vertical-align: top;\n",
       "    }\n",
       "\n",
       "    .dataframe thead th {\n",
       "        text-align: right;\n",
       "    }\n",
       "</style>\n",
       "<table border=\"1\" class=\"dataframe\">\n",
       "  <thead>\n",
       "    <tr style=\"text-align: right;\">\n",
       "      <th></th>\n",
       "      <th>Unnamed:_0.1</th>\n",
       "      <th>Unnamed:_0</th>\n",
       "      <th>url</th>\n",
       "      <th>place_id</th>\n",
       "      <th>osm_id</th>\n",
       "      <th>name</th>\n",
       "      <th>rating</th>\n",
       "      <th>total_reviews</th>\n",
       "      <th>price</th>\n",
       "      <th>geometry</th>\n",
       "      <th>...</th>\n",
       "      <th>quartieri</th>\n",
       "      <th>nome</th>\n",
       "      <th>cuisines</th>\n",
       "      <th>diets</th>\n",
       "      <th>first_cuisine</th>\n",
       "      <th>vegetarian_friendly</th>\n",
       "      <th>vegan_options</th>\n",
       "      <th>gluten_free</th>\n",
       "      <th>Halal</th>\n",
       "      <th>Kosher</th>\n",
       "    </tr>\n",
       "  </thead>\n",
       "  <tbody>\n",
       "    <tr>\n",
       "      <th>0</th>\n",
       "      <td>0</td>\n",
       "      <td>0</td>\n",
       "      <td>https://www.tripadvisor.it/Restaurant_Review-g...</td>\n",
       "      <td>146016014</td>\n",
       "      <td>190853584.0</td>\n",
       "      <td>Texas Saloon</td>\n",
       "      <td>3.5</td>\n",
       "      <td>789</td>\n",
       "      <td>2.5</td>\n",
       "      <td>POINT (12.429359229391224 41.80017805)</td>\n",
       "      <td>...</td>\n",
       "      <td>Quartieri: Ostiense, Giuliano Dalmata, Europa.</td>\n",
       "      <td>Municipio IX (ex XII)</td>\n",
       "      <td>Italiana, Americana, Steakhouse, Pizza, Medite...</td>\n",
       "      <td>Per vegetariani, Opzioni vegane, Opzioni senza...</td>\n",
       "      <td>Americana</td>\n",
       "      <td>True</td>\n",
       "      <td>True</td>\n",
       "      <td>True</td>\n",
       "      <td>False</td>\n",
       "      <td>False</td>\n",
       "    </tr>\n",
       "    <tr>\n",
       "      <th>1</th>\n",
       "      <td>1</td>\n",
       "      <td>2</td>\n",
       "      <td>https://www.tripadvisor.it/Restaurant_Review-g...</td>\n",
       "      <td>107132432</td>\n",
       "      <td>23322316.0</td>\n",
       "      <td>Pizza Gegè</td>\n",
       "      <td>4.0</td>\n",
       "      <td>74</td>\n",
       "      <td>1.0</td>\n",
       "      <td>POINT (12.4740094 41.8264266)</td>\n",
       "      <td>...</td>\n",
       "      <td>Quartieri: Ostiense, Giuliano Dalmata, Europa.</td>\n",
       "      <td>Municipio IX (ex XII)</td>\n",
       "      <td>Italiana, Pizza</td>\n",
       "      <td>Per vegetariani</td>\n",
       "      <td>Pizza</td>\n",
       "      <td>True</td>\n",
       "      <td>False</td>\n",
       "      <td>False</td>\n",
       "      <td>False</td>\n",
       "      <td>False</td>\n",
       "    </tr>\n",
       "    <tr>\n",
       "      <th>2</th>\n",
       "      <td>2</td>\n",
       "      <td>23</td>\n",
       "      <td>https://www.tripadvisor.it/Restaurant_Review-g...</td>\n",
       "      <td>107281163</td>\n",
       "      <td>27528185.0</td>\n",
       "      <td>Pizza alla Pala L'Angoletto</td>\n",
       "      <td>3.5</td>\n",
       "      <td>4</td>\n",
       "      <td>1.0</td>\n",
       "      <td>POINT (12.4699624 41.7669096)</td>\n",
       "      <td>...</td>\n",
       "      <td>Quartieri: Ostiense, Giuliano Dalmata, Europa.</td>\n",
       "      <td>Municipio IX (ex XII)</td>\n",
       "      <td>Cinese, Giapponese, Asiatica, Sushi</td>\n",
       "      <td>Per vegetariani</td>\n",
       "      <td>Giapponese</td>\n",
       "      <td>True</td>\n",
       "      <td>False</td>\n",
       "      <td>False</td>\n",
       "      <td>False</td>\n",
       "      <td>False</td>\n",
       "    </tr>\n",
       "    <tr>\n",
       "      <th>3</th>\n",
       "      <td>3</td>\n",
       "      <td>43</td>\n",
       "      <td>https://www.tripadvisor.it/Restaurant_Review-g...</td>\n",
       "      <td>139760549</td>\n",
       "      <td>159009107.0</td>\n",
       "      <td>Queen's Restaurant</td>\n",
       "      <td>4.0</td>\n",
       "      <td>56</td>\n",
       "      <td>2.5</td>\n",
       "      <td>POINT (12.4263197 41.7895865)</td>\n",
       "      <td>...</td>\n",
       "      <td>Quartieri: Ostiense, Giuliano Dalmata, Europa.</td>\n",
       "      <td>Municipio IX (ex XII)</td>\n",
       "      <td>Italiana, Mediterranea, Internazionale</td>\n",
       "      <td>Per vegetariani</td>\n",
       "      <td>Mediterranea</td>\n",
       "      <td>True</td>\n",
       "      <td>False</td>\n",
       "      <td>False</td>\n",
       "      <td>False</td>\n",
       "      <td>False</td>\n",
       "    </tr>\n",
       "    <tr>\n",
       "      <th>4</th>\n",
       "      <td>4</td>\n",
       "      <td>53</td>\n",
       "      <td>https://www.tripadvisor.it/Restaurant_Review-g...</td>\n",
       "      <td>146016014</td>\n",
       "      <td>190853584.0</td>\n",
       "      <td>Foodisfaction</td>\n",
       "      <td>3.5</td>\n",
       "      <td>222</td>\n",
       "      <td>2.5</td>\n",
       "      <td>POINT (12.429359229391224 41.80017805)</td>\n",
       "      <td>...</td>\n",
       "      <td>Quartieri: Ostiense, Giuliano Dalmata, Europa.</td>\n",
       "      <td>Municipio IX (ex XII)</td>\n",
       "      <td>Italiana, Pizza, Pesce, Mediterranea, Romana, ...</td>\n",
       "      <td>Per vegetariani, Opzioni vegane</td>\n",
       "      <td>Pizza</td>\n",
       "      <td>True</td>\n",
       "      <td>True</td>\n",
       "      <td>False</td>\n",
       "      <td>False</td>\n",
       "      <td>False</td>\n",
       "    </tr>\n",
       "    <tr>\n",
       "      <th>...</th>\n",
       "      <td>...</td>\n",
       "      <td>...</td>\n",
       "      <td>...</td>\n",
       "      <td>...</td>\n",
       "      <td>...</td>\n",
       "      <td>...</td>\n",
       "      <td>...</td>\n",
       "      <td>...</td>\n",
       "      <td>...</td>\n",
       "      <td>...</td>\n",
       "      <td>...</td>\n",
       "      <td>...</td>\n",
       "      <td>...</td>\n",
       "      <td>...</td>\n",
       "      <td>...</td>\n",
       "      <td>...</td>\n",
       "      <td>...</td>\n",
       "      <td>...</td>\n",
       "      <td>...</td>\n",
       "      <td>...</td>\n",
       "      <td>...</td>\n",
       "    </tr>\n",
       "    <tr>\n",
       "      <th>7778</th>\n",
       "      <td>7778</td>\n",
       "      <td>7883</td>\n",
       "      <td>https://www.tripadvisor.it/Restaurant_Review-g...</td>\n",
       "      <td>135338212</td>\n",
       "      <td>137939240.0</td>\n",
       "      <td>Volta Pagina Caffetteria</td>\n",
       "      <td>4.5</td>\n",
       "      <td>7</td>\n",
       "      <td>2.5</td>\n",
       "      <td>POINT (12.3518099 41.7738922)</td>\n",
       "      <td>...</td>\n",
       "      <td>Quartieri: Lido di Ostia Ponente, Lido di Osti...</td>\n",
       "      <td>Municipio X (ex XIII)</td>\n",
       "      <td>NaN</td>\n",
       "      <td>NaN</td>\n",
       "      <td>NaN</td>\n",
       "      <td>False</td>\n",
       "      <td>False</td>\n",
       "      <td>False</td>\n",
       "      <td>False</td>\n",
       "      <td>False</td>\n",
       "    </tr>\n",
       "    <tr>\n",
       "      <th>7779</th>\n",
       "      <td>7779</td>\n",
       "      <td>7899</td>\n",
       "      <td>https://www.tripadvisor.it/Restaurant_Review-g...</td>\n",
       "      <td>116793066</td>\n",
       "      <td>63205310.0</td>\n",
       "      <td>Strappabocca</td>\n",
       "      <td>4.5</td>\n",
       "      <td>182</td>\n",
       "      <td>2.5</td>\n",
       "      <td>POINT (12.3583458 41.743359)</td>\n",
       "      <td>...</td>\n",
       "      <td>Quartieri: Lido di Ostia Ponente, Lido di Osti...</td>\n",
       "      <td>Municipio X (ex XIII)</td>\n",
       "      <td>Italiana, Pesce, Mediterranea</td>\n",
       "      <td>Opzioni senza glutine</td>\n",
       "      <td>Pesce</td>\n",
       "      <td>False</td>\n",
       "      <td>False</td>\n",
       "      <td>True</td>\n",
       "      <td>False</td>\n",
       "      <td>False</td>\n",
       "    </tr>\n",
       "    <tr>\n",
       "      <th>7780</th>\n",
       "      <td>7780</td>\n",
       "      <td>7960</td>\n",
       "      <td>https://www.tripadvisor.it/Restaurant_Review-g...</td>\n",
       "      <td>106876953</td>\n",
       "      <td>25220056.0</td>\n",
       "      <td>Jack's Pub</td>\n",
       "      <td>3.5</td>\n",
       "      <td>16</td>\n",
       "      <td>1.0</td>\n",
       "      <td>POINT (12.346581 41.7767439)</td>\n",
       "      <td>...</td>\n",
       "      <td>Quartieri: Lido di Ostia Ponente, Lido di Osti...</td>\n",
       "      <td>Municipio X (ex XIII)</td>\n",
       "      <td>Americana, Bar, Pub, Italiana, Tedesca, Fast food</td>\n",
       "      <td>NaN</td>\n",
       "      <td>Bar</td>\n",
       "      <td>False</td>\n",
       "      <td>False</td>\n",
       "      <td>False</td>\n",
       "      <td>False</td>\n",
       "      <td>False</td>\n",
       "    </tr>\n",
       "    <tr>\n",
       "      <th>7781</th>\n",
       "      <td>7781</td>\n",
       "      <td>8044</td>\n",
       "      <td>https://www.tripadvisor.it/Restaurant_Review-g...</td>\n",
       "      <td>132448550</td>\n",
       "      <td>131201867.0</td>\n",
       "      <td>Ricomincio Da Tre</td>\n",
       "      <td>4.0</td>\n",
       "      <td>44</td>\n",
       "      <td>2.5</td>\n",
       "      <td>POINT (12.3468789 41.785934)</td>\n",
       "      <td>...</td>\n",
       "      <td>Quartieri: Lido di Ostia Ponente, Lido di Osti...</td>\n",
       "      <td>Municipio X (ex XIII)</td>\n",
       "      <td>Laziale, Italiana (centro), Pizza, Mediterranea</td>\n",
       "      <td>Per vegetariani</td>\n",
       "      <td>Italiana (centro)</td>\n",
       "      <td>True</td>\n",
       "      <td>False</td>\n",
       "      <td>False</td>\n",
       "      <td>False</td>\n",
       "      <td>False</td>\n",
       "    </tr>\n",
       "    <tr>\n",
       "      <th>7782</th>\n",
       "      <td>7782</td>\n",
       "      <td>8065</td>\n",
       "      <td>https://www.tripadvisor.it/Restaurant_Review-g...</td>\n",
       "      <td>110209975</td>\n",
       "      <td>32892472.0</td>\n",
       "      <td>Gallu's Stuzzicheria</td>\n",
       "      <td>5.0</td>\n",
       "      <td>5</td>\n",
       "      <td>1.0</td>\n",
       "      <td>POINT (12.2794004 41.7357548)</td>\n",
       "      <td>...</td>\n",
       "      <td>Quartieri: Lido di Ostia Ponente, Lido di Osti...</td>\n",
       "      <td>Municipio X (ex XIII)</td>\n",
       "      <td>NaN</td>\n",
       "      <td>NaN</td>\n",
       "      <td>NaN</td>\n",
       "      <td>False</td>\n",
       "      <td>False</td>\n",
       "      <td>False</td>\n",
       "      <td>False</td>\n",
       "      <td>False</td>\n",
       "    </tr>\n",
       "  </tbody>\n",
       "</table>\n",
       "<p>7783 rows × 24 columns</p>\n",
       "</div>"
      ],
      "text/plain": [
       "      Unnamed:_0.1  Unnamed:_0  \\\n",
       "0                0           0   \n",
       "1                1           2   \n",
       "2                2          23   \n",
       "3                3          43   \n",
       "4                4          53   \n",
       "...            ...         ...   \n",
       "7778          7778        7883   \n",
       "7779          7779        7899   \n",
       "7780          7780        7960   \n",
       "7781          7781        8044   \n",
       "7782          7782        8065   \n",
       "\n",
       "                                                    url   place_id  \\\n",
       "0     https://www.tripadvisor.it/Restaurant_Review-g...  146016014   \n",
       "1     https://www.tripadvisor.it/Restaurant_Review-g...  107132432   \n",
       "2     https://www.tripadvisor.it/Restaurant_Review-g...  107281163   \n",
       "3     https://www.tripadvisor.it/Restaurant_Review-g...  139760549   \n",
       "4     https://www.tripadvisor.it/Restaurant_Review-g...  146016014   \n",
       "...                                                 ...        ...   \n",
       "7778  https://www.tripadvisor.it/Restaurant_Review-g...  135338212   \n",
       "7779  https://www.tripadvisor.it/Restaurant_Review-g...  116793066   \n",
       "7780  https://www.tripadvisor.it/Restaurant_Review-g...  106876953   \n",
       "7781  https://www.tripadvisor.it/Restaurant_Review-g...  132448550   \n",
       "7782  https://www.tripadvisor.it/Restaurant_Review-g...  110209975   \n",
       "\n",
       "           osm_id                         name  rating  total_reviews  price  \\\n",
       "0     190853584.0                 Texas Saloon     3.5            789    2.5   \n",
       "1      23322316.0                   Pizza Gegè     4.0             74    1.0   \n",
       "2      27528185.0  Pizza alla Pala L'Angoletto     3.5              4    1.0   \n",
       "3     159009107.0           Queen's Restaurant     4.0             56    2.5   \n",
       "4     190853584.0                Foodisfaction     3.5            222    2.5   \n",
       "...           ...                          ...     ...            ...    ...   \n",
       "7778  137939240.0     Volta Pagina Caffetteria     4.5              7    2.5   \n",
       "7779   63205310.0                 Strappabocca     4.5            182    2.5   \n",
       "7780   25220056.0                   Jack's Pub     3.5             16    1.0   \n",
       "7781  131201867.0            Ricomincio Da Tre     4.0             44    2.5   \n",
       "7782   32892472.0         Gallu's Stuzzicheria     5.0              5    1.0   \n",
       "\n",
       "                                    geometry  ...  \\\n",
       "0     POINT (12.429359229391224 41.80017805)  ...   \n",
       "1              POINT (12.4740094 41.8264266)  ...   \n",
       "2              POINT (12.4699624 41.7669096)  ...   \n",
       "3              POINT (12.4263197 41.7895865)  ...   \n",
       "4     POINT (12.429359229391224 41.80017805)  ...   \n",
       "...                                      ...  ...   \n",
       "7778           POINT (12.3518099 41.7738922)  ...   \n",
       "7779            POINT (12.3583458 41.743359)  ...   \n",
       "7780            POINT (12.346581 41.7767439)  ...   \n",
       "7781            POINT (12.3468789 41.785934)  ...   \n",
       "7782           POINT (12.2794004 41.7357548)  ...   \n",
       "\n",
       "                                              quartieri  \\\n",
       "0        Quartieri: Ostiense, Giuliano Dalmata, Europa.   \n",
       "1        Quartieri: Ostiense, Giuliano Dalmata, Europa.   \n",
       "2        Quartieri: Ostiense, Giuliano Dalmata, Europa.   \n",
       "3        Quartieri: Ostiense, Giuliano Dalmata, Europa.   \n",
       "4        Quartieri: Ostiense, Giuliano Dalmata, Europa.   \n",
       "...                                                 ...   \n",
       "7778  Quartieri: Lido di Ostia Ponente, Lido di Osti...   \n",
       "7779  Quartieri: Lido di Ostia Ponente, Lido di Osti...   \n",
       "7780  Quartieri: Lido di Ostia Ponente, Lido di Osti...   \n",
       "7781  Quartieri: Lido di Ostia Ponente, Lido di Osti...   \n",
       "7782  Quartieri: Lido di Ostia Ponente, Lido di Osti...   \n",
       "\n",
       "                       nome  \\\n",
       "0     Municipio IX (ex XII)   \n",
       "1     Municipio IX (ex XII)   \n",
       "2     Municipio IX (ex XII)   \n",
       "3     Municipio IX (ex XII)   \n",
       "4     Municipio IX (ex XII)   \n",
       "...                     ...   \n",
       "7778  Municipio X (ex XIII)   \n",
       "7779  Municipio X (ex XIII)   \n",
       "7780  Municipio X (ex XIII)   \n",
       "7781  Municipio X (ex XIII)   \n",
       "7782  Municipio X (ex XIII)   \n",
       "\n",
       "                                               cuisines  \\\n",
       "0     Italiana, Americana, Steakhouse, Pizza, Medite...   \n",
       "1                                       Italiana, Pizza   \n",
       "2                   Cinese, Giapponese, Asiatica, Sushi   \n",
       "3                Italiana, Mediterranea, Internazionale   \n",
       "4     Italiana, Pizza, Pesce, Mediterranea, Romana, ...   \n",
       "...                                                 ...   \n",
       "7778                                                NaN   \n",
       "7779                      Italiana, Pesce, Mediterranea   \n",
       "7780  Americana, Bar, Pub, Italiana, Tedesca, Fast food   \n",
       "7781    Laziale, Italiana (centro), Pizza, Mediterranea   \n",
       "7782                                                NaN   \n",
       "\n",
       "                                                  diets      first_cuisine  \\\n",
       "0     Per vegetariani, Opzioni vegane, Opzioni senza...          Americana   \n",
       "1                                       Per vegetariani              Pizza   \n",
       "2                                       Per vegetariani         Giapponese   \n",
       "3                                       Per vegetariani       Mediterranea   \n",
       "4                       Per vegetariani, Opzioni vegane              Pizza   \n",
       "...                                                 ...                ...   \n",
       "7778                                                NaN                NaN   \n",
       "7779                              Opzioni senza glutine              Pesce   \n",
       "7780                                                NaN                Bar   \n",
       "7781                                    Per vegetariani  Italiana (centro)   \n",
       "7782                                                NaN                NaN   \n",
       "\n",
       "     vegetarian_friendly vegan_options gluten_free  Halal  Kosher  \n",
       "0                   True          True        True  False   False  \n",
       "1                   True         False       False  False   False  \n",
       "2                   True         False       False  False   False  \n",
       "3                   True         False       False  False   False  \n",
       "4                   True          True       False  False   False  \n",
       "...                  ...           ...         ...    ...     ...  \n",
       "7778               False         False       False  False   False  \n",
       "7779               False         False        True  False   False  \n",
       "7780               False         False       False  False   False  \n",
       "7781                True         False       False  False   False  \n",
       "7782               False         False       False  False   False  \n",
       "\n",
       "[7783 rows x 24 columns]"
      ]
     },
     "execution_count": 8,
     "metadata": {},
     "output_type": "execute_result"
    }
   ],
   "source": [
    "df"
   ]
  },
  {
   "cell_type": "code",
   "execution_count": 28,
   "metadata": {},
   "outputs": [
    {
     "data": {
      "application/vnd.plotly.v1+json": {
       "config": {
        "plotlyServerURL": "https://plot.ly"
       },
       "data": [
        {
         "hoverlabel": {
          "namelength": 0
         },
         "hovertemplate": "%{text}:<br>%{x:.2f} vegetarian %<br>%{y:.1f} reviews p/restaurant",
         "marker": {
          "color": [
           418.7887740029542,
           164.41119221411194,
           146.99322493224932,
           93.68346774193549,
           166.62979683972912,
           135.0326086956522,
           128.83860759493672,
           113.64788732394366,
           143.9630996309963,
           113.04511278195488,
           167.59848484848484,
           81.96875,
           117.33944954128441,
           103.79601990049751,
           78.78658536585365
          ],
          "size": [
           52.03844732503075,
           28.6705423736629,
           27.16615541441225,
           22.271057451320086,
           21.047565179849187,
           19.183326093250876,
           17.776388834631177,
           16.852299546352718,
           16.46207763315433,
           16.30950643030009,
           16.24807680927192,
           14.966629547095765,
           14.7648230602334,
           14.177446878757825,
           12.806248474865697
          ]
         },
         "mode": "markers+text",
         "showlegend": false,
         "text": [
          "Municipio I (ex I + ex XVII)",
          "Municipio II (ex II + ex III)",
          "Municipio VII (ex IX + ex X)",
          "Municipio V (ex VI + ex VII)",
          "Municipio VIII (ex XI)",
          "Municipio III (ex IV)",
          "Municipio IX (ex XII)",
          "Municipio IV (ex V)",
          "Municipio XII (ex XVI)",
          "Municipio XV (ex XX)",
          "Municipio XIII (ex XVIII)",
          "Municipio X (ex XIII)",
          "Municipio XI (ex XV)",
          "Municipio XIV (ex XIX)",
          "Municipio VI (ex VIII)"
         ],
         "textfont": {
          "size": 9
         },
         "textposition": "top center",
         "type": "scatter",
         "x": [
          0.7108567208271788,
          0.6934306569343066,
          0.6937669376693767,
          0.6512096774193549,
          0.6997742663656885,
          0.625,
          0.629746835443038,
          0.6514084507042254,
          0.6826568265682657,
          0.6127819548872181,
          0.6174242424242424,
          0.6116071428571429,
          0.5779816513761468,
          0.7164179104477612,
          0.5670731707317073
         ],
         "xaxis": "x",
         "y": [
          418.7887740029542,
          164.41119221411194,
          146.99322493224932,
          93.68346774193549,
          166.62979683972912,
          135.0326086956522,
          128.83860759493672,
          113.64788732394366,
          143.9630996309963,
          113.04511278195488,
          167.59848484848484,
          81.96875,
          117.33944954128441,
          103.79601990049751,
          78.78658536585365
         ],
         "yaxis": "y"
        },
        {
         "hoverlabel": {
          "namelength": 0
         },
         "hovertemplate": "%{text}:<br>%{x:.2f} vegan %<br>%{y:.1f} reviews p/restaurant",
         "marker": {
          "color": [
           418.7887740029542,
           164.41119221411194,
           146.99322493224932,
           93.68346774193549,
           166.62979683972912,
           135.0326086956522,
           128.83860759493672,
           113.64788732394366,
           143.9630996309963,
           113.04511278195488,
           167.59848484848484,
           81.96875,
           117.33944954128441,
           103.79601990049751,
           78.78658536585365
          ],
          "size": [
           52.03844732503075,
           28.6705423736629,
           27.16615541441225,
           22.271057451320086,
           21.047565179849187,
           19.183326093250876,
           17.776388834631177,
           16.852299546352718,
           16.46207763315433,
           16.30950643030009,
           16.24807680927192,
           14.966629547095765,
           14.7648230602334,
           14.177446878757825,
           12.806248474865697
          ]
         },
         "mode": "markers+text",
         "showlegend": false,
         "text": [
          "Municipio I (ex I + ex XVII)",
          "Municipio II (ex II + ex III)",
          "Municipio VII (ex IX + ex X)",
          "Municipio V (ex VI + ex VII)",
          "Municipio VIII (ex XI)",
          "Municipio III (ex IV)",
          "Municipio IX (ex XII)",
          "Municipio IV (ex V)",
          "Municipio XII (ex XVI)",
          "Municipio XV (ex XX)",
          "Municipio XIII (ex XVIII)",
          "Municipio X (ex XIII)",
          "Municipio XI (ex XV)",
          "Municipio XIV (ex XIX)",
          "Municipio VI (ex VIII)"
         ],
         "textfont": {
          "size": 9
         },
         "textposition": "top center",
         "type": "scatter",
         "x": [
          0.3401033973412112,
          0.2725060827250608,
          0.21951219512195122,
          0.26411290322580644,
          0.2708803611738149,
          0.20923913043478262,
          0.18354430379746836,
          0.20422535211267606,
          0.2693726937269373,
          0.19548872180451127,
          0.20833333333333334,
          0.22767857142857142,
          0.18807339449541285,
          0.19402985074626866,
          0.18292682926829268
         ],
         "xaxis": "x2",
         "y": [
          418.7887740029542,
          164.41119221411194,
          146.99322493224932,
          93.68346774193549,
          166.62979683972912,
          135.0326086956522,
          128.83860759493672,
          113.64788732394366,
          143.9630996309963,
          113.04511278195488,
          167.59848484848484,
          81.96875,
          117.33944954128441,
          103.79601990049751,
          78.78658536585365
         ],
         "yaxis": "y2"
        },
        {
         "hoverlabel": {
          "namelength": 0
         },
         "hovertemplate": "%{text}:<br>%{x:.2f} gluten-free %<br>%{y:.1f} reviews p/restaurant",
         "marker": {
          "color": [
           418.7887740029542,
           164.41119221411194,
           146.99322493224932,
           93.68346774193549,
           166.62979683972912,
           135.0326086956522,
           128.83860759493672,
           113.64788732394366,
           143.9630996309963,
           113.04511278195488,
           167.59848484848484,
           81.96875,
           117.33944954128441,
           103.79601990049751,
           78.78658536585365
          ],
          "size": [
           52.03844732503075,
           28.6705423736629,
           27.16615541441225,
           22.271057451320086,
           21.047565179849187,
           19.183326093250876,
           17.776388834631177,
           16.852299546352718,
           16.46207763315433,
           16.30950643030009,
           16.24807680927192,
           14.966629547095765,
           14.7648230602334,
           14.177446878757825,
           12.806248474865697
          ]
         },
         "mode": "markers+text",
         "showlegend": false,
         "text": [
          "Municipio I (ex I + ex XVII)",
          "Municipio II (ex II + ex III)",
          "Municipio VII (ex IX + ex X)",
          "Municipio V (ex VI + ex VII)",
          "Municipio VIII (ex XI)",
          "Municipio III (ex IV)",
          "Municipio IX (ex XII)",
          "Municipio IV (ex V)",
          "Municipio XII (ex XVI)",
          "Municipio XV (ex XX)",
          "Municipio XIII (ex XVIII)",
          "Municipio X (ex XIII)",
          "Municipio XI (ex XV)",
          "Municipio XIV (ex XIX)",
          "Municipio VI (ex VIII)"
         ],
         "textfont": {
          "size": 9
         },
         "textposition": "top center",
         "type": "scatter",
         "x": [
          0.22710487444608568,
          0.170316301703163,
          0.14363143631436315,
          0.11693548387096774,
          0.16027088036117382,
          0.15217391304347827,
          0.12974683544303797,
          0.11267605633802817,
          0.18081180811808117,
          0.15037593984962405,
          0.17424242424242425,
          0.13839285714285715,
          0.14220183486238533,
          0.14427860696517414,
          0.06707317073170732
         ],
         "xaxis": "x3",
         "y": [
          418.7887740029542,
          164.41119221411194,
          146.99322493224932,
          93.68346774193549,
          166.62979683972912,
          135.0326086956522,
          128.83860759493672,
          113.64788732394366,
          143.9630996309963,
          113.04511278195488,
          167.59848484848484,
          81.96875,
          117.33944954128441,
          103.79601990049751,
          78.78658536585365
         ],
         "yaxis": "y3"
        }
       ],
       "layout": {
        "annotations": [
         {
          "font": {
           "size": 16
          },
          "showarrow": false,
          "text": "Vegetarian",
          "x": 0.5,
          "xanchor": "center",
          "xref": "paper",
          "y": 1,
          "yanchor": "bottom",
          "yref": "paper"
         },
         {
          "font": {
           "size": 16
          },
          "showarrow": false,
          "text": "Vegan",
          "x": 0.5,
          "xanchor": "center",
          "xref": "paper",
          "y": 0.6383333333333334,
          "yanchor": "bottom",
          "yref": "paper"
         },
         {
          "font": {
           "size": 16
          },
          "showarrow": false,
          "text": "Gluten-free",
          "x": 0.5,
          "xanchor": "center",
          "xref": "paper",
          "y": 0.27666666666666667,
          "yanchor": "bottom",
          "yref": "paper"
         }
        ],
        "height": 1000,
        "margin": {
         "b": 10,
         "l": 10,
         "r": 10,
         "t": 80
        },
        "template": {
         "data": {
          "bar": [
           {
            "error_x": {
             "color": "#2a3f5f"
            },
            "error_y": {
             "color": "#2a3f5f"
            },
            "marker": {
             "line": {
              "color": "#E5ECF6",
              "width": 0.5
             },
             "pattern": {
              "fillmode": "overlay",
              "size": 10,
              "solidity": 0.2
             }
            },
            "type": "bar"
           }
          ],
          "barpolar": [
           {
            "marker": {
             "line": {
              "color": "#E5ECF6",
              "width": 0.5
             },
             "pattern": {
              "fillmode": "overlay",
              "size": 10,
              "solidity": 0.2
             }
            },
            "type": "barpolar"
           }
          ],
          "carpet": [
           {
            "aaxis": {
             "endlinecolor": "#2a3f5f",
             "gridcolor": "white",
             "linecolor": "white",
             "minorgridcolor": "white",
             "startlinecolor": "#2a3f5f"
            },
            "baxis": {
             "endlinecolor": "#2a3f5f",
             "gridcolor": "white",
             "linecolor": "white",
             "minorgridcolor": "white",
             "startlinecolor": "#2a3f5f"
            },
            "type": "carpet"
           }
          ],
          "choropleth": [
           {
            "colorbar": {
             "outlinewidth": 0,
             "ticks": ""
            },
            "type": "choropleth"
           }
          ],
          "contour": [
           {
            "colorbar": {
             "outlinewidth": 0,
             "ticks": ""
            },
            "colorscale": [
             [
              0,
              "#0d0887"
             ],
             [
              0.1111111111111111,
              "#46039f"
             ],
             [
              0.2222222222222222,
              "#7201a8"
             ],
             [
              0.3333333333333333,
              "#9c179e"
             ],
             [
              0.4444444444444444,
              "#bd3786"
             ],
             [
              0.5555555555555556,
              "#d8576b"
             ],
             [
              0.6666666666666666,
              "#ed7953"
             ],
             [
              0.7777777777777778,
              "#fb9f3a"
             ],
             [
              0.8888888888888888,
              "#fdca26"
             ],
             [
              1,
              "#f0f921"
             ]
            ],
            "type": "contour"
           }
          ],
          "contourcarpet": [
           {
            "colorbar": {
             "outlinewidth": 0,
             "ticks": ""
            },
            "type": "contourcarpet"
           }
          ],
          "heatmap": [
           {
            "colorbar": {
             "outlinewidth": 0,
             "ticks": ""
            },
            "colorscale": [
             [
              0,
              "#0d0887"
             ],
             [
              0.1111111111111111,
              "#46039f"
             ],
             [
              0.2222222222222222,
              "#7201a8"
             ],
             [
              0.3333333333333333,
              "#9c179e"
             ],
             [
              0.4444444444444444,
              "#bd3786"
             ],
             [
              0.5555555555555556,
              "#d8576b"
             ],
             [
              0.6666666666666666,
              "#ed7953"
             ],
             [
              0.7777777777777778,
              "#fb9f3a"
             ],
             [
              0.8888888888888888,
              "#fdca26"
             ],
             [
              1,
              "#f0f921"
             ]
            ],
            "type": "heatmap"
           }
          ],
          "heatmapgl": [
           {
            "colorbar": {
             "outlinewidth": 0,
             "ticks": ""
            },
            "colorscale": [
             [
              0,
              "#0d0887"
             ],
             [
              0.1111111111111111,
              "#46039f"
             ],
             [
              0.2222222222222222,
              "#7201a8"
             ],
             [
              0.3333333333333333,
              "#9c179e"
             ],
             [
              0.4444444444444444,
              "#bd3786"
             ],
             [
              0.5555555555555556,
              "#d8576b"
             ],
             [
              0.6666666666666666,
              "#ed7953"
             ],
             [
              0.7777777777777778,
              "#fb9f3a"
             ],
             [
              0.8888888888888888,
              "#fdca26"
             ],
             [
              1,
              "#f0f921"
             ]
            ],
            "type": "heatmapgl"
           }
          ],
          "histogram": [
           {
            "marker": {
             "pattern": {
              "fillmode": "overlay",
              "size": 10,
              "solidity": 0.2
             }
            },
            "type": "histogram"
           }
          ],
          "histogram2d": [
           {
            "colorbar": {
             "outlinewidth": 0,
             "ticks": ""
            },
            "colorscale": [
             [
              0,
              "#0d0887"
             ],
             [
              0.1111111111111111,
              "#46039f"
             ],
             [
              0.2222222222222222,
              "#7201a8"
             ],
             [
              0.3333333333333333,
              "#9c179e"
             ],
             [
              0.4444444444444444,
              "#bd3786"
             ],
             [
              0.5555555555555556,
              "#d8576b"
             ],
             [
              0.6666666666666666,
              "#ed7953"
             ],
             [
              0.7777777777777778,
              "#fb9f3a"
             ],
             [
              0.8888888888888888,
              "#fdca26"
             ],
             [
              1,
              "#f0f921"
             ]
            ],
            "type": "histogram2d"
           }
          ],
          "histogram2dcontour": [
           {
            "colorbar": {
             "outlinewidth": 0,
             "ticks": ""
            },
            "colorscale": [
             [
              0,
              "#0d0887"
             ],
             [
              0.1111111111111111,
              "#46039f"
             ],
             [
              0.2222222222222222,
              "#7201a8"
             ],
             [
              0.3333333333333333,
              "#9c179e"
             ],
             [
              0.4444444444444444,
              "#bd3786"
             ],
             [
              0.5555555555555556,
              "#d8576b"
             ],
             [
              0.6666666666666666,
              "#ed7953"
             ],
             [
              0.7777777777777778,
              "#fb9f3a"
             ],
             [
              0.8888888888888888,
              "#fdca26"
             ],
             [
              1,
              "#f0f921"
             ]
            ],
            "type": "histogram2dcontour"
           }
          ],
          "mesh3d": [
           {
            "colorbar": {
             "outlinewidth": 0,
             "ticks": ""
            },
            "type": "mesh3d"
           }
          ],
          "parcoords": [
           {
            "line": {
             "colorbar": {
              "outlinewidth": 0,
              "ticks": ""
             }
            },
            "type": "parcoords"
           }
          ],
          "pie": [
           {
            "automargin": true,
            "type": "pie"
           }
          ],
          "scatter": [
           {
            "fillpattern": {
             "fillmode": "overlay",
             "size": 10,
             "solidity": 0.2
            },
            "type": "scatter"
           }
          ],
          "scatter3d": [
           {
            "line": {
             "colorbar": {
              "outlinewidth": 0,
              "ticks": ""
             }
            },
            "marker": {
             "colorbar": {
              "outlinewidth": 0,
              "ticks": ""
             }
            },
            "type": "scatter3d"
           }
          ],
          "scattercarpet": [
           {
            "marker": {
             "colorbar": {
              "outlinewidth": 0,
              "ticks": ""
             }
            },
            "type": "scattercarpet"
           }
          ],
          "scattergeo": [
           {
            "marker": {
             "colorbar": {
              "outlinewidth": 0,
              "ticks": ""
             }
            },
            "type": "scattergeo"
           }
          ],
          "scattergl": [
           {
            "marker": {
             "colorbar": {
              "outlinewidth": 0,
              "ticks": ""
             }
            },
            "type": "scattergl"
           }
          ],
          "scattermapbox": [
           {
            "marker": {
             "colorbar": {
              "outlinewidth": 0,
              "ticks": ""
             }
            },
            "type": "scattermapbox"
           }
          ],
          "scatterpolar": [
           {
            "marker": {
             "colorbar": {
              "outlinewidth": 0,
              "ticks": ""
             }
            },
            "type": "scatterpolar"
           }
          ],
          "scatterpolargl": [
           {
            "marker": {
             "colorbar": {
              "outlinewidth": 0,
              "ticks": ""
             }
            },
            "type": "scatterpolargl"
           }
          ],
          "scatterternary": [
           {
            "marker": {
             "colorbar": {
              "outlinewidth": 0,
              "ticks": ""
             }
            },
            "type": "scatterternary"
           }
          ],
          "surface": [
           {
            "colorbar": {
             "outlinewidth": 0,
             "ticks": ""
            },
            "colorscale": [
             [
              0,
              "#0d0887"
             ],
             [
              0.1111111111111111,
              "#46039f"
             ],
             [
              0.2222222222222222,
              "#7201a8"
             ],
             [
              0.3333333333333333,
              "#9c179e"
             ],
             [
              0.4444444444444444,
              "#bd3786"
             ],
             [
              0.5555555555555556,
              "#d8576b"
             ],
             [
              0.6666666666666666,
              "#ed7953"
             ],
             [
              0.7777777777777778,
              "#fb9f3a"
             ],
             [
              0.8888888888888888,
              "#fdca26"
             ],
             [
              1,
              "#f0f921"
             ]
            ],
            "type": "surface"
           }
          ],
          "table": [
           {
            "cells": {
             "fill": {
              "color": "#EBF0F8"
             },
             "line": {
              "color": "white"
             }
            },
            "header": {
             "fill": {
              "color": "#C8D4E3"
             },
             "line": {
              "color": "white"
             }
            },
            "type": "table"
           }
          ]
         },
         "layout": {
          "annotationdefaults": {
           "arrowcolor": "#2a3f5f",
           "arrowhead": 0,
           "arrowwidth": 1
          },
          "autotypenumbers": "strict",
          "coloraxis": {
           "colorbar": {
            "outlinewidth": 0,
            "ticks": ""
           }
          },
          "colorscale": {
           "diverging": [
            [
             0,
             "#8e0152"
            ],
            [
             0.1,
             "#c51b7d"
            ],
            [
             0.2,
             "#de77ae"
            ],
            [
             0.3,
             "#f1b6da"
            ],
            [
             0.4,
             "#fde0ef"
            ],
            [
             0.5,
             "#f7f7f7"
            ],
            [
             0.6,
             "#e6f5d0"
            ],
            [
             0.7,
             "#b8e186"
            ],
            [
             0.8,
             "#7fbc41"
            ],
            [
             0.9,
             "#4d9221"
            ],
            [
             1,
             "#276419"
            ]
           ],
           "sequential": [
            [
             0,
             "#0d0887"
            ],
            [
             0.1111111111111111,
             "#46039f"
            ],
            [
             0.2222222222222222,
             "#7201a8"
            ],
            [
             0.3333333333333333,
             "#9c179e"
            ],
            [
             0.4444444444444444,
             "#bd3786"
            ],
            [
             0.5555555555555556,
             "#d8576b"
            ],
            [
             0.6666666666666666,
             "#ed7953"
            ],
            [
             0.7777777777777778,
             "#fb9f3a"
            ],
            [
             0.8888888888888888,
             "#fdca26"
            ],
            [
             1,
             "#f0f921"
            ]
           ],
           "sequentialminus": [
            [
             0,
             "#0d0887"
            ],
            [
             0.1111111111111111,
             "#46039f"
            ],
            [
             0.2222222222222222,
             "#7201a8"
            ],
            [
             0.3333333333333333,
             "#9c179e"
            ],
            [
             0.4444444444444444,
             "#bd3786"
            ],
            [
             0.5555555555555556,
             "#d8576b"
            ],
            [
             0.6666666666666666,
             "#ed7953"
            ],
            [
             0.7777777777777778,
             "#fb9f3a"
            ],
            [
             0.8888888888888888,
             "#fdca26"
            ],
            [
             1,
             "#f0f921"
            ]
           ]
          },
          "colorway": [
           "#636efa",
           "#EF553B",
           "#00cc96",
           "#ab63fa",
           "#FFA15A",
           "#19d3f3",
           "#FF6692",
           "#B6E880",
           "#FF97FF",
           "#FECB52"
          ],
          "font": {
           "color": "#2a3f5f"
          },
          "geo": {
           "bgcolor": "white",
           "lakecolor": "white",
           "landcolor": "#E5ECF6",
           "showlakes": true,
           "showland": true,
           "subunitcolor": "white"
          },
          "hoverlabel": {
           "align": "left"
          },
          "hovermode": "closest",
          "mapbox": {
           "style": "light"
          },
          "paper_bgcolor": "white",
          "plot_bgcolor": "#E5ECF6",
          "polar": {
           "angularaxis": {
            "gridcolor": "white",
            "linecolor": "white",
            "ticks": ""
           },
           "bgcolor": "#E5ECF6",
           "radialaxis": {
            "gridcolor": "white",
            "linecolor": "white",
            "ticks": ""
           }
          },
          "scene": {
           "xaxis": {
            "backgroundcolor": "#E5ECF6",
            "gridcolor": "white",
            "gridwidth": 2,
            "linecolor": "white",
            "showbackground": true,
            "ticks": "",
            "zerolinecolor": "white"
           },
           "yaxis": {
            "backgroundcolor": "#E5ECF6",
            "gridcolor": "white",
            "gridwidth": 2,
            "linecolor": "white",
            "showbackground": true,
            "ticks": "",
            "zerolinecolor": "white"
           },
           "zaxis": {
            "backgroundcolor": "#E5ECF6",
            "gridcolor": "white",
            "gridwidth": 2,
            "linecolor": "white",
            "showbackground": true,
            "ticks": "",
            "zerolinecolor": "white"
           }
          },
          "shapedefaults": {
           "line": {
            "color": "#2a3f5f"
           }
          },
          "ternary": {
           "aaxis": {
            "gridcolor": "white",
            "linecolor": "white",
            "ticks": ""
           },
           "baxis": {
            "gridcolor": "white",
            "linecolor": "white",
            "ticks": ""
           },
           "bgcolor": "#E5ECF6",
           "caxis": {
            "gridcolor": "white",
            "linecolor": "white",
            "ticks": ""
           }
          },
          "title": {
           "x": 0.05
          },
          "xaxis": {
           "automargin": true,
           "gridcolor": "white",
           "linecolor": "white",
           "ticks": "",
           "title": {
            "standoff": 15
           },
           "zerolinecolor": "white",
           "zerolinewidth": 2
          },
          "yaxis": {
           "automargin": true,
           "gridcolor": "white",
           "linecolor": "white",
           "ticks": "",
           "title": {
            "standoff": 15
           },
           "zerolinecolor": "white",
           "zerolinewidth": 2
          }
         }
        },
        "title": {
         "text": "Reviews per Restaurant based on Vegetarian %, Vegan %, and Gluten-Free %",
         "x": 0.5
        },
        "width": 1900,
        "xaxis": {
         "anchor": "y",
         "domain": [
          0,
          1
         ],
         "title": {
          "text": "Vegetarian %"
         }
        },
        "xaxis2": {
         "anchor": "y2",
         "domain": [
          0,
          1
         ],
         "title": {
          "text": "Vegan %"
         }
        },
        "xaxis3": {
         "anchor": "y3",
         "domain": [
          0,
          1
         ],
         "title": {
          "text": "Gluten-Free %"
         }
        },
        "yaxis": {
         "anchor": "x",
         "domain": [
          0.7233333333333334,
          1
         ]
        },
        "yaxis2": {
         "anchor": "x2",
         "domain": [
          0.3616666666666667,
          0.6383333333333334
         ]
        },
        "yaxis3": {
         "anchor": "x3",
         "domain": [
          0,
          0.27666666666666667
         ]
        }
       }
      }
     },
     "metadata": {},
     "output_type": "display_data"
    }
   ],
   "source": [
    "# aggregating the data to find insights from the TripAdvisor dataset\n",
    "agg_countries_df = df.groupby('nome').agg(\n",
    "    total_restaurants=pd.NamedAgg(column='url', aggfunc=np.size),\n",
    "    mean_rating=pd.NamedAgg(column='rating', aggfunc=np.mean),\n",
    "    total_reviews=pd.NamedAgg(column='total_reviews', aggfunc=np.sum),\n",
    "    mean_reviews_n=pd.NamedAgg(column='total_reviews', aggfunc=np.mean),\n",
    "    median_reviews_n=pd.NamedAgg(column='total_reviews', aggfunc=np.median),\n",
    "    mean_price=pd.NamedAgg(column='price', aggfunc=np.mean),\n",
    "    median_price=pd.NamedAgg(column='price', aggfunc=np.median)\n",
    ").reset_index(level=0).sort_values(by='total_restaurants', ascending=False)\n",
    "for col in agg_countries_df.columns[1:]:\n",
    "    agg_countries_df[col] = round(agg_countries_df[col], 3)\n",
    "\n",
    "# percentage of restaurants with vegetarian, vegan, and gluten-free options\n",
    "food_options_perc_df = df.groupby('nome').apply(lambda x: pd.Series(dict(\n",
    "    restaurants_count=(x['url']).count(),\n",
    "    vegetarian_count=(x['vegetarian_friendly'] == True).sum(),\n",
    "    vegan_count=(x['vegan_options'] == True).sum(),\n",
    "    gluten_free_count=(x['gluten_free'] == True).sum())))\n",
    "for col in ['vegetarian', 'vegan', 'gluten_free']:\n",
    "    food_options_perc_df[col + '_perc'] = food_options_perc_df[col + '_count'] / food_options_perc_df['restaurants_count']\n",
    "food_options_perc_df = food_options_perc_df[['vegetarian_perc', 'vegan_perc', 'gluten_free_perc']].reset_index()\n",
    "\n",
    "# adding the percentage fields to the 'agg_country_codes_df' df\n",
    "food_options_perc_df = pd.merge(agg_countries_df, food_options_perc_df, how='inner', on='nome')\n",
    "food_options_perc_df.rename(columns={'nome': 'municipio'}, inplace=True)\n",
    "food_options_perc_df['reviews_per_restaurant'] = food_options_perc_df['total_reviews'] / food_options_perc_df['total_restaurants']\n",
    "\n",
    "# displaying in a bubble plot the food option percentages and comparing the reviews per restaurants\n",
    "fig = make_subplots(rows=3, cols=1, subplot_titles=('Vegetarian', 'Vegan', 'Gluten-free'), vertical_spacing = 0.085,\n",
    "                                    specs=[[{'type': 'scatter'}], [{'type': 'scatter'}], [{'type': 'scatter'}]])\n",
    "fig.add_trace(go.Scatter(x=food_options_perc_df['vegetarian_perc'], y=food_options_perc_df['reviews_per_restaurant'],\n",
    "                         marker=dict(size=np.sqrt(food_options_perc_df['total_restaurants']),\n",
    "                                     color=food_options_perc_df['reviews_per_restaurant']), mode='markers+text', showlegend=False,\n",
    "                         text=food_options_perc_df['municipio'], textposition='top center', textfont=dict(size=9),\n",
    "                         hoverlabel=dict(namelength=0), # removes the trace number off to the side of the tooltip box\n",
    "                         hovertemplate='%{text}:<br>%{x:.2f} vegetarian %<br>%{y:.1f} reviews p/restaurant'), row=1, col=1)\n",
    "fig.add_trace(go.Scatter(x=food_options_perc_df['vegan_perc'], y=food_options_perc_df['reviews_per_restaurant'],\n",
    "                         marker=dict(size=np.sqrt(food_options_perc_df['total_restaurants']),\n",
    "                                     color=food_options_perc_df['reviews_per_restaurant']), mode='markers+text', showlegend=False,\n",
    "                         text=food_options_perc_df['municipio'], textposition='top center', textfont=dict(size=9),\n",
    "                         hoverlabel=dict(namelength=0), # removes the trace number off to the side of the tooltip box\n",
    "                         hovertemplate='%{text}:<br>%{x:.2f} vegan %<br>%{y:.1f} reviews p/restaurant'), row=2, col=1)\n",
    "fig.add_trace(go.Scatter(x=food_options_perc_df['gluten_free_perc'], y=food_options_perc_df['reviews_per_restaurant'],\n",
    "                         marker=dict(size=np.sqrt(food_options_perc_df['total_restaurants']),\n",
    "                                     color=food_options_perc_df['reviews_per_restaurant']), mode='markers+text', showlegend=False,\n",
    "                         text=food_options_perc_df['municipio'], textposition='top center', textfont=dict(size=9),\n",
    "                         hoverlabel=dict(namelength=0), # removes the trace number off to the side of the tooltip box\n",
    "                         hovertemplate='%{text}:<br>%{x:.2f} gluten-free %<br>%{y:.1f} reviews p/restaurant'), row=3, col=1)\n",
    "fig.update_layout(title='Reviews per Restaurant based on Vegetarian %, Vegan %, and Gluten-Free %', title_x=0.5,\n",
    "                  width=1900, height=1000, margin=dict(l=10, r=10, t=80, b=10))\n",
    "fig['layout']['xaxis']['title'] = 'Vegetarian %'\n",
    "fig['layout']['xaxis2']['title'] = 'Vegan %'\n",
    "fig['layout']['xaxis3']['title'] = 'Gluten-Free %'\n",
    "fig.show()"
   ]
  },
  {
   "cell_type": "code",
   "execution_count": null,
   "metadata": {},
   "outputs": [],
   "source": []
  }
 ],
 "metadata": {
  "interpreter": {
   "hash": "d4eda2dc77b179c02344fcd511efb8bc5a8af3f9d745993c330649ece9f24390"
  },
  "kernelspec": {
   "display_name": "Python 3.8.10 ('cdngvnzt')",
   "language": "python",
   "name": "python3"
  },
  "language_info": {
   "codemirror_mode": {
    "name": "ipython",
    "version": 3
   },
   "file_extension": ".py",
   "mimetype": "text/x-python",
   "name": "python",
   "nbconvert_exporter": "python",
   "pygments_lexer": "ipython3",
   "version": "3.8.10"
  },
  "orig_nbformat": 4
 },
 "nbformat": 4,
 "nbformat_minor": 2
}
